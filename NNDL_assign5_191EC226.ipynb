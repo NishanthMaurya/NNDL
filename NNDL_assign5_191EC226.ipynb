{
  "nbformat": 4,
  "nbformat_minor": 0,
  "metadata": {
    "colab": {
      "name": "NNDL_assign5_191EC226.ipynb",
      "provenance": [],
      "collapsed_sections": []
    },
    "kernelspec": {
      "name": "python3",
      "display_name": "Python 3"
    },
    "language_info": {
      "name": "python"
    },
    "accelerator": "TPU",
    "widgets": {
      "application/vnd.jupyter.widget-state+json": {
        "5ffecc14381e4b339a0ae25277086817": {
          "model_module": "@jupyter-widgets/controls",
          "model_name": "HBoxModel",
          "model_module_version": "1.5.0",
          "state": {
            "_dom_classes": [],
            "_model_module": "@jupyter-widgets/controls",
            "_model_module_version": "1.5.0",
            "_model_name": "HBoxModel",
            "_view_count": null,
            "_view_module": "@jupyter-widgets/controls",
            "_view_module_version": "1.5.0",
            "_view_name": "HBoxView",
            "box_style": "",
            "children": [
              "IPY_MODEL_b6b4516721084b309e2830f1eaf3a80f",
              "IPY_MODEL_c7374768bcdc4c7d9b303afb03e131c8",
              "IPY_MODEL_1d74942bc3e7458f9e1a1a226b1081e9"
            ],
            "layout": "IPY_MODEL_9cbe3b7acbc248b5befb24ed17961721"
          }
        },
        "b6b4516721084b309e2830f1eaf3a80f": {
          "model_module": "@jupyter-widgets/controls",
          "model_name": "HTMLModel",
          "model_module_version": "1.5.0",
          "state": {
            "_dom_classes": [],
            "_model_module": "@jupyter-widgets/controls",
            "_model_module_version": "1.5.0",
            "_model_name": "HTMLModel",
            "_view_count": null,
            "_view_module": "@jupyter-widgets/controls",
            "_view_module_version": "1.5.0",
            "_view_name": "HTMLView",
            "description": "",
            "description_tooltip": null,
            "layout": "IPY_MODEL_5bb434f309c2476595708462c5dd377c",
            "placeholder": "​",
            "style": "IPY_MODEL_39d65bef567c4b0f863587d8a53e78f9",
            "value": "Epochs: 100%"
          }
        },
        "c7374768bcdc4c7d9b303afb03e131c8": {
          "model_module": "@jupyter-widgets/controls",
          "model_name": "FloatProgressModel",
          "model_module_version": "1.5.0",
          "state": {
            "_dom_classes": [],
            "_model_module": "@jupyter-widgets/controls",
            "_model_module_version": "1.5.0",
            "_model_name": "FloatProgressModel",
            "_view_count": null,
            "_view_module": "@jupyter-widgets/controls",
            "_view_module_version": "1.5.0",
            "_view_name": "ProgressView",
            "bar_style": "success",
            "description": "",
            "description_tooltip": null,
            "layout": "IPY_MODEL_a28543eb4ac3453ab619d31cb3f8bca2",
            "max": 3,
            "min": 0,
            "orientation": "horizontal",
            "style": "IPY_MODEL_5c3240ba70184fc1a39a63384278217f",
            "value": 3
          }
        },
        "1d74942bc3e7458f9e1a1a226b1081e9": {
          "model_module": "@jupyter-widgets/controls",
          "model_name": "HTMLModel",
          "model_module_version": "1.5.0",
          "state": {
            "_dom_classes": [],
            "_model_module": "@jupyter-widgets/controls",
            "_model_module_version": "1.5.0",
            "_model_name": "HTMLModel",
            "_view_count": null,
            "_view_module": "@jupyter-widgets/controls",
            "_view_module_version": "1.5.0",
            "_view_name": "HTMLView",
            "description": "",
            "description_tooltip": null,
            "layout": "IPY_MODEL_7dbf2e00b2804caba3a880f270d4a9a0",
            "placeholder": "​",
            "style": "IPY_MODEL_6b2a7f3c87f74e0ea211f2fb66ebdc0b",
            "value": " 3/3 [02:06&lt;00:00, 40.74s/it]"
          }
        },
        "9cbe3b7acbc248b5befb24ed17961721": {
          "model_module": "@jupyter-widgets/base",
          "model_name": "LayoutModel",
          "model_module_version": "1.2.0",
          "state": {
            "_model_module": "@jupyter-widgets/base",
            "_model_module_version": "1.2.0",
            "_model_name": "LayoutModel",
            "_view_count": null,
            "_view_module": "@jupyter-widgets/base",
            "_view_module_version": "1.2.0",
            "_view_name": "LayoutView",
            "align_content": null,
            "align_items": null,
            "align_self": null,
            "border": null,
            "bottom": null,
            "display": null,
            "flex": null,
            "flex_flow": null,
            "grid_area": null,
            "grid_auto_columns": null,
            "grid_auto_flow": null,
            "grid_auto_rows": null,
            "grid_column": null,
            "grid_gap": null,
            "grid_row": null,
            "grid_template_areas": null,
            "grid_template_columns": null,
            "grid_template_rows": null,
            "height": null,
            "justify_content": null,
            "justify_items": null,
            "left": null,
            "margin": null,
            "max_height": null,
            "max_width": null,
            "min_height": null,
            "min_width": null,
            "object_fit": null,
            "object_position": null,
            "order": null,
            "overflow": null,
            "overflow_x": null,
            "overflow_y": null,
            "padding": null,
            "right": null,
            "top": null,
            "visibility": null,
            "width": null
          }
        },
        "5bb434f309c2476595708462c5dd377c": {
          "model_module": "@jupyter-widgets/base",
          "model_name": "LayoutModel",
          "model_module_version": "1.2.0",
          "state": {
            "_model_module": "@jupyter-widgets/base",
            "_model_module_version": "1.2.0",
            "_model_name": "LayoutModel",
            "_view_count": null,
            "_view_module": "@jupyter-widgets/base",
            "_view_module_version": "1.2.0",
            "_view_name": "LayoutView",
            "align_content": null,
            "align_items": null,
            "align_self": null,
            "border": null,
            "bottom": null,
            "display": null,
            "flex": null,
            "flex_flow": null,
            "grid_area": null,
            "grid_auto_columns": null,
            "grid_auto_flow": null,
            "grid_auto_rows": null,
            "grid_column": null,
            "grid_gap": null,
            "grid_row": null,
            "grid_template_areas": null,
            "grid_template_columns": null,
            "grid_template_rows": null,
            "height": null,
            "justify_content": null,
            "justify_items": null,
            "left": null,
            "margin": null,
            "max_height": null,
            "max_width": null,
            "min_height": null,
            "min_width": null,
            "object_fit": null,
            "object_position": null,
            "order": null,
            "overflow": null,
            "overflow_x": null,
            "overflow_y": null,
            "padding": null,
            "right": null,
            "top": null,
            "visibility": null,
            "width": null
          }
        },
        "39d65bef567c4b0f863587d8a53e78f9": {
          "model_module": "@jupyter-widgets/controls",
          "model_name": "DescriptionStyleModel",
          "model_module_version": "1.5.0",
          "state": {
            "_model_module": "@jupyter-widgets/controls",
            "_model_module_version": "1.5.0",
            "_model_name": "DescriptionStyleModel",
            "_view_count": null,
            "_view_module": "@jupyter-widgets/base",
            "_view_module_version": "1.2.0",
            "_view_name": "StyleView",
            "description_width": ""
          }
        },
        "a28543eb4ac3453ab619d31cb3f8bca2": {
          "model_module": "@jupyter-widgets/base",
          "model_name": "LayoutModel",
          "model_module_version": "1.2.0",
          "state": {
            "_model_module": "@jupyter-widgets/base",
            "_model_module_version": "1.2.0",
            "_model_name": "LayoutModel",
            "_view_count": null,
            "_view_module": "@jupyter-widgets/base",
            "_view_module_version": "1.2.0",
            "_view_name": "LayoutView",
            "align_content": null,
            "align_items": null,
            "align_self": null,
            "border": null,
            "bottom": null,
            "display": null,
            "flex": null,
            "flex_flow": null,
            "grid_area": null,
            "grid_auto_columns": null,
            "grid_auto_flow": null,
            "grid_auto_rows": null,
            "grid_column": null,
            "grid_gap": null,
            "grid_row": null,
            "grid_template_areas": null,
            "grid_template_columns": null,
            "grid_template_rows": null,
            "height": null,
            "justify_content": null,
            "justify_items": null,
            "left": null,
            "margin": null,
            "max_height": null,
            "max_width": null,
            "min_height": null,
            "min_width": null,
            "object_fit": null,
            "object_position": null,
            "order": null,
            "overflow": null,
            "overflow_x": null,
            "overflow_y": null,
            "padding": null,
            "right": null,
            "top": null,
            "visibility": null,
            "width": null
          }
        },
        "5c3240ba70184fc1a39a63384278217f": {
          "model_module": "@jupyter-widgets/controls",
          "model_name": "ProgressStyleModel",
          "model_module_version": "1.5.0",
          "state": {
            "_model_module": "@jupyter-widgets/controls",
            "_model_module_version": "1.5.0",
            "_model_name": "ProgressStyleModel",
            "_view_count": null,
            "_view_module": "@jupyter-widgets/base",
            "_view_module_version": "1.2.0",
            "_view_name": "StyleView",
            "bar_color": null,
            "description_width": ""
          }
        },
        "7dbf2e00b2804caba3a880f270d4a9a0": {
          "model_module": "@jupyter-widgets/base",
          "model_name": "LayoutModel",
          "model_module_version": "1.2.0",
          "state": {
            "_model_module": "@jupyter-widgets/base",
            "_model_module_version": "1.2.0",
            "_model_name": "LayoutModel",
            "_view_count": null,
            "_view_module": "@jupyter-widgets/base",
            "_view_module_version": "1.2.0",
            "_view_name": "LayoutView",
            "align_content": null,
            "align_items": null,
            "align_self": null,
            "border": null,
            "bottom": null,
            "display": null,
            "flex": null,
            "flex_flow": null,
            "grid_area": null,
            "grid_auto_columns": null,
            "grid_auto_flow": null,
            "grid_auto_rows": null,
            "grid_column": null,
            "grid_gap": null,
            "grid_row": null,
            "grid_template_areas": null,
            "grid_template_columns": null,
            "grid_template_rows": null,
            "height": null,
            "justify_content": null,
            "justify_items": null,
            "left": null,
            "margin": null,
            "max_height": null,
            "max_width": null,
            "min_height": null,
            "min_width": null,
            "object_fit": null,
            "object_position": null,
            "order": null,
            "overflow": null,
            "overflow_x": null,
            "overflow_y": null,
            "padding": null,
            "right": null,
            "top": null,
            "visibility": null,
            "width": null
          }
        },
        "6b2a7f3c87f74e0ea211f2fb66ebdc0b": {
          "model_module": "@jupyter-widgets/controls",
          "model_name": "DescriptionStyleModel",
          "model_module_version": "1.5.0",
          "state": {
            "_model_module": "@jupyter-widgets/controls",
            "_model_module_version": "1.5.0",
            "_model_name": "DescriptionStyleModel",
            "_view_count": null,
            "_view_module": "@jupyter-widgets/base",
            "_view_module_version": "1.2.0",
            "_view_name": "StyleView",
            "description_width": ""
          }
        },
        "bbce1ef14a2d4738a27a5e9f849716d0": {
          "model_module": "@jupyter-widgets/controls",
          "model_name": "HBoxModel",
          "model_module_version": "1.5.0",
          "state": {
            "_dom_classes": [],
            "_model_module": "@jupyter-widgets/controls",
            "_model_module_version": "1.5.0",
            "_model_name": "HBoxModel",
            "_view_count": null,
            "_view_module": "@jupyter-widgets/controls",
            "_view_module_version": "1.5.0",
            "_view_name": "HBoxView",
            "box_style": "",
            "children": [
              "IPY_MODEL_4387e353cc5441489710c07217e58627",
              "IPY_MODEL_dcec3226e51d400dbbe1e389a351a686",
              "IPY_MODEL_a726f502c5274747a82daed3c3774a4e"
            ],
            "layout": "IPY_MODEL_f24b243165774a8492994ce4313a277c"
          }
        },
        "4387e353cc5441489710c07217e58627": {
          "model_module": "@jupyter-widgets/controls",
          "model_name": "HTMLModel",
          "model_module_version": "1.5.0",
          "state": {
            "_dom_classes": [],
            "_model_module": "@jupyter-widgets/controls",
            "_model_module_version": "1.5.0",
            "_model_name": "HTMLModel",
            "_view_count": null,
            "_view_module": "@jupyter-widgets/controls",
            "_view_module_version": "1.5.0",
            "_view_name": "HTMLView",
            "description": "",
            "description_tooltip": null,
            "layout": "IPY_MODEL_1333d379d57c4f1f9f0f8d3ddbd007a9",
            "placeholder": "​",
            "style": "IPY_MODEL_95aa02a07c4e4010acf7c16df2d45797",
            "value": "Current loss is: 1.79573: 100%"
          }
        },
        "dcec3226e51d400dbbe1e389a351a686": {
          "model_module": "@jupyter-widgets/controls",
          "model_name": "FloatProgressModel",
          "model_module_version": "1.5.0",
          "state": {
            "_dom_classes": [],
            "_model_module": "@jupyter-widgets/controls",
            "_model_module_version": "1.5.0",
            "_model_name": "FloatProgressModel",
            "_view_count": null,
            "_view_module": "@jupyter-widgets/controls",
            "_view_module_version": "1.5.0",
            "_view_name": "ProgressView",
            "bar_style": "",
            "description": "",
            "description_tooltip": null,
            "layout": "IPY_MODEL_9bd25ab09b0749e3a2b21d34e0a568f7",
            "max": 50,
            "min": 0,
            "orientation": "horizontal",
            "style": "IPY_MODEL_aca71fa8582a4d74b10fd1de8b83d0ad",
            "value": 50
          }
        },
        "a726f502c5274747a82daed3c3774a4e": {
          "model_module": "@jupyter-widgets/controls",
          "model_name": "HTMLModel",
          "model_module_version": "1.5.0",
          "state": {
            "_dom_classes": [],
            "_model_module": "@jupyter-widgets/controls",
            "_model_module_version": "1.5.0",
            "_model_name": "HTMLModel",
            "_view_count": null,
            "_view_module": "@jupyter-widgets/controls",
            "_view_module_version": "1.5.0",
            "_view_name": "HTMLView",
            "description": "",
            "description_tooltip": null,
            "layout": "IPY_MODEL_2b2647667f4145338aca072a74491358",
            "placeholder": "​",
            "style": "IPY_MODEL_32846a2063ec4ede9a4ebc0edfb6d45a",
            "value": " 50/50 [00:49&lt;00:00,  1.42s/it]"
          }
        },
        "f24b243165774a8492994ce4313a277c": {
          "model_module": "@jupyter-widgets/base",
          "model_name": "LayoutModel",
          "model_module_version": "1.2.0",
          "state": {
            "_model_module": "@jupyter-widgets/base",
            "_model_module_version": "1.2.0",
            "_model_name": "LayoutModel",
            "_view_count": null,
            "_view_module": "@jupyter-widgets/base",
            "_view_module_version": "1.2.0",
            "_view_name": "LayoutView",
            "align_content": null,
            "align_items": null,
            "align_self": null,
            "border": null,
            "bottom": null,
            "display": null,
            "flex": null,
            "flex_flow": null,
            "grid_area": null,
            "grid_auto_columns": null,
            "grid_auto_flow": null,
            "grid_auto_rows": null,
            "grid_column": null,
            "grid_gap": null,
            "grid_row": null,
            "grid_template_areas": null,
            "grid_template_columns": null,
            "grid_template_rows": null,
            "height": null,
            "justify_content": null,
            "justify_items": null,
            "left": null,
            "margin": null,
            "max_height": null,
            "max_width": null,
            "min_height": null,
            "min_width": null,
            "object_fit": null,
            "object_position": null,
            "order": null,
            "overflow": null,
            "overflow_x": null,
            "overflow_y": null,
            "padding": null,
            "right": null,
            "top": null,
            "visibility": null,
            "width": null
          }
        },
        "1333d379d57c4f1f9f0f8d3ddbd007a9": {
          "model_module": "@jupyter-widgets/base",
          "model_name": "LayoutModel",
          "model_module_version": "1.2.0",
          "state": {
            "_model_module": "@jupyter-widgets/base",
            "_model_module_version": "1.2.0",
            "_model_name": "LayoutModel",
            "_view_count": null,
            "_view_module": "@jupyter-widgets/base",
            "_view_module_version": "1.2.0",
            "_view_name": "LayoutView",
            "align_content": null,
            "align_items": null,
            "align_self": null,
            "border": null,
            "bottom": null,
            "display": null,
            "flex": null,
            "flex_flow": null,
            "grid_area": null,
            "grid_auto_columns": null,
            "grid_auto_flow": null,
            "grid_auto_rows": null,
            "grid_column": null,
            "grid_gap": null,
            "grid_row": null,
            "grid_template_areas": null,
            "grid_template_columns": null,
            "grid_template_rows": null,
            "height": null,
            "justify_content": null,
            "justify_items": null,
            "left": null,
            "margin": null,
            "max_height": null,
            "max_width": null,
            "min_height": null,
            "min_width": null,
            "object_fit": null,
            "object_position": null,
            "order": null,
            "overflow": null,
            "overflow_x": null,
            "overflow_y": null,
            "padding": null,
            "right": null,
            "top": null,
            "visibility": null,
            "width": null
          }
        },
        "95aa02a07c4e4010acf7c16df2d45797": {
          "model_module": "@jupyter-widgets/controls",
          "model_name": "DescriptionStyleModel",
          "model_module_version": "1.5.0",
          "state": {
            "_model_module": "@jupyter-widgets/controls",
            "_model_module_version": "1.5.0",
            "_model_name": "DescriptionStyleModel",
            "_view_count": null,
            "_view_module": "@jupyter-widgets/base",
            "_view_module_version": "1.2.0",
            "_view_name": "StyleView",
            "description_width": ""
          }
        },
        "9bd25ab09b0749e3a2b21d34e0a568f7": {
          "model_module": "@jupyter-widgets/base",
          "model_name": "LayoutModel",
          "model_module_version": "1.2.0",
          "state": {
            "_model_module": "@jupyter-widgets/base",
            "_model_module_version": "1.2.0",
            "_model_name": "LayoutModel",
            "_view_count": null,
            "_view_module": "@jupyter-widgets/base",
            "_view_module_version": "1.2.0",
            "_view_name": "LayoutView",
            "align_content": null,
            "align_items": null,
            "align_self": null,
            "border": null,
            "bottom": null,
            "display": null,
            "flex": null,
            "flex_flow": null,
            "grid_area": null,
            "grid_auto_columns": null,
            "grid_auto_flow": null,
            "grid_auto_rows": null,
            "grid_column": null,
            "grid_gap": null,
            "grid_row": null,
            "grid_template_areas": null,
            "grid_template_columns": null,
            "grid_template_rows": null,
            "height": null,
            "justify_content": null,
            "justify_items": null,
            "left": null,
            "margin": null,
            "max_height": null,
            "max_width": null,
            "min_height": null,
            "min_width": null,
            "object_fit": null,
            "object_position": null,
            "order": null,
            "overflow": null,
            "overflow_x": null,
            "overflow_y": null,
            "padding": null,
            "right": null,
            "top": null,
            "visibility": null,
            "width": null
          }
        },
        "aca71fa8582a4d74b10fd1de8b83d0ad": {
          "model_module": "@jupyter-widgets/controls",
          "model_name": "ProgressStyleModel",
          "model_module_version": "1.5.0",
          "state": {
            "_model_module": "@jupyter-widgets/controls",
            "_model_module_version": "1.5.0",
            "_model_name": "ProgressStyleModel",
            "_view_count": null,
            "_view_module": "@jupyter-widgets/base",
            "_view_module_version": "1.2.0",
            "_view_name": "StyleView",
            "bar_color": null,
            "description_width": ""
          }
        },
        "2b2647667f4145338aca072a74491358": {
          "model_module": "@jupyter-widgets/base",
          "model_name": "LayoutModel",
          "model_module_version": "1.2.0",
          "state": {
            "_model_module": "@jupyter-widgets/base",
            "_model_module_version": "1.2.0",
            "_model_name": "LayoutModel",
            "_view_count": null,
            "_view_module": "@jupyter-widgets/base",
            "_view_module_version": "1.2.0",
            "_view_name": "LayoutView",
            "align_content": null,
            "align_items": null,
            "align_self": null,
            "border": null,
            "bottom": null,
            "display": null,
            "flex": null,
            "flex_flow": null,
            "grid_area": null,
            "grid_auto_columns": null,
            "grid_auto_flow": null,
            "grid_auto_rows": null,
            "grid_column": null,
            "grid_gap": null,
            "grid_row": null,
            "grid_template_areas": null,
            "grid_template_columns": null,
            "grid_template_rows": null,
            "height": null,
            "justify_content": null,
            "justify_items": null,
            "left": null,
            "margin": null,
            "max_height": null,
            "max_width": null,
            "min_height": null,
            "min_width": null,
            "object_fit": null,
            "object_position": null,
            "order": null,
            "overflow": null,
            "overflow_x": null,
            "overflow_y": null,
            "padding": null,
            "right": null,
            "top": null,
            "visibility": null,
            "width": null
          }
        },
        "32846a2063ec4ede9a4ebc0edfb6d45a": {
          "model_module": "@jupyter-widgets/controls",
          "model_name": "DescriptionStyleModel",
          "model_module_version": "1.5.0",
          "state": {
            "_model_module": "@jupyter-widgets/controls",
            "_model_module_version": "1.5.0",
            "_model_name": "DescriptionStyleModel",
            "_view_count": null,
            "_view_module": "@jupyter-widgets/base",
            "_view_module_version": "1.2.0",
            "_view_name": "StyleView",
            "description_width": ""
          }
        },
        "50dfb203dbaa42ebb77226ee26204608": {
          "model_module": "@jupyter-widgets/controls",
          "model_name": "HBoxModel",
          "model_module_version": "1.5.0",
          "state": {
            "_dom_classes": [],
            "_model_module": "@jupyter-widgets/controls",
            "_model_module_version": "1.5.0",
            "_model_name": "HBoxModel",
            "_view_count": null,
            "_view_module": "@jupyter-widgets/controls",
            "_view_module_version": "1.5.0",
            "_view_name": "HBoxView",
            "box_style": "",
            "children": [
              "IPY_MODEL_dee4e52cb02f4675a512bfea75fce4d9",
              "IPY_MODEL_66503e6dba67498f9d6afb81f8cf5412",
              "IPY_MODEL_8b2dc3c0c0b24a4e89befd52e22b5aa6"
            ],
            "layout": "IPY_MODEL_b441286414294741bc31cfff5f206a8f"
          }
        },
        "dee4e52cb02f4675a512bfea75fce4d9": {
          "model_module": "@jupyter-widgets/controls",
          "model_name": "HTMLModel",
          "model_module_version": "1.5.0",
          "state": {
            "_dom_classes": [],
            "_model_module": "@jupyter-widgets/controls",
            "_model_module_version": "1.5.0",
            "_model_name": "HTMLModel",
            "_view_count": null,
            "_view_module": "@jupyter-widgets/controls",
            "_view_module_version": "1.5.0",
            "_view_name": "HTMLView",
            "description": "",
            "description_tooltip": null,
            "layout": "IPY_MODEL_7b4fd1a266f34fb598598362d1b10e25",
            "placeholder": "​",
            "style": "IPY_MODEL_0caf812e0d124f349cbf830d67898cfb",
            "value": "Current loss is: 1.79483: 100%"
          }
        },
        "66503e6dba67498f9d6afb81f8cf5412": {
          "model_module": "@jupyter-widgets/controls",
          "model_name": "FloatProgressModel",
          "model_module_version": "1.5.0",
          "state": {
            "_dom_classes": [],
            "_model_module": "@jupyter-widgets/controls",
            "_model_module_version": "1.5.0",
            "_model_name": "FloatProgressModel",
            "_view_count": null,
            "_view_module": "@jupyter-widgets/controls",
            "_view_module_version": "1.5.0",
            "_view_name": "ProgressView",
            "bar_style": "",
            "description": "",
            "description_tooltip": null,
            "layout": "IPY_MODEL_f07d854a94b8434c8d456c67adfa57c8",
            "max": 50,
            "min": 0,
            "orientation": "horizontal",
            "style": "IPY_MODEL_f6c89060fd774ad8a4cd611000f1e4fe",
            "value": 50
          }
        },
        "8b2dc3c0c0b24a4e89befd52e22b5aa6": {
          "model_module": "@jupyter-widgets/controls",
          "model_name": "HTMLModel",
          "model_module_version": "1.5.0",
          "state": {
            "_dom_classes": [],
            "_model_module": "@jupyter-widgets/controls",
            "_model_module_version": "1.5.0",
            "_model_name": "HTMLModel",
            "_view_count": null,
            "_view_module": "@jupyter-widgets/controls",
            "_view_module_version": "1.5.0",
            "_view_name": "HTMLView",
            "description": "",
            "description_tooltip": null,
            "layout": "IPY_MODEL_4caaaa86a49348f9bca6b4563e358354",
            "placeholder": "​",
            "style": "IPY_MODEL_3e8af3c8a02d4003bca3af891167b15c",
            "value": " 50/50 [00:38&lt;00:00,  1.34it/s]"
          }
        },
        "b441286414294741bc31cfff5f206a8f": {
          "model_module": "@jupyter-widgets/base",
          "model_name": "LayoutModel",
          "model_module_version": "1.2.0",
          "state": {
            "_model_module": "@jupyter-widgets/base",
            "_model_module_version": "1.2.0",
            "_model_name": "LayoutModel",
            "_view_count": null,
            "_view_module": "@jupyter-widgets/base",
            "_view_module_version": "1.2.0",
            "_view_name": "LayoutView",
            "align_content": null,
            "align_items": null,
            "align_self": null,
            "border": null,
            "bottom": null,
            "display": null,
            "flex": null,
            "flex_flow": null,
            "grid_area": null,
            "grid_auto_columns": null,
            "grid_auto_flow": null,
            "grid_auto_rows": null,
            "grid_column": null,
            "grid_gap": null,
            "grid_row": null,
            "grid_template_areas": null,
            "grid_template_columns": null,
            "grid_template_rows": null,
            "height": null,
            "justify_content": null,
            "justify_items": null,
            "left": null,
            "margin": null,
            "max_height": null,
            "max_width": null,
            "min_height": null,
            "min_width": null,
            "object_fit": null,
            "object_position": null,
            "order": null,
            "overflow": null,
            "overflow_x": null,
            "overflow_y": null,
            "padding": null,
            "right": null,
            "top": null,
            "visibility": null,
            "width": null
          }
        },
        "7b4fd1a266f34fb598598362d1b10e25": {
          "model_module": "@jupyter-widgets/base",
          "model_name": "LayoutModel",
          "model_module_version": "1.2.0",
          "state": {
            "_model_module": "@jupyter-widgets/base",
            "_model_module_version": "1.2.0",
            "_model_name": "LayoutModel",
            "_view_count": null,
            "_view_module": "@jupyter-widgets/base",
            "_view_module_version": "1.2.0",
            "_view_name": "LayoutView",
            "align_content": null,
            "align_items": null,
            "align_self": null,
            "border": null,
            "bottom": null,
            "display": null,
            "flex": null,
            "flex_flow": null,
            "grid_area": null,
            "grid_auto_columns": null,
            "grid_auto_flow": null,
            "grid_auto_rows": null,
            "grid_column": null,
            "grid_gap": null,
            "grid_row": null,
            "grid_template_areas": null,
            "grid_template_columns": null,
            "grid_template_rows": null,
            "height": null,
            "justify_content": null,
            "justify_items": null,
            "left": null,
            "margin": null,
            "max_height": null,
            "max_width": null,
            "min_height": null,
            "min_width": null,
            "object_fit": null,
            "object_position": null,
            "order": null,
            "overflow": null,
            "overflow_x": null,
            "overflow_y": null,
            "padding": null,
            "right": null,
            "top": null,
            "visibility": null,
            "width": null
          }
        },
        "0caf812e0d124f349cbf830d67898cfb": {
          "model_module": "@jupyter-widgets/controls",
          "model_name": "DescriptionStyleModel",
          "model_module_version": "1.5.0",
          "state": {
            "_model_module": "@jupyter-widgets/controls",
            "_model_module_version": "1.5.0",
            "_model_name": "DescriptionStyleModel",
            "_view_count": null,
            "_view_module": "@jupyter-widgets/base",
            "_view_module_version": "1.2.0",
            "_view_name": "StyleView",
            "description_width": ""
          }
        },
        "f07d854a94b8434c8d456c67adfa57c8": {
          "model_module": "@jupyter-widgets/base",
          "model_name": "LayoutModel",
          "model_module_version": "1.2.0",
          "state": {
            "_model_module": "@jupyter-widgets/base",
            "_model_module_version": "1.2.0",
            "_model_name": "LayoutModel",
            "_view_count": null,
            "_view_module": "@jupyter-widgets/base",
            "_view_module_version": "1.2.0",
            "_view_name": "LayoutView",
            "align_content": null,
            "align_items": null,
            "align_self": null,
            "border": null,
            "bottom": null,
            "display": null,
            "flex": null,
            "flex_flow": null,
            "grid_area": null,
            "grid_auto_columns": null,
            "grid_auto_flow": null,
            "grid_auto_rows": null,
            "grid_column": null,
            "grid_gap": null,
            "grid_row": null,
            "grid_template_areas": null,
            "grid_template_columns": null,
            "grid_template_rows": null,
            "height": null,
            "justify_content": null,
            "justify_items": null,
            "left": null,
            "margin": null,
            "max_height": null,
            "max_width": null,
            "min_height": null,
            "min_width": null,
            "object_fit": null,
            "object_position": null,
            "order": null,
            "overflow": null,
            "overflow_x": null,
            "overflow_y": null,
            "padding": null,
            "right": null,
            "top": null,
            "visibility": null,
            "width": null
          }
        },
        "f6c89060fd774ad8a4cd611000f1e4fe": {
          "model_module": "@jupyter-widgets/controls",
          "model_name": "ProgressStyleModel",
          "model_module_version": "1.5.0",
          "state": {
            "_model_module": "@jupyter-widgets/controls",
            "_model_module_version": "1.5.0",
            "_model_name": "ProgressStyleModel",
            "_view_count": null,
            "_view_module": "@jupyter-widgets/base",
            "_view_module_version": "1.2.0",
            "_view_name": "StyleView",
            "bar_color": null,
            "description_width": ""
          }
        },
        "4caaaa86a49348f9bca6b4563e358354": {
          "model_module": "@jupyter-widgets/base",
          "model_name": "LayoutModel",
          "model_module_version": "1.2.0",
          "state": {
            "_model_module": "@jupyter-widgets/base",
            "_model_module_version": "1.2.0",
            "_model_name": "LayoutModel",
            "_view_count": null,
            "_view_module": "@jupyter-widgets/base",
            "_view_module_version": "1.2.0",
            "_view_name": "LayoutView",
            "align_content": null,
            "align_items": null,
            "align_self": null,
            "border": null,
            "bottom": null,
            "display": null,
            "flex": null,
            "flex_flow": null,
            "grid_area": null,
            "grid_auto_columns": null,
            "grid_auto_flow": null,
            "grid_auto_rows": null,
            "grid_column": null,
            "grid_gap": null,
            "grid_row": null,
            "grid_template_areas": null,
            "grid_template_columns": null,
            "grid_template_rows": null,
            "height": null,
            "justify_content": null,
            "justify_items": null,
            "left": null,
            "margin": null,
            "max_height": null,
            "max_width": null,
            "min_height": null,
            "min_width": null,
            "object_fit": null,
            "object_position": null,
            "order": null,
            "overflow": null,
            "overflow_x": null,
            "overflow_y": null,
            "padding": null,
            "right": null,
            "top": null,
            "visibility": null,
            "width": null
          }
        },
        "3e8af3c8a02d4003bca3af891167b15c": {
          "model_module": "@jupyter-widgets/controls",
          "model_name": "DescriptionStyleModel",
          "model_module_version": "1.5.0",
          "state": {
            "_model_module": "@jupyter-widgets/controls",
            "_model_module_version": "1.5.0",
            "_model_name": "DescriptionStyleModel",
            "_view_count": null,
            "_view_module": "@jupyter-widgets/base",
            "_view_module_version": "1.2.0",
            "_view_name": "StyleView",
            "description_width": ""
          }
        },
        "4a9c5f1dff9a480d8c51403ec529a49b": {
          "model_module": "@jupyter-widgets/controls",
          "model_name": "HBoxModel",
          "model_module_version": "1.5.0",
          "state": {
            "_dom_classes": [],
            "_model_module": "@jupyter-widgets/controls",
            "_model_module_version": "1.5.0",
            "_model_name": "HBoxModel",
            "_view_count": null,
            "_view_module": "@jupyter-widgets/controls",
            "_view_module_version": "1.5.0",
            "_view_name": "HBoxView",
            "box_style": "",
            "children": [
              "IPY_MODEL_b7ad032d16aa4f79b22e70f651136952",
              "IPY_MODEL_67bde846d11049079d92e825c6369f6b",
              "IPY_MODEL_210c463be1d040e78c9b0d1a61b32320"
            ],
            "layout": "IPY_MODEL_c7b9d76c297640d287ea51bb9c451787"
          }
        },
        "b7ad032d16aa4f79b22e70f651136952": {
          "model_module": "@jupyter-widgets/controls",
          "model_name": "HTMLModel",
          "model_module_version": "1.5.0",
          "state": {
            "_dom_classes": [],
            "_model_module": "@jupyter-widgets/controls",
            "_model_module_version": "1.5.0",
            "_model_name": "HTMLModel",
            "_view_count": null,
            "_view_module": "@jupyter-widgets/controls",
            "_view_module_version": "1.5.0",
            "_view_name": "HTMLView",
            "description": "",
            "description_tooltip": null,
            "layout": "IPY_MODEL_80ec128cfcb6455e8742c020063d8350",
            "placeholder": "​",
            "style": "IPY_MODEL_2c9dae5461e246a2bf28dee1ceabc57e",
            "value": "Current loss is: 1.79407: 100%"
          }
        },
        "67bde846d11049079d92e825c6369f6b": {
          "model_module": "@jupyter-widgets/controls",
          "model_name": "FloatProgressModel",
          "model_module_version": "1.5.0",
          "state": {
            "_dom_classes": [],
            "_model_module": "@jupyter-widgets/controls",
            "_model_module_version": "1.5.0",
            "_model_name": "FloatProgressModel",
            "_view_count": null,
            "_view_module": "@jupyter-widgets/controls",
            "_view_module_version": "1.5.0",
            "_view_name": "ProgressView",
            "bar_style": "",
            "description": "",
            "description_tooltip": null,
            "layout": "IPY_MODEL_51e5c8e246ee45dbb4e5fd8a546b4aad",
            "max": 50,
            "min": 0,
            "orientation": "horizontal",
            "style": "IPY_MODEL_a5b3a815ce9f4278b9b3518a2b915a8f",
            "value": 50
          }
        },
        "210c463be1d040e78c9b0d1a61b32320": {
          "model_module": "@jupyter-widgets/controls",
          "model_name": "HTMLModel",
          "model_module_version": "1.5.0",
          "state": {
            "_dom_classes": [],
            "_model_module": "@jupyter-widgets/controls",
            "_model_module_version": "1.5.0",
            "_model_name": "HTMLModel",
            "_view_count": null,
            "_view_module": "@jupyter-widgets/controls",
            "_view_module_version": "1.5.0",
            "_view_name": "HTMLView",
            "description": "",
            "description_tooltip": null,
            "layout": "IPY_MODEL_f7b97c853f994b9eb87ebb48f8dd3ba9",
            "placeholder": "​",
            "style": "IPY_MODEL_605432b1182a4df0864d12c794c64b37",
            "value": " 50/50 [00:38&lt;00:00,  1.32it/s]"
          }
        },
        "c7b9d76c297640d287ea51bb9c451787": {
          "model_module": "@jupyter-widgets/base",
          "model_name": "LayoutModel",
          "model_module_version": "1.2.0",
          "state": {
            "_model_module": "@jupyter-widgets/base",
            "_model_module_version": "1.2.0",
            "_model_name": "LayoutModel",
            "_view_count": null,
            "_view_module": "@jupyter-widgets/base",
            "_view_module_version": "1.2.0",
            "_view_name": "LayoutView",
            "align_content": null,
            "align_items": null,
            "align_self": null,
            "border": null,
            "bottom": null,
            "display": null,
            "flex": null,
            "flex_flow": null,
            "grid_area": null,
            "grid_auto_columns": null,
            "grid_auto_flow": null,
            "grid_auto_rows": null,
            "grid_column": null,
            "grid_gap": null,
            "grid_row": null,
            "grid_template_areas": null,
            "grid_template_columns": null,
            "grid_template_rows": null,
            "height": null,
            "justify_content": null,
            "justify_items": null,
            "left": null,
            "margin": null,
            "max_height": null,
            "max_width": null,
            "min_height": null,
            "min_width": null,
            "object_fit": null,
            "object_position": null,
            "order": null,
            "overflow": null,
            "overflow_x": null,
            "overflow_y": null,
            "padding": null,
            "right": null,
            "top": null,
            "visibility": null,
            "width": null
          }
        },
        "80ec128cfcb6455e8742c020063d8350": {
          "model_module": "@jupyter-widgets/base",
          "model_name": "LayoutModel",
          "model_module_version": "1.2.0",
          "state": {
            "_model_module": "@jupyter-widgets/base",
            "_model_module_version": "1.2.0",
            "_model_name": "LayoutModel",
            "_view_count": null,
            "_view_module": "@jupyter-widgets/base",
            "_view_module_version": "1.2.0",
            "_view_name": "LayoutView",
            "align_content": null,
            "align_items": null,
            "align_self": null,
            "border": null,
            "bottom": null,
            "display": null,
            "flex": null,
            "flex_flow": null,
            "grid_area": null,
            "grid_auto_columns": null,
            "grid_auto_flow": null,
            "grid_auto_rows": null,
            "grid_column": null,
            "grid_gap": null,
            "grid_row": null,
            "grid_template_areas": null,
            "grid_template_columns": null,
            "grid_template_rows": null,
            "height": null,
            "justify_content": null,
            "justify_items": null,
            "left": null,
            "margin": null,
            "max_height": null,
            "max_width": null,
            "min_height": null,
            "min_width": null,
            "object_fit": null,
            "object_position": null,
            "order": null,
            "overflow": null,
            "overflow_x": null,
            "overflow_y": null,
            "padding": null,
            "right": null,
            "top": null,
            "visibility": null,
            "width": null
          }
        },
        "2c9dae5461e246a2bf28dee1ceabc57e": {
          "model_module": "@jupyter-widgets/controls",
          "model_name": "DescriptionStyleModel",
          "model_module_version": "1.5.0",
          "state": {
            "_model_module": "@jupyter-widgets/controls",
            "_model_module_version": "1.5.0",
            "_model_name": "DescriptionStyleModel",
            "_view_count": null,
            "_view_module": "@jupyter-widgets/base",
            "_view_module_version": "1.2.0",
            "_view_name": "StyleView",
            "description_width": ""
          }
        },
        "51e5c8e246ee45dbb4e5fd8a546b4aad": {
          "model_module": "@jupyter-widgets/base",
          "model_name": "LayoutModel",
          "model_module_version": "1.2.0",
          "state": {
            "_model_module": "@jupyter-widgets/base",
            "_model_module_version": "1.2.0",
            "_model_name": "LayoutModel",
            "_view_count": null,
            "_view_module": "@jupyter-widgets/base",
            "_view_module_version": "1.2.0",
            "_view_name": "LayoutView",
            "align_content": null,
            "align_items": null,
            "align_self": null,
            "border": null,
            "bottom": null,
            "display": null,
            "flex": null,
            "flex_flow": null,
            "grid_area": null,
            "grid_auto_columns": null,
            "grid_auto_flow": null,
            "grid_auto_rows": null,
            "grid_column": null,
            "grid_gap": null,
            "grid_row": null,
            "grid_template_areas": null,
            "grid_template_columns": null,
            "grid_template_rows": null,
            "height": null,
            "justify_content": null,
            "justify_items": null,
            "left": null,
            "margin": null,
            "max_height": null,
            "max_width": null,
            "min_height": null,
            "min_width": null,
            "object_fit": null,
            "object_position": null,
            "order": null,
            "overflow": null,
            "overflow_x": null,
            "overflow_y": null,
            "padding": null,
            "right": null,
            "top": null,
            "visibility": null,
            "width": null
          }
        },
        "a5b3a815ce9f4278b9b3518a2b915a8f": {
          "model_module": "@jupyter-widgets/controls",
          "model_name": "ProgressStyleModel",
          "model_module_version": "1.5.0",
          "state": {
            "_model_module": "@jupyter-widgets/controls",
            "_model_module_version": "1.5.0",
            "_model_name": "ProgressStyleModel",
            "_view_count": null,
            "_view_module": "@jupyter-widgets/base",
            "_view_module_version": "1.2.0",
            "_view_name": "StyleView",
            "bar_color": null,
            "description_width": ""
          }
        },
        "f7b97c853f994b9eb87ebb48f8dd3ba9": {
          "model_module": "@jupyter-widgets/base",
          "model_name": "LayoutModel",
          "model_module_version": "1.2.0",
          "state": {
            "_model_module": "@jupyter-widgets/base",
            "_model_module_version": "1.2.0",
            "_model_name": "LayoutModel",
            "_view_count": null,
            "_view_module": "@jupyter-widgets/base",
            "_view_module_version": "1.2.0",
            "_view_name": "LayoutView",
            "align_content": null,
            "align_items": null,
            "align_self": null,
            "border": null,
            "bottom": null,
            "display": null,
            "flex": null,
            "flex_flow": null,
            "grid_area": null,
            "grid_auto_columns": null,
            "grid_auto_flow": null,
            "grid_auto_rows": null,
            "grid_column": null,
            "grid_gap": null,
            "grid_row": null,
            "grid_template_areas": null,
            "grid_template_columns": null,
            "grid_template_rows": null,
            "height": null,
            "justify_content": null,
            "justify_items": null,
            "left": null,
            "margin": null,
            "max_height": null,
            "max_width": null,
            "min_height": null,
            "min_width": null,
            "object_fit": null,
            "object_position": null,
            "order": null,
            "overflow": null,
            "overflow_x": null,
            "overflow_y": null,
            "padding": null,
            "right": null,
            "top": null,
            "visibility": null,
            "width": null
          }
        },
        "605432b1182a4df0864d12c794c64b37": {
          "model_module": "@jupyter-widgets/controls",
          "model_name": "DescriptionStyleModel",
          "model_module_version": "1.5.0",
          "state": {
            "_model_module": "@jupyter-widgets/controls",
            "_model_module_version": "1.5.0",
            "_model_name": "DescriptionStyleModel",
            "_view_count": null,
            "_view_module": "@jupyter-widgets/base",
            "_view_module_version": "1.2.0",
            "_view_name": "StyleView",
            "description_width": ""
          }
        },
        "e715cfce050548779ed839994ecaaae6": {
          "model_module": "@jupyter-widgets/controls",
          "model_name": "HBoxModel",
          "model_module_version": "1.5.0",
          "state": {
            "_dom_classes": [],
            "_model_module": "@jupyter-widgets/controls",
            "_model_module_version": "1.5.0",
            "_model_name": "HBoxModel",
            "_view_count": null,
            "_view_module": "@jupyter-widgets/controls",
            "_view_module_version": "1.5.0",
            "_view_name": "HBoxView",
            "box_style": "",
            "children": [
              "IPY_MODEL_c0d2f09d2b404d24b91934e670d81527",
              "IPY_MODEL_a2504267ce0b4c4ab0e0b6b313cad94f",
              "IPY_MODEL_d2d23e716d5c4e999e226cd5764b820a"
            ],
            "layout": "IPY_MODEL_0256ece1e0df4e9e8faf9fab1fefbcf9"
          }
        },
        "c0d2f09d2b404d24b91934e670d81527": {
          "model_module": "@jupyter-widgets/controls",
          "model_name": "HTMLModel",
          "model_module_version": "1.5.0",
          "state": {
            "_dom_classes": [],
            "_model_module": "@jupyter-widgets/controls",
            "_model_module_version": "1.5.0",
            "_model_name": "HTMLModel",
            "_view_count": null,
            "_view_module": "@jupyter-widgets/controls",
            "_view_module_version": "1.5.0",
            "_view_name": "HTMLView",
            "description": "",
            "description_tooltip": null,
            "layout": "IPY_MODEL_851f6d6dede44029b48cfb0caba8c26f",
            "placeholder": "​",
            "style": "IPY_MODEL_3d2d06c97b2b4a3592be5d4eb83d150c",
            "value": "100%"
          }
        },
        "a2504267ce0b4c4ab0e0b6b313cad94f": {
          "model_module": "@jupyter-widgets/controls",
          "model_name": "FloatProgressModel",
          "model_module_version": "1.5.0",
          "state": {
            "_dom_classes": [],
            "_model_module": "@jupyter-widgets/controls",
            "_model_module_version": "1.5.0",
            "_model_name": "FloatProgressModel",
            "_view_count": null,
            "_view_module": "@jupyter-widgets/controls",
            "_view_module_version": "1.5.0",
            "_view_name": "ProgressView",
            "bar_style": "success",
            "description": "",
            "description_tooltip": null,
            "layout": "IPY_MODEL_5ad3279d2c8a4dd9895d89d1a11d3d75",
            "max": 50,
            "min": 0,
            "orientation": "horizontal",
            "style": "IPY_MODEL_95c1dcffb7a4485e9b74f28a9677d05a",
            "value": 50
          }
        },
        "d2d23e716d5c4e999e226cd5764b820a": {
          "model_module": "@jupyter-widgets/controls",
          "model_name": "HTMLModel",
          "model_module_version": "1.5.0",
          "state": {
            "_dom_classes": [],
            "_model_module": "@jupyter-widgets/controls",
            "_model_module_version": "1.5.0",
            "_model_name": "HTMLModel",
            "_view_count": null,
            "_view_module": "@jupyter-widgets/controls",
            "_view_module_version": "1.5.0",
            "_view_name": "HTMLView",
            "description": "",
            "description_tooltip": null,
            "layout": "IPY_MODEL_c0a7e2535f0d4c7ab6d1d5e94b6bfeb8",
            "placeholder": "​",
            "style": "IPY_MODEL_185c8b580a0e44e18c7d0239a2b2744e",
            "value": " 50/50 [00:22&lt;00:00,  2.70it/s]"
          }
        },
        "0256ece1e0df4e9e8faf9fab1fefbcf9": {
          "model_module": "@jupyter-widgets/base",
          "model_name": "LayoutModel",
          "model_module_version": "1.2.0",
          "state": {
            "_model_module": "@jupyter-widgets/base",
            "_model_module_version": "1.2.0",
            "_model_name": "LayoutModel",
            "_view_count": null,
            "_view_module": "@jupyter-widgets/base",
            "_view_module_version": "1.2.0",
            "_view_name": "LayoutView",
            "align_content": null,
            "align_items": null,
            "align_self": null,
            "border": null,
            "bottom": null,
            "display": null,
            "flex": null,
            "flex_flow": null,
            "grid_area": null,
            "grid_auto_columns": null,
            "grid_auto_flow": null,
            "grid_auto_rows": null,
            "grid_column": null,
            "grid_gap": null,
            "grid_row": null,
            "grid_template_areas": null,
            "grid_template_columns": null,
            "grid_template_rows": null,
            "height": null,
            "justify_content": null,
            "justify_items": null,
            "left": null,
            "margin": null,
            "max_height": null,
            "max_width": null,
            "min_height": null,
            "min_width": null,
            "object_fit": null,
            "object_position": null,
            "order": null,
            "overflow": null,
            "overflow_x": null,
            "overflow_y": null,
            "padding": null,
            "right": null,
            "top": null,
            "visibility": null,
            "width": null
          }
        },
        "851f6d6dede44029b48cfb0caba8c26f": {
          "model_module": "@jupyter-widgets/base",
          "model_name": "LayoutModel",
          "model_module_version": "1.2.0",
          "state": {
            "_model_module": "@jupyter-widgets/base",
            "_model_module_version": "1.2.0",
            "_model_name": "LayoutModel",
            "_view_count": null,
            "_view_module": "@jupyter-widgets/base",
            "_view_module_version": "1.2.0",
            "_view_name": "LayoutView",
            "align_content": null,
            "align_items": null,
            "align_self": null,
            "border": null,
            "bottom": null,
            "display": null,
            "flex": null,
            "flex_flow": null,
            "grid_area": null,
            "grid_auto_columns": null,
            "grid_auto_flow": null,
            "grid_auto_rows": null,
            "grid_column": null,
            "grid_gap": null,
            "grid_row": null,
            "grid_template_areas": null,
            "grid_template_columns": null,
            "grid_template_rows": null,
            "height": null,
            "justify_content": null,
            "justify_items": null,
            "left": null,
            "margin": null,
            "max_height": null,
            "max_width": null,
            "min_height": null,
            "min_width": null,
            "object_fit": null,
            "object_position": null,
            "order": null,
            "overflow": null,
            "overflow_x": null,
            "overflow_y": null,
            "padding": null,
            "right": null,
            "top": null,
            "visibility": null,
            "width": null
          }
        },
        "3d2d06c97b2b4a3592be5d4eb83d150c": {
          "model_module": "@jupyter-widgets/controls",
          "model_name": "DescriptionStyleModel",
          "model_module_version": "1.5.0",
          "state": {
            "_model_module": "@jupyter-widgets/controls",
            "_model_module_version": "1.5.0",
            "_model_name": "DescriptionStyleModel",
            "_view_count": null,
            "_view_module": "@jupyter-widgets/base",
            "_view_module_version": "1.2.0",
            "_view_name": "StyleView",
            "description_width": ""
          }
        },
        "5ad3279d2c8a4dd9895d89d1a11d3d75": {
          "model_module": "@jupyter-widgets/base",
          "model_name": "LayoutModel",
          "model_module_version": "1.2.0",
          "state": {
            "_model_module": "@jupyter-widgets/base",
            "_model_module_version": "1.2.0",
            "_model_name": "LayoutModel",
            "_view_count": null,
            "_view_module": "@jupyter-widgets/base",
            "_view_module_version": "1.2.0",
            "_view_name": "LayoutView",
            "align_content": null,
            "align_items": null,
            "align_self": null,
            "border": null,
            "bottom": null,
            "display": null,
            "flex": null,
            "flex_flow": null,
            "grid_area": null,
            "grid_auto_columns": null,
            "grid_auto_flow": null,
            "grid_auto_rows": null,
            "grid_column": null,
            "grid_gap": null,
            "grid_row": null,
            "grid_template_areas": null,
            "grid_template_columns": null,
            "grid_template_rows": null,
            "height": null,
            "justify_content": null,
            "justify_items": null,
            "left": null,
            "margin": null,
            "max_height": null,
            "max_width": null,
            "min_height": null,
            "min_width": null,
            "object_fit": null,
            "object_position": null,
            "order": null,
            "overflow": null,
            "overflow_x": null,
            "overflow_y": null,
            "padding": null,
            "right": null,
            "top": null,
            "visibility": null,
            "width": null
          }
        },
        "95c1dcffb7a4485e9b74f28a9677d05a": {
          "model_module": "@jupyter-widgets/controls",
          "model_name": "ProgressStyleModel",
          "model_module_version": "1.5.0",
          "state": {
            "_model_module": "@jupyter-widgets/controls",
            "_model_module_version": "1.5.0",
            "_model_name": "ProgressStyleModel",
            "_view_count": null,
            "_view_module": "@jupyter-widgets/base",
            "_view_module_version": "1.2.0",
            "_view_name": "StyleView",
            "bar_color": null,
            "description_width": ""
          }
        },
        "c0a7e2535f0d4c7ab6d1d5e94b6bfeb8": {
          "model_module": "@jupyter-widgets/base",
          "model_name": "LayoutModel",
          "model_module_version": "1.2.0",
          "state": {
            "_model_module": "@jupyter-widgets/base",
            "_model_module_version": "1.2.0",
            "_model_name": "LayoutModel",
            "_view_count": null,
            "_view_module": "@jupyter-widgets/base",
            "_view_module_version": "1.2.0",
            "_view_name": "LayoutView",
            "align_content": null,
            "align_items": null,
            "align_self": null,
            "border": null,
            "bottom": null,
            "display": null,
            "flex": null,
            "flex_flow": null,
            "grid_area": null,
            "grid_auto_columns": null,
            "grid_auto_flow": null,
            "grid_auto_rows": null,
            "grid_column": null,
            "grid_gap": null,
            "grid_row": null,
            "grid_template_areas": null,
            "grid_template_columns": null,
            "grid_template_rows": null,
            "height": null,
            "justify_content": null,
            "justify_items": null,
            "left": null,
            "margin": null,
            "max_height": null,
            "max_width": null,
            "min_height": null,
            "min_width": null,
            "object_fit": null,
            "object_position": null,
            "order": null,
            "overflow": null,
            "overflow_x": null,
            "overflow_y": null,
            "padding": null,
            "right": null,
            "top": null,
            "visibility": null,
            "width": null
          }
        },
        "185c8b580a0e44e18c7d0239a2b2744e": {
          "model_module": "@jupyter-widgets/controls",
          "model_name": "DescriptionStyleModel",
          "model_module_version": "1.5.0",
          "state": {
            "_model_module": "@jupyter-widgets/controls",
            "_model_module_version": "1.5.0",
            "_model_name": "DescriptionStyleModel",
            "_view_count": null,
            "_view_module": "@jupyter-widgets/base",
            "_view_module_version": "1.2.0",
            "_view_name": "StyleView",
            "description_width": ""
          }
        },
        "971034fe3e8d458ba4510c2c49927408": {
          "model_module": "@jupyter-widgets/controls",
          "model_name": "HBoxModel",
          "model_module_version": "1.5.0",
          "state": {
            "_dom_classes": [],
            "_model_module": "@jupyter-widgets/controls",
            "_model_module_version": "1.5.0",
            "_model_name": "HBoxModel",
            "_view_count": null,
            "_view_module": "@jupyter-widgets/controls",
            "_view_module_version": "1.5.0",
            "_view_name": "HBoxView",
            "box_style": "",
            "children": [
              "IPY_MODEL_b08e78d0c8f04cf48bb378da0cfbc281",
              "IPY_MODEL_250d73bbabd346fdb16235b5f921d959",
              "IPY_MODEL_4c53e2db68c242b184ad01f000e7b1af"
            ],
            "layout": "IPY_MODEL_69dfdb2d63c24b65937afae3d2d4ca6d"
          }
        },
        "b08e78d0c8f04cf48bb378da0cfbc281": {
          "model_module": "@jupyter-widgets/controls",
          "model_name": "HTMLModel",
          "model_module_version": "1.5.0",
          "state": {
            "_dom_classes": [],
            "_model_module": "@jupyter-widgets/controls",
            "_model_module_version": "1.5.0",
            "_model_name": "HTMLModel",
            "_view_count": null,
            "_view_module": "@jupyter-widgets/controls",
            "_view_module_version": "1.5.0",
            "_view_name": "HTMLView",
            "description": "",
            "description_tooltip": null,
            "layout": "IPY_MODEL_b20defe0eea147a99ad86a70577f9ff5",
            "placeholder": "​",
            "style": "IPY_MODEL_212f2f0578784f529ee5fb6280124c82",
            "value": "100%"
          }
        },
        "250d73bbabd346fdb16235b5f921d959": {
          "model_module": "@jupyter-widgets/controls",
          "model_name": "FloatProgressModel",
          "model_module_version": "1.5.0",
          "state": {
            "_dom_classes": [],
            "_model_module": "@jupyter-widgets/controls",
            "_model_module_version": "1.5.0",
            "_model_name": "FloatProgressModel",
            "_view_count": null,
            "_view_module": "@jupyter-widgets/controls",
            "_view_module_version": "1.5.0",
            "_view_name": "ProgressView",
            "bar_style": "success",
            "description": "",
            "description_tooltip": null,
            "layout": "IPY_MODEL_7e53725fac5c437291e429f4d9c538e6",
            "max": 100,
            "min": 0,
            "orientation": "horizontal",
            "style": "IPY_MODEL_09813a958c0e4da197605a1333191bd3",
            "value": 100
          }
        },
        "4c53e2db68c242b184ad01f000e7b1af": {
          "model_module": "@jupyter-widgets/controls",
          "model_name": "HTMLModel",
          "model_module_version": "1.5.0",
          "state": {
            "_dom_classes": [],
            "_model_module": "@jupyter-widgets/controls",
            "_model_module_version": "1.5.0",
            "_model_name": "HTMLModel",
            "_view_count": null,
            "_view_module": "@jupyter-widgets/controls",
            "_view_module_version": "1.5.0",
            "_view_name": "HTMLView",
            "description": "",
            "description_tooltip": null,
            "layout": "IPY_MODEL_472dd0649d9f4e8b805f85df63fd9795",
            "placeholder": "​",
            "style": "IPY_MODEL_c4bd154dabe34424ad27b4e7d3f91e68",
            "value": " 100/100 [07:26&lt;00:00,  4.59s/epoch, loss=0.0102]"
          }
        },
        "69dfdb2d63c24b65937afae3d2d4ca6d": {
          "model_module": "@jupyter-widgets/base",
          "model_name": "LayoutModel",
          "model_module_version": "1.2.0",
          "state": {
            "_model_module": "@jupyter-widgets/base",
            "_model_module_version": "1.2.0",
            "_model_name": "LayoutModel",
            "_view_count": null,
            "_view_module": "@jupyter-widgets/base",
            "_view_module_version": "1.2.0",
            "_view_name": "LayoutView",
            "align_content": null,
            "align_items": null,
            "align_self": null,
            "border": null,
            "bottom": null,
            "display": null,
            "flex": null,
            "flex_flow": null,
            "grid_area": null,
            "grid_auto_columns": null,
            "grid_auto_flow": null,
            "grid_auto_rows": null,
            "grid_column": null,
            "grid_gap": null,
            "grid_row": null,
            "grid_template_areas": null,
            "grid_template_columns": null,
            "grid_template_rows": null,
            "height": null,
            "justify_content": null,
            "justify_items": null,
            "left": null,
            "margin": null,
            "max_height": null,
            "max_width": null,
            "min_height": null,
            "min_width": null,
            "object_fit": null,
            "object_position": null,
            "order": null,
            "overflow": null,
            "overflow_x": null,
            "overflow_y": null,
            "padding": null,
            "right": null,
            "top": null,
            "visibility": null,
            "width": null
          }
        },
        "b20defe0eea147a99ad86a70577f9ff5": {
          "model_module": "@jupyter-widgets/base",
          "model_name": "LayoutModel",
          "model_module_version": "1.2.0",
          "state": {
            "_model_module": "@jupyter-widgets/base",
            "_model_module_version": "1.2.0",
            "_model_name": "LayoutModel",
            "_view_count": null,
            "_view_module": "@jupyter-widgets/base",
            "_view_module_version": "1.2.0",
            "_view_name": "LayoutView",
            "align_content": null,
            "align_items": null,
            "align_self": null,
            "border": null,
            "bottom": null,
            "display": null,
            "flex": null,
            "flex_flow": null,
            "grid_area": null,
            "grid_auto_columns": null,
            "grid_auto_flow": null,
            "grid_auto_rows": null,
            "grid_column": null,
            "grid_gap": null,
            "grid_row": null,
            "grid_template_areas": null,
            "grid_template_columns": null,
            "grid_template_rows": null,
            "height": null,
            "justify_content": null,
            "justify_items": null,
            "left": null,
            "margin": null,
            "max_height": null,
            "max_width": null,
            "min_height": null,
            "min_width": null,
            "object_fit": null,
            "object_position": null,
            "order": null,
            "overflow": null,
            "overflow_x": null,
            "overflow_y": null,
            "padding": null,
            "right": null,
            "top": null,
            "visibility": null,
            "width": null
          }
        },
        "212f2f0578784f529ee5fb6280124c82": {
          "model_module": "@jupyter-widgets/controls",
          "model_name": "DescriptionStyleModel",
          "model_module_version": "1.5.0",
          "state": {
            "_model_module": "@jupyter-widgets/controls",
            "_model_module_version": "1.5.0",
            "_model_name": "DescriptionStyleModel",
            "_view_count": null,
            "_view_module": "@jupyter-widgets/base",
            "_view_module_version": "1.2.0",
            "_view_name": "StyleView",
            "description_width": ""
          }
        },
        "7e53725fac5c437291e429f4d9c538e6": {
          "model_module": "@jupyter-widgets/base",
          "model_name": "LayoutModel",
          "model_module_version": "1.2.0",
          "state": {
            "_model_module": "@jupyter-widgets/base",
            "_model_module_version": "1.2.0",
            "_model_name": "LayoutModel",
            "_view_count": null,
            "_view_module": "@jupyter-widgets/base",
            "_view_module_version": "1.2.0",
            "_view_name": "LayoutView",
            "align_content": null,
            "align_items": null,
            "align_self": null,
            "border": null,
            "bottom": null,
            "display": null,
            "flex": null,
            "flex_flow": null,
            "grid_area": null,
            "grid_auto_columns": null,
            "grid_auto_flow": null,
            "grid_auto_rows": null,
            "grid_column": null,
            "grid_gap": null,
            "grid_row": null,
            "grid_template_areas": null,
            "grid_template_columns": null,
            "grid_template_rows": null,
            "height": null,
            "justify_content": null,
            "justify_items": null,
            "left": null,
            "margin": null,
            "max_height": null,
            "max_width": null,
            "min_height": null,
            "min_width": null,
            "object_fit": null,
            "object_position": null,
            "order": null,
            "overflow": null,
            "overflow_x": null,
            "overflow_y": null,
            "padding": null,
            "right": null,
            "top": null,
            "visibility": null,
            "width": null
          }
        },
        "09813a958c0e4da197605a1333191bd3": {
          "model_module": "@jupyter-widgets/controls",
          "model_name": "ProgressStyleModel",
          "model_module_version": "1.5.0",
          "state": {
            "_model_module": "@jupyter-widgets/controls",
            "_model_module_version": "1.5.0",
            "_model_name": "ProgressStyleModel",
            "_view_count": null,
            "_view_module": "@jupyter-widgets/base",
            "_view_module_version": "1.2.0",
            "_view_name": "StyleView",
            "bar_color": null,
            "description_width": ""
          }
        },
        "472dd0649d9f4e8b805f85df63fd9795": {
          "model_module": "@jupyter-widgets/base",
          "model_name": "LayoutModel",
          "model_module_version": "1.2.0",
          "state": {
            "_model_module": "@jupyter-widgets/base",
            "_model_module_version": "1.2.0",
            "_model_name": "LayoutModel",
            "_view_count": null,
            "_view_module": "@jupyter-widgets/base",
            "_view_module_version": "1.2.0",
            "_view_name": "LayoutView",
            "align_content": null,
            "align_items": null,
            "align_self": null,
            "border": null,
            "bottom": null,
            "display": null,
            "flex": null,
            "flex_flow": null,
            "grid_area": null,
            "grid_auto_columns": null,
            "grid_auto_flow": null,
            "grid_auto_rows": null,
            "grid_column": null,
            "grid_gap": null,
            "grid_row": null,
            "grid_template_areas": null,
            "grid_template_columns": null,
            "grid_template_rows": null,
            "height": null,
            "justify_content": null,
            "justify_items": null,
            "left": null,
            "margin": null,
            "max_height": null,
            "max_width": null,
            "min_height": null,
            "min_width": null,
            "object_fit": null,
            "object_position": null,
            "order": null,
            "overflow": null,
            "overflow_x": null,
            "overflow_y": null,
            "padding": null,
            "right": null,
            "top": null,
            "visibility": null,
            "width": null
          }
        },
        "c4bd154dabe34424ad27b4e7d3f91e68": {
          "model_module": "@jupyter-widgets/controls",
          "model_name": "DescriptionStyleModel",
          "model_module_version": "1.5.0",
          "state": {
            "_model_module": "@jupyter-widgets/controls",
            "_model_module_version": "1.5.0",
            "_model_name": "DescriptionStyleModel",
            "_view_count": null,
            "_view_module": "@jupyter-widgets/base",
            "_view_module_version": "1.2.0",
            "_view_name": "StyleView",
            "description_width": ""
          }
        },
        "5366a5a08ee6434380eaf3ad4a13ecd9": {
          "model_module": "@jupyter-widgets/controls",
          "model_name": "HBoxModel",
          "model_module_version": "1.5.0",
          "state": {
            "_dom_classes": [],
            "_model_module": "@jupyter-widgets/controls",
            "_model_module_version": "1.5.0",
            "_model_name": "HBoxModel",
            "_view_count": null,
            "_view_module": "@jupyter-widgets/controls",
            "_view_module_version": "1.5.0",
            "_view_name": "HBoxView",
            "box_style": "",
            "children": [
              "IPY_MODEL_fc7b40c7b62f42b4a61baa2273ede479",
              "IPY_MODEL_1b8fa0aa2c79413a9c719639afe98938",
              "IPY_MODEL_c92a9a4301d249f5ab62de4076a122bc"
            ],
            "layout": "IPY_MODEL_cfe78635fb0f428f9936dd311132e50a"
          }
        },
        "fc7b40c7b62f42b4a61baa2273ede479": {
          "model_module": "@jupyter-widgets/controls",
          "model_name": "HTMLModel",
          "model_module_version": "1.5.0",
          "state": {
            "_dom_classes": [],
            "_model_module": "@jupyter-widgets/controls",
            "_model_module_version": "1.5.0",
            "_model_name": "HTMLModel",
            "_view_count": null,
            "_view_module": "@jupyter-widgets/controls",
            "_view_module_version": "1.5.0",
            "_view_name": "HTMLView",
            "description": "",
            "description_tooltip": null,
            "layout": "IPY_MODEL_071e8ae3f78045d9afbe6ff93bc09af3",
            "placeholder": "​",
            "style": "IPY_MODEL_7beb0e61a4584f809914c4187791b42f",
            "value": " 98%"
          }
        },
        "1b8fa0aa2c79413a9c719639afe98938": {
          "model_module": "@jupyter-widgets/controls",
          "model_name": "FloatProgressModel",
          "model_module_version": "1.5.0",
          "state": {
            "_dom_classes": [],
            "_model_module": "@jupyter-widgets/controls",
            "_model_module_version": "1.5.0",
            "_model_name": "FloatProgressModel",
            "_view_count": null,
            "_view_module": "@jupyter-widgets/controls",
            "_view_module_version": "1.5.0",
            "_view_name": "ProgressView",
            "bar_style": "",
            "description": "",
            "description_tooltip": null,
            "layout": "IPY_MODEL_448445b6a3284989b93dcd8f0e3df7a5",
            "max": 1000,
            "min": 0,
            "orientation": "horizontal",
            "style": "IPY_MODEL_a2f244f54134482f9df29b3927c755e2",
            "value": 1000
          }
        },
        "c92a9a4301d249f5ab62de4076a122bc": {
          "model_module": "@jupyter-widgets/controls",
          "model_name": "HTMLModel",
          "model_module_version": "1.5.0",
          "state": {
            "_dom_classes": [],
            "_model_module": "@jupyter-widgets/controls",
            "_model_module_version": "1.5.0",
            "_model_name": "HTMLModel",
            "_view_count": null,
            "_view_module": "@jupyter-widgets/controls",
            "_view_module_version": "1.5.0",
            "_view_name": "HTMLView",
            "description": "",
            "description_tooltip": null,
            "layout": "IPY_MODEL_0ffd6caba89e4d54b47abf2e6b906e05",
            "placeholder": "​",
            "style": "IPY_MODEL_a89f6f64b39f45afbb2d0ce4f740693d",
            "value": " 980/1.00k [00:04&lt;00:00, 214batch/s, loss=0.0102]"
          }
        },
        "cfe78635fb0f428f9936dd311132e50a": {
          "model_module": "@jupyter-widgets/base",
          "model_name": "LayoutModel",
          "model_module_version": "1.2.0",
          "state": {
            "_model_module": "@jupyter-widgets/base",
            "_model_module_version": "1.2.0",
            "_model_name": "LayoutModel",
            "_view_count": null,
            "_view_module": "@jupyter-widgets/base",
            "_view_module_version": "1.2.0",
            "_view_name": "LayoutView",
            "align_content": null,
            "align_items": null,
            "align_self": null,
            "border": null,
            "bottom": null,
            "display": null,
            "flex": null,
            "flex_flow": null,
            "grid_area": null,
            "grid_auto_columns": null,
            "grid_auto_flow": null,
            "grid_auto_rows": null,
            "grid_column": null,
            "grid_gap": null,
            "grid_row": null,
            "grid_template_areas": null,
            "grid_template_columns": null,
            "grid_template_rows": null,
            "height": null,
            "justify_content": null,
            "justify_items": null,
            "left": null,
            "margin": null,
            "max_height": null,
            "max_width": null,
            "min_height": null,
            "min_width": null,
            "object_fit": null,
            "object_position": null,
            "order": null,
            "overflow": null,
            "overflow_x": null,
            "overflow_y": null,
            "padding": null,
            "right": null,
            "top": null,
            "visibility": null,
            "width": null
          }
        },
        "071e8ae3f78045d9afbe6ff93bc09af3": {
          "model_module": "@jupyter-widgets/base",
          "model_name": "LayoutModel",
          "model_module_version": "1.2.0",
          "state": {
            "_model_module": "@jupyter-widgets/base",
            "_model_module_version": "1.2.0",
            "_model_name": "LayoutModel",
            "_view_count": null,
            "_view_module": "@jupyter-widgets/base",
            "_view_module_version": "1.2.0",
            "_view_name": "LayoutView",
            "align_content": null,
            "align_items": null,
            "align_self": null,
            "border": null,
            "bottom": null,
            "display": null,
            "flex": null,
            "flex_flow": null,
            "grid_area": null,
            "grid_auto_columns": null,
            "grid_auto_flow": null,
            "grid_auto_rows": null,
            "grid_column": null,
            "grid_gap": null,
            "grid_row": null,
            "grid_template_areas": null,
            "grid_template_columns": null,
            "grid_template_rows": null,
            "height": null,
            "justify_content": null,
            "justify_items": null,
            "left": null,
            "margin": null,
            "max_height": null,
            "max_width": null,
            "min_height": null,
            "min_width": null,
            "object_fit": null,
            "object_position": null,
            "order": null,
            "overflow": null,
            "overflow_x": null,
            "overflow_y": null,
            "padding": null,
            "right": null,
            "top": null,
            "visibility": null,
            "width": null
          }
        },
        "7beb0e61a4584f809914c4187791b42f": {
          "model_module": "@jupyter-widgets/controls",
          "model_name": "DescriptionStyleModel",
          "model_module_version": "1.5.0",
          "state": {
            "_model_module": "@jupyter-widgets/controls",
            "_model_module_version": "1.5.0",
            "_model_name": "DescriptionStyleModel",
            "_view_count": null,
            "_view_module": "@jupyter-widgets/base",
            "_view_module_version": "1.2.0",
            "_view_name": "StyleView",
            "description_width": ""
          }
        },
        "448445b6a3284989b93dcd8f0e3df7a5": {
          "model_module": "@jupyter-widgets/base",
          "model_name": "LayoutModel",
          "model_module_version": "1.2.0",
          "state": {
            "_model_module": "@jupyter-widgets/base",
            "_model_module_version": "1.2.0",
            "_model_name": "LayoutModel",
            "_view_count": null,
            "_view_module": "@jupyter-widgets/base",
            "_view_module_version": "1.2.0",
            "_view_name": "LayoutView",
            "align_content": null,
            "align_items": null,
            "align_self": null,
            "border": null,
            "bottom": null,
            "display": null,
            "flex": null,
            "flex_flow": null,
            "grid_area": null,
            "grid_auto_columns": null,
            "grid_auto_flow": null,
            "grid_auto_rows": null,
            "grid_column": null,
            "grid_gap": null,
            "grid_row": null,
            "grid_template_areas": null,
            "grid_template_columns": null,
            "grid_template_rows": null,
            "height": null,
            "justify_content": null,
            "justify_items": null,
            "left": null,
            "margin": null,
            "max_height": null,
            "max_width": null,
            "min_height": null,
            "min_width": null,
            "object_fit": null,
            "object_position": null,
            "order": null,
            "overflow": null,
            "overflow_x": null,
            "overflow_y": null,
            "padding": null,
            "right": null,
            "top": null,
            "visibility": null,
            "width": null
          }
        },
        "a2f244f54134482f9df29b3927c755e2": {
          "model_module": "@jupyter-widgets/controls",
          "model_name": "ProgressStyleModel",
          "model_module_version": "1.5.0",
          "state": {
            "_model_module": "@jupyter-widgets/controls",
            "_model_module_version": "1.5.0",
            "_model_name": "ProgressStyleModel",
            "_view_count": null,
            "_view_module": "@jupyter-widgets/base",
            "_view_module_version": "1.2.0",
            "_view_name": "StyleView",
            "bar_color": null,
            "description_width": ""
          }
        },
        "0ffd6caba89e4d54b47abf2e6b906e05": {
          "model_module": "@jupyter-widgets/base",
          "model_name": "LayoutModel",
          "model_module_version": "1.2.0",
          "state": {
            "_model_module": "@jupyter-widgets/base",
            "_model_module_version": "1.2.0",
            "_model_name": "LayoutModel",
            "_view_count": null,
            "_view_module": "@jupyter-widgets/base",
            "_view_module_version": "1.2.0",
            "_view_name": "LayoutView",
            "align_content": null,
            "align_items": null,
            "align_self": null,
            "border": null,
            "bottom": null,
            "display": null,
            "flex": null,
            "flex_flow": null,
            "grid_area": null,
            "grid_auto_columns": null,
            "grid_auto_flow": null,
            "grid_auto_rows": null,
            "grid_column": null,
            "grid_gap": null,
            "grid_row": null,
            "grid_template_areas": null,
            "grid_template_columns": null,
            "grid_template_rows": null,
            "height": null,
            "justify_content": null,
            "justify_items": null,
            "left": null,
            "margin": null,
            "max_height": null,
            "max_width": null,
            "min_height": null,
            "min_width": null,
            "object_fit": null,
            "object_position": null,
            "order": null,
            "overflow": null,
            "overflow_x": null,
            "overflow_y": null,
            "padding": null,
            "right": null,
            "top": null,
            "visibility": null,
            "width": null
          }
        },
        "a89f6f64b39f45afbb2d0ce4f740693d": {
          "model_module": "@jupyter-widgets/controls",
          "model_name": "DescriptionStyleModel",
          "model_module_version": "1.5.0",
          "state": {
            "_model_module": "@jupyter-widgets/controls",
            "_model_module_version": "1.5.0",
            "_model_name": "DescriptionStyleModel",
            "_view_count": null,
            "_view_module": "@jupyter-widgets/base",
            "_view_module_version": "1.2.0",
            "_view_name": "StyleView",
            "description_width": ""
          }
        }
      }
    }
  },
  "cells": [
    {
      "cell_type": "markdown",
      "source": [
        "## EC460-NNDL\n",
        "## Assign-5: 1D CNN, RNNs and 2D CNN with Applications\n",
        "### Name: Nishanth Maurya Mocharla\n",
        "### Roll no: 191EC226"
      ],
      "metadata": {
        "id": "qRtK0cEMyh0k"
      }
    },
    {
      "cell_type": "code",
      "source": [
        "import numpy as np\n",
        "import matplotlib.pyplot as plt\n",
        "%matplotlib inline\n",
        "import sklearn\n",
        "import pandas as pd\n",
        "import tensorflow as tf\n",
        "import seaborn as sns\n",
        "import cv2\n",
        "import scipy\n",
        "import copy\n",
        "import tqdm.notebook as tqdm\n",
        "from sklearn.model_selection import train_test_split\n",
        "from PIL import Image, ImageOps\n",
        "import glob as gb\n",
        "from matplotlib import rcParams\n",
        "from IPython.display import display\n",
        "from sklearn.utils import shuffle\n",
        "import os\n",
        "\n",
        "import warnings\n",
        "warnings.filterwarnings('ignore')"
      ],
      "metadata": {
        "id": "iowx2_oXzH6U"
      },
      "execution_count": null,
      "outputs": []
    },
    {
      "cell_type": "code",
      "source": [
        "import tensorflow.keras as keras\n",
        "from tensorflow.keras.models import Sequential\n",
        "from tensorflow.keras.layers import Conv2D, Dense, MaxPool2D, Dropout, Flatten, AvgPool2D\n",
        "from tensorflow.keras.optimizers import Adam\n",
        "from tensorflow.keras.optimizers import SGD\n",
        "from keras.preprocessing.image import ImageDataGenerator\n",
        "from keras.utils import np_utils\n",
        "from tensorflow.keras.preprocessing import image_dataset_from_directory  \n",
        "from tensorflow.keras.preprocessing import image\n",
        "\n",
        "from tqdm.keras import TqdmCallback\n",
        "from sklearn.metrics import confusion_matrix , classification_report, precision_score"
      ],
      "metadata": {
        "id": "KXKV_ZitzNgU"
      },
      "execution_count": null,
      "outputs": []
    },
    {
      "cell_type": "code",
      "source": [
        ""
      ],
      "metadata": {
        "id": "cJ1kmm2FzQfM"
      },
      "execution_count": null,
      "outputs": []
    },
    {
      "cell_type": "markdown",
      "source": [
        "## Q.1)\n",
        "### Build a  1D CNN model from Scratch (using Numpy) to recognize human activity using HAR dataset (https://archive.ics.uci.edu/ml/datasets/human+activity+recognition+using+smartphones) (split dataset into training dataset (80%) and  testing dataset (20%) ). For implementation, use a  Adam  gradient descent algorithm to learn model with parameters for α = 0.01 and random parameters of the CNN model for Focal loss function \n",
        "#### (i) Visualize HAR dataset      \n",
        "#### (ii) Plot a comparative loss curve for at least 100 epochs.\n",
        "#### (iii) Print confusion matrix, calculate classification metrics such as precision, recall, f1-score and accuracy on test dataset and ROC curve   \n",
        "#### (iv)  Implement above 1D CNN model with Keras/Tensorflow/Pytorch Library and verify the above results. \n"
      ],
      "metadata": {
        "id": "ztXDQy-b6Zm_"
      }
    },
    {
      "cell_type": "code",
      "source": [
        "# Data visualization"
      ],
      "metadata": {
        "id": "bQt6mT65PoYc"
      },
      "execution_count": null,
      "outputs": []
    },
    {
      "cell_type": "code",
      "source": [
        "train = pd.read_csv('/content/drive/MyDrive/nitk/assignments/assignment5/train.csv')\n",
        "test = pd.read_csv('/content/drive/MyDrive/nitk/assignments/assignment5/train.csv')\n",
        "print(train.shape, test.shape)\n",
        "\n",
        "columns = train.columns\n",
        "\n",
        "# Removing '()' from column names\n",
        "columns = columns.str.replace('[()]','')\n",
        "columns = columns.str.replace('[-]', '')\n",
        "columns = columns.str.replace('[,]','')\n",
        "\n",
        "train.columns = columns\n",
        "test.columns = columns\n",
        "\n",
        "test.columns"
      ],
      "metadata": {
        "colab": {
          "base_uri": "https://localhost:8080/"
        },
        "id": "SH-ia7EOP91k",
        "outputId": "b967596c-884d-4937-9535-cedbe844e550"
      },
      "execution_count": null,
      "outputs": [
        {
          "output_type": "stream",
          "name": "stdout",
          "text": [
            "(7352, 563) (2947, 563)\n"
          ]
        },
        {
          "output_type": "execute_result",
          "data": {
            "text/plain": [
              "Index(['tBodyAccmeanX', 'tBodyAccmeanY', 'tBodyAccmeanZ', 'tBodyAccstdX',\n",
              "       'tBodyAccstdY', 'tBodyAccstdZ', 'tBodyAccmadX', 'tBodyAccmadY',\n",
              "       'tBodyAccmadZ', 'tBodyAccmaxX',\n",
              "       ...\n",
              "       'fBodyBodyGyroJerkMagkurtosis', 'angletBodyAccMeangravity',\n",
              "       'angletBodyAccJerkMeangravityMean', 'angletBodyGyroMeangravityMean',\n",
              "       'angletBodyGyroJerkMeangravityMean', 'angleXgravityMean',\n",
              "       'angleYgravityMean', 'angleZgravityMean', 'subject', 'Activity'],\n",
              "      dtype='object', length=563)"
            ]
          },
          "metadata": {},
          "execution_count": 11
        }
      ]
    },
    {
      "cell_type": "code",
      "source": [
        "train.columns"
      ],
      "metadata": {
        "colab": {
          "base_uri": "https://localhost:8080/"
        },
        "id": "aqK6lx2PSdWl",
        "outputId": "5557a333-1932-4378-aa48-7d6c29e7653a"
      },
      "execution_count": null,
      "outputs": [
        {
          "output_type": "execute_result",
          "data": {
            "text/plain": [
              "Index(['tBodyAccmeanX', 'tBodyAccmeanY', 'tBodyAccmeanZ', 'tBodyAccstdX',\n",
              "       'tBodyAccstdY', 'tBodyAccstdZ', 'tBodyAccmadX', 'tBodyAccmadY',\n",
              "       'tBodyAccmadZ', 'tBodyAccmaxX',\n",
              "       ...\n",
              "       'fBodyBodyGyroJerkMagkurtosis', 'angletBodyAccMeangravity',\n",
              "       'angletBodyAccJerkMeangravityMean', 'angletBodyGyroMeangravityMean',\n",
              "       'angletBodyGyroJerkMeangravityMean', 'angleXgravityMean',\n",
              "       'angleYgravityMean', 'angleZgravityMean', 'subject', 'Activity'],\n",
              "      dtype='object', length=563)"
            ]
          },
          "metadata": {},
          "execution_count": 15
        }
      ]
    },
    {
      "cell_type": "code",
      "source": [
        "sns.set_style('whitegrid')\n",
        "plt.rcParams['font.family'] = 'Dejavu Sans'\n",
        "\n",
        "plt.figure(figsize=(16,8))\n",
        "plt.title('Data provided by each user', fontsize=20)\n",
        "sns.countplot(data = train,x='subject',hue='Activity')\n",
        "plt.show()"
      ],
      "metadata": {
        "colab": {
          "base_uri": "https://localhost:8080/",
          "height": 518
        },
        "id": "jrw2Tq3QP9zN",
        "outputId": "a7673a97-2c9c-4276-c5a7-8858984b21ec"
      },
      "execution_count": null,
      "outputs": [
        {
          "output_type": "display_data",
          "data": {
            "text/plain": [
              "<Figure size 1152x576 with 1 Axes>"
            ],
            "image/png": "[encoded data removed]"
          },
          "metadata": {}
        }
      ]
    },
    {
      "cell_type": "code",
      "source": [
        "import plotly\n",
        "import plotly.graph_objects as go\n",
        "from plotly.offline import download_plotlyjs, init_notebook_mode, plot, iplot\n",
        "import matplotlib as mlt\n",
        "\n",
        "# Plotting data\n",
        "label_counts = train['Activity'].value_counts()\n",
        "\n",
        "# Get colors\n",
        "n = label_counts.shape[0]\n",
        "colormap = plt.get_cmap('viridis')\n",
        "colors = [mlt.colors.to_hex(colormap(col)) for col in np.arange(0, 1.01, 1/(n-1))]\n",
        "\n",
        "# Create plot\n",
        "data = go.Bar(x = label_counts.index,\n",
        "              y = label_counts,\n",
        "              marker = dict(color = colors))\n",
        "\n",
        "layout = go.Layout(title = 'Smartphone ActivityName Distribution',\n",
        "                   xaxis = dict(title = 'ActivityName'),\n",
        "                   yaxis = dict(title = 'Count'))\n",
        "\n",
        "fig = go.Figure(data=[data], layout=layout)\n",
        "fig.show()\n",
        "#iplot(fig)"
      ],
      "metadata": {
        "colab": {
          "base_uri": "https://localhost:8080/",
          "height": 542
        },
        "id": "wvBv4UhLS6Y9",
        "outputId": "05c4c98d-7d6a-4f68-b361-bea91dd42242"
      },
      "execution_count": null,
      "outputs": [
        {
          "output_type": "display_data",
          "data": {
            "text/html": [
              "<html>\n",
              "<head><meta charset=\"utf-8\" /></head>\n",
              "<body>\n",
              "    <div>            <script src=\"https://cdnjs.cloudflare.com/ajax/libs/mathjax/2.7.5/MathJax.js?config=TeX-AMS-MML_SVG\"></script><script type=\"text/javascript\">if (window.MathJax) {MathJax.Hub.Config({SVG: {font: \"STIX-Web\"}});}</script>                <script type=\"text/javascript\">window.PlotlyConfig = {MathJaxConfig: 'local'};</script>\n",
              "        <script src=\"https://cdn.plot.ly/plotly-2.8.3.min.js\"></script>                <div id=\"11f1c8d7-63cb-4ac5-99ef-752bbc45f738\" class=\"plotly-graph-div\" style=\"height:525px; width:100%;\"></div>            <script type=\"text/javascript\">                                    window.PLOTLYENV=window.PLOTLYENV || {};                                    if (document.getElementById(\"11f1c8d7-63cb-4ac5-99ef-752bbc45f738\")) {                    Plotly.newPlot(                        \"11f1c8d7-63cb-4ac5-99ef-752bbc45f738\",                        [{\"marker\":{\"color\":[\"#440154\",\"#414487\",\"#2a788e\",\"#22a884\",\"#7ad151\",\"#fde725\"]},\"x\":[\"LAYING\",\"STANDING\",\"SITTING\",\"WALKING\",\"WALKING_UPSTAIRS\",\"WALKING_DOWNSTAIRS\"],\"y\":[1407,1374,1286,1226,1073,986],\"type\":\"bar\"}],                        {\"title\":{\"text\":\"Smartphone ActivityName Distribution\"},\"xaxis\":{\"title\":{\"text\":\"ActivityName\"}},\"yaxis\":{\"title\":{\"text\":\"Count\"}},\"template\":{\"data\":{\"bar\":[{\"error_x\":{\"color\":\"#2a3f5f\"},\"error_y\":{\"color\":\"#2a3f5f\"},\"marker\":{\"line\":{\"color\":\"#E5ECF6\",\"width\":0.5},\"pattern\":{\"fillmode\":\"overlay\",\"size\":10,\"solidity\":0.2}},\"type\":\"bar\"}],\"barpolar\":[{\"marker\":{\"line\":{\"color\":\"#E5ECF6\",\"width\":0.5},\"pattern\":{\"fillmode\":\"overlay\",\"size\":10,\"solidity\":0.2}},\"type\":\"barpolar\"}],\"carpet\":[{\"aaxis\":{\"endlinecolor\":\"#2a3f5f\",\"gridcolor\":\"white\",\"linecolor\":\"white\",\"minorgridcolor\":\"white\",\"startlinecolor\":\"#2a3f5f\"},\"baxis\":{\"endlinecolor\":\"#2a3f5f\",\"gridcolor\":\"white\",\"linecolor\":\"white\",\"minorgridcolor\":\"white\",\"startlinecolor\":\"#2a3f5f\"},\"type\":\"carpet\"}],\"choropleth\":[{\"colorbar\":{\"outlinewidth\":0,\"ticks\":\"\"},\"type\":\"choropleth\"}],\"contour\":[{\"colorbar\":{\"outlinewidth\":0,\"ticks\":\"\"},\"colorscale\":[[0.0,\"#0d0887\"],[0.1111111111111111,\"#46039f\"],[0.2222222222222222,\"#7201a8\"],[0.3333333333333333,\"#9c179e\"],[0.4444444444444444,\"#bd3786\"],[0.5555555555555556,\"#d8576b\"],[0.6666666666666666,\"#ed7953\"],[0.7777777777777778,\"#fb9f3a\"],[0.8888888888888888,\"#fdca26\"],[1.0,\"#f0f921\"]],\"type\":\"contour\"}],\"contourcarpet\":[{\"colorbar\":{\"outlinewidth\":0,\"ticks\":\"\"},\"type\":\"contourcarpet\"}],\"heatmap\":[{\"colorbar\":{\"outlinewidth\":0,\"ticks\":\"\"},\"colorscale\":[[0.0,\"#0d0887\"],[0.1111111111111111,\"#46039f\"],[0.2222222222222222,\"#7201a8\"],[0.3333333333333333,\"#9c179e\"],[0.4444444444444444,\"#bd3786\"],[0.5555555555555556,\"#d8576b\"],[0.6666666666666666,\"#ed7953\"],[0.7777777777777778,\"#fb9f3a\"],[0.8888888888888888,\"#fdca26\"],[1.0,\"#f0f921\"]],\"type\":\"heatmap\"}],\"heatmapgl\":[{\"colorbar\":{\"outlinewidth\":0,\"ticks\":\"\"},\"colorscale\":[[0.0,\"#0d0887\"],[0.1111111111111111,\"#46039f\"],[0.2222222222222222,\"#7201a8\"],[0.3333333333333333,\"#9c179e\"],[0.4444444444444444,\"#bd3786\"],[0.5555555555555556,\"#d8576b\"],[0.6666666666666666,\"#ed7953\"],[0.7777777777777778,\"#fb9f3a\"],[0.8888888888888888,\"#fdca26\"],[1.0,\"#f0f921\"]],\"type\":\"heatmapgl\"}],\"histogram\":[{\"marker\":{\"pattern\":{\"fillmode\":\"overlay\",\"size\":10,\"solidity\":0.2}},\"type\":\"histogram\"}],\"histogram2d\":[{\"colorbar\":{\"outlinewidth\":0,\"ticks\":\"\"},\"colorscale\":[[0.0,\"#0d0887\"],[0.1111111111111111,\"#46039f\"],[0.2222222222222222,\"#7201a8\"],[0.3333333333333333,\"#9c179e\"],[0.4444444444444444,\"#bd3786\"],[0.5555555555555556,\"#d8576b\"],[0.6666666666666666,\"#ed7953\"],[0.7777777777777778,\"#fb9f3a\"],[0.8888888888888888,\"#fdca26\"],[1.0,\"#f0f921\"]],\"type\":\"histogram2d\"}],\"histogram2dcontour\":[{\"colorbar\":{\"outlinewidth\":0,\"ticks\":\"\"},\"colorscale\":[[0.0,\"#0d0887\"],[0.1111111111111111,\"#46039f\"],[0.2222222222222222,\"#7201a8\"],[0.3333333333333333,\"#9c179e\"],[0.4444444444444444,\"#bd3786\"],[0.5555555555555556,\"#d8576b\"],[0.6666666666666666,\"#ed7953\"],[0.7777777777777778,\"#fb9f3a\"],[0.8888888888888888,\"#fdca26\"],[1.0,\"#f0f921\"]],\"type\":\"histogram2dcontour\"}],\"mesh3d\":[{\"colorbar\":{\"outlinewidth\":0,\"ticks\":\"\"},\"type\":\"mesh3d\"}],\"parcoords\":[{\"line\":{\"colorbar\":{\"outlinewidth\":0,\"ticks\":\"\"}},\"type\":\"parcoords\"}],\"pie\":[{\"automargin\":true,\"type\":\"pie\"}],\"scatter\":[{\"marker\":{\"colorbar\":{\"outlinewidth\":0,\"ticks\":\"\"}},\"type\":\"scatter\"}],\"scatter3d\":[{\"line\":{\"colorbar\":{\"outlinewidth\":0,\"ticks\":\"\"}},\"marker\":{\"colorbar\":{\"outlinewidth\":0,\"ticks\":\"\"}},\"type\":\"scatter3d\"}],\"scattercarpet\":[{\"marker\":{\"colorbar\":{\"outlinewidth\":0,\"ticks\":\"\"}},\"type\":\"scattercarpet\"}],\"scattergeo\":[{\"marker\":{\"colorbar\":{\"outlinewidth\":0,\"ticks\":\"\"}},\"type\":\"scattergeo\"}],\"scattergl\":[{\"marker\":{\"colorbar\":{\"outlinewidth\":0,\"ticks\":\"\"}},\"type\":\"scattergl\"}],\"scattermapbox\":[{\"marker\":{\"colorbar\":{\"outlinewidth\":0,\"ticks\":\"\"}},\"type\":\"scattermapbox\"}],\"scatterpolar\":[{\"marker\":{\"colorbar\":{\"outlinewidth\":0,\"ticks\":\"\"}},\"type\":\"scatterpolar\"}],\"scatterpolargl\":[{\"marker\":{\"colorbar\":{\"outlinewidth\":0,\"ticks\":\"\"}},\"type\":\"scatterpolargl\"}],\"scatterternary\":[{\"marker\":{\"colorbar\":{\"outlinewidth\":0,\"ticks\":\"\"}},\"type\":\"scatterternary\"}],\"surface\":[{\"colorbar\":{\"outlinewidth\":0,\"ticks\":\"\"},\"colorscale\":[[0.0,\"#0d0887\"],[0.1111111111111111,\"#46039f\"],[0.2222222222222222,\"#7201a8\"],[0.3333333333333333,\"#9c179e\"],[0.4444444444444444,\"#bd3786\"],[0.5555555555555556,\"#d8576b\"],[0.6666666666666666,\"#ed7953\"],[0.7777777777777778,\"#fb9f3a\"],[0.8888888888888888,\"#fdca26\"],[1.0,\"#f0f921\"]],\"type\":\"surface\"}],\"table\":[{\"cells\":{\"fill\":{\"color\":\"#EBF0F8\"},\"line\":{\"color\":\"white\"}},\"header\":{\"fill\":{\"color\":\"#C8D4E3\"},\"line\":{\"color\":\"white\"}},\"type\":\"table\"}]},\"layout\":{\"annotationdefaults\":{\"arrowcolor\":\"#2a3f5f\",\"arrowhead\":0,\"arrowwidth\":1},\"autotypenumbers\":\"strict\",\"coloraxis\":{\"colorbar\":{\"outlinewidth\":0,\"ticks\":\"\"}},\"colorscale\":{\"diverging\":[[0,\"#8e0152\"],[0.1,\"#c51b7d\"],[0.2,\"#de77ae\"],[0.3,\"#f1b6da\"],[0.4,\"#fde0ef\"],[0.5,\"#f7f7f7\"],[0.6,\"#e6f5d0\"],[0.7,\"#b8e186\"],[0.8,\"#7fbc41\"],[0.9,\"#4d9221\"],[1,\"#276419\"]],\"sequential\":[[0.0,\"#0d0887\"],[0.1111111111111111,\"#46039f\"],[0.2222222222222222,\"#7201a8\"],[0.3333333333333333,\"#9c179e\"],[0.4444444444444444,\"#bd3786\"],[0.5555555555555556,\"#d8576b\"],[0.6666666666666666,\"#ed7953\"],[0.7777777777777778,\"#fb9f3a\"],[0.8888888888888888,\"#fdca26\"],[1.0,\"#f0f921\"]],\"sequentialminus\":[[0.0,\"#0d0887\"],[0.1111111111111111,\"#46039f\"],[0.2222222222222222,\"#7201a8\"],[0.3333333333333333,\"#9c179e\"],[0.4444444444444444,\"#bd3786\"],[0.5555555555555556,\"#d8576b\"],[0.6666666666666666,\"#ed7953\"],[0.7777777777777778,\"#fb9f3a\"],[0.8888888888888888,\"#fdca26\"],[1.0,\"#f0f921\"]]},\"colorway\":[\"#636efa\",\"#EF553B\",\"#00cc96\",\"#ab63fa\",\"#FFA15A\",\"#19d3f3\",\"#FF6692\",\"#B6E880\",\"#FF97FF\",\"#FECB52\"],\"font\":{\"color\":\"#2a3f5f\"},\"geo\":{\"bgcolor\":\"white\",\"lakecolor\":\"white\",\"landcolor\":\"#E5ECF6\",\"showlakes\":true,\"showland\":true,\"subunitcolor\":\"white\"},\"hoverlabel\":{\"align\":\"left\"},\"hovermode\":\"closest\",\"mapbox\":{\"style\":\"light\"},\"paper_bgcolor\":\"white\",\"plot_bgcolor\":\"#E5ECF6\",\"polar\":{\"angularaxis\":{\"gridcolor\":\"white\",\"linecolor\":\"white\",\"ticks\":\"\"},\"bgcolor\":\"#E5ECF6\",\"radialaxis\":{\"gridcolor\":\"white\",\"linecolor\":\"white\",\"ticks\":\"\"}},\"scene\":{\"xaxis\":{\"backgroundcolor\":\"#E5ECF6\",\"gridcolor\":\"white\",\"gridwidth\":2,\"linecolor\":\"white\",\"showbackground\":true,\"ticks\":\"\",\"zerolinecolor\":\"white\"},\"yaxis\":{\"backgroundcolor\":\"#E5ECF6\",\"gridcolor\":\"white\",\"gridwidth\":2,\"linecolor\":\"white\",\"showbackground\":true,\"ticks\":\"\",\"zerolinecolor\":\"white\"},\"zaxis\":{\"backgroundcolor\":\"#E5ECF6\",\"gridcolor\":\"white\",\"gridwidth\":2,\"linecolor\":\"white\",\"showbackground\":true,\"ticks\":\"\",\"zerolinecolor\":\"white\"}},\"shapedefaults\":{\"line\":{\"color\":\"#2a3f5f\"}},\"ternary\":{\"aaxis\":{\"gridcolor\":\"white\",\"linecolor\":\"white\",\"ticks\":\"\"},\"baxis\":{\"gridcolor\":\"white\",\"linecolor\":\"white\",\"ticks\":\"\"},\"bgcolor\":\"#E5ECF6\",\"caxis\":{\"gridcolor\":\"white\",\"linecolor\":\"white\",\"ticks\":\"\"}},\"title\":{\"x\":0.05},\"xaxis\":{\"automargin\":true,\"gridcolor\":\"white\",\"linecolor\":\"white\",\"ticks\":\"\",\"title\":{\"standoff\":15},\"zerolinecolor\":\"white\",\"zerolinewidth\":2},\"yaxis\":{\"automargin\":true,\"gridcolor\":\"white\",\"linecolor\":\"white\",\"ticks\":\"\",\"title\":{\"standoff\":15},\"zerolinecolor\":\"white\",\"zerolinewidth\":2}}}},                        {\"responsive\": true}                    ).then(function(){\n",
              "                            \n",
              "var gd = document.getElementById('11f1c8d7-63cb-4ac5-99ef-752bbc45f738');\n",
              "var x = new MutationObserver(function (mutations, observer) {{\n",
              "        var display = window.getComputedStyle(gd).display;\n",
              "        if (!display || display === 'none') {{\n",
              "            console.log([gd, 'removed!']);\n",
              "            Plotly.purge(gd);\n",
              "            observer.disconnect();\n",
              "        }}\n",
              "}});\n",
              "\n",
              "// Listen for the removal of the full notebook cells\n",
              "var notebookContainer = gd.closest('#notebook-container');\n",
              "if (notebookContainer) {{\n",
              "    x.observe(notebookContainer, {childList: true});\n",
              "}}\n",
              "\n",
              "// Listen for the clearing of the current output cell\n",
              "var outputEl = gd.closest('.output');\n",
              "if (outputEl) {{\n",
              "    x.observe(outputEl, {childList: true});\n",
              "}}\n",
              "\n",
              "                        })                };                            </script>        </div>\n",
              "</body>\n",
              "</html>"
            ]
          },
          "metadata": {}
        }
      ]
    },
    {
      "cell_type": "code",
      "source": [
        "sns.set_palette(\"Set1\", desat=0.80)\n",
        "facetgrid = sns.FacetGrid(train, hue='Activity', height=5,aspect=2)\n",
        "facetgrid.map(sns.distplot,'tBodyAccMagmean', hist=False)\\\n",
        "    .add_legend()\n",
        "plt.annotate(\"Stationary Activities\", xy=(-0.960,12), xytext=(-0.5, 15), size=20,\\\n",
        "            va='center', ha='left',\\\n",
        "            arrowprops=dict(arrowstyle=\"simple\",connectionstyle=\"arc3,rad=0.1\"))\n",
        "\n",
        "plt.annotate(\"Moving Activities\", xy=(0,3), xytext=(0.2, 9), size=20,\\\n",
        "            va='center', ha='left',\\\n",
        "            arrowprops=dict(arrowstyle=\"simple\",connectionstyle=\"arc3,rad=0.1\"))\n",
        "plt.show()\n"
      ],
      "metadata": {
        "colab": {
          "base_uri": "https://localhost:8080/",
          "height": 369
        },
        "id": "7CdQhIw0TJQN",
        "outputId": "50743769-09ab-4884-ac1b-b4d9717f3618"
      },
      "execution_count": null,
      "outputs": [
        {
          "output_type": "display_data",
          "data": {
            "text/plain": [
              "<Figure size 874.625x360 with 1 Axes>"
            ],
            "image/png": "[encoded data removed]"
          },
          "metadata": {}
        }
      ]
    },
    {
      "cell_type": "code",
      "source": [
        "plt.figure(figsize=(7,5))\n",
        "sns.boxplot(x='Activity', y='tBodyAccMagmean',data=train, showfliers=False, saturation=1)\n",
        "plt.ylabel('Acceleration Magnitude mean')\n",
        "plt.axhline(y=-0.7, xmin=0.1, xmax=0.9,dashes=(5,5), c='g')\n",
        "plt.axhline(y=-0.05, xmin=0.4, dashes=(5,5), c='m')\n",
        "plt.xticks(rotation=90)\n",
        "plt.show()"
      ],
      "metadata": {
        "colab": {
          "base_uri": "https://localhost:8080/",
          "height": 442
        },
        "id": "I9mLtt8RP9ul",
        "outputId": "2beef723-ae6f-4215-ad5c-0cecb067e669"
      },
      "execution_count": null,
      "outputs": [
        {
          "output_type": "display_data",
          "data": {
            "text/plain": [
              "<Figure size 504x360 with 1 Axes>"
            ],
            "image/png": "[encoded data removed]"
          },
          "metadata": {}
        }
      ]
    },
    {
      "cell_type": "code",
      "source": [
        ""
      ],
      "metadata": {
        "id": "_FexZOoLP9qU"
      },
      "execution_count": null,
      "outputs": []
    },
    {
      "cell_type": "code",
      "source": [
        "path = \"/content/drive/MyDrive/nitk/assignments/assignment5/UCI-HAR-Data/\"\n",
        "x_train = pd.read_csv(path+'train/X_train.txt',header=None,delim_whitespace=True)\n",
        "y_train = pd.read_csv(path+'train/y_train.txt',header=None,delim_whitespace=True)\n",
        "x_test = pd.read_csv(path+'test/X_test.txt',header=None,delim_whitespace=True)\n",
        "y_test = pd.read_csv(path+'test/y_test.txt',header=None,delim_whitespace=True)\n",
        "print(x_train.info())\n",
        "x_train.head()"
      ],
      "metadata": {
        "id": "DOSpYlCOzXM9",
        "colab": {
          "base_uri": "https://localhost:8080/",
          "height": 403
        },
        "outputId": "e5f48164-fae1-4cb8-d731-c79cc2961bf2"
      },
      "execution_count": null,
      "outputs": [
        {
          "output_type": "stream",
          "name": "stdout",
          "text": [
            "<class 'pandas.core.frame.DataFrame'>\n",
            "RangeIndex: 7352 entries, 0 to 7351\n",
            "Columns: 561 entries, 0 to 560\n",
            "dtypes: float64(561)\n",
            "memory usage: 31.5 MB\n",
            "None\n"
          ]
        },
        {
          "output_type": "execute_result",
          "data": {
            "text/plain": [
              "        0         1         2         3         4         5         6    \\\n",
              "0  0.288585 -0.020294 -0.132905 -0.995279 -0.983111 -0.913526 -0.995112   \n",
              "1  0.278419 -0.016411 -0.123520 -0.998245 -0.975300 -0.960322 -0.998807   \n",
              "2  0.279653 -0.019467 -0.113462 -0.995380 -0.967187 -0.978944 -0.996520   \n",
              "3  0.279174 -0.026201 -0.123283 -0.996091 -0.983403 -0.990675 -0.997099   \n",
              "4  0.276629 -0.016570 -0.115362 -0.998139 -0.980817 -0.990482 -0.998321   \n",
              "\n",
              "        7         8         9    ...       551       552       553       554  \\\n",
              "0 -0.983185 -0.923527 -0.934724  ... -0.074323 -0.298676 -0.710304 -0.112754   \n",
              "1 -0.974914 -0.957686 -0.943068  ...  0.158075 -0.595051 -0.861499  0.053477   \n",
              "2 -0.963668 -0.977469 -0.938692  ...  0.414503 -0.390748 -0.760104 -0.118559   \n",
              "3 -0.982750 -0.989302 -0.938692  ...  0.404573 -0.117290 -0.482845 -0.036788   \n",
              "4 -0.979672 -0.990441 -0.942469  ...  0.087753 -0.351471 -0.699205  0.123320   \n",
              "\n",
              "        555       556       557       558       559       560  \n",
              "0  0.030400 -0.464761 -0.018446 -0.841247  0.179941 -0.058627  \n",
              "1 -0.007435 -0.732626  0.703511 -0.844788  0.180289 -0.054317  \n",
              "2  0.177899  0.100699  0.808529 -0.848933  0.180637 -0.049118  \n",
              "3 -0.012892  0.640011 -0.485366 -0.848649  0.181935 -0.047663  \n",
              "4  0.122542  0.693578 -0.615971 -0.847865  0.185151 -0.043892  \n",
              "\n",
              "[5 rows x 561 columns]"
            ],
            "text/html": [
              "\n",
              "  <div id=\"df-6a331f51-5fdf-4cb3-afcf-dae8f4f82f3a\">\n",
              "    <div class=\"colab-df-container\">\n",
              "      <div>\n",
              "<style scoped>\n",
              "    .dataframe tbody tr th:only-of-type {\n",
              "        vertical-align: middle;\n",
              "    }\n",
              "\n",
              "    .dataframe tbody tr th {\n",
              "        vertical-align: top;\n",
              "    }\n",
              "\n",
              "    .dataframe thead th {\n",
              "        text-align: right;\n",
              "    }\n",
              "</style>\n",
              "<table border=\"1\" class=\"dataframe\">\n",
              "  <thead>\n",
              "    <tr style=\"text-align: right;\">\n",
              "      <th></th>\n",
              "      <th>0</th>\n",
              "      <th>1</th>\n",
              "      <th>2</th>\n",
              "      <th>3</th>\n",
              "      <th>4</th>\n",
              "      <th>5</th>\n",
              "      <th>6</th>\n",
              "      <th>7</th>\n",
              "      <th>8</th>\n",
              "      <th>9</th>\n",
              "      <th>...</th>\n",
              "      <th>551</th>\n",
              "      <th>552</th>\n",
              "      <th>553</th>\n",
              "      <th>554</th>\n",
              "      <th>555</th>\n",
              "      <th>556</th>\n",
              "      <th>557</th>\n",
              "      <th>558</th>\n",
              "      <th>559</th>\n",
              "      <th>560</th>\n",
              "    </tr>\n",
              "  </thead>\n",
              "  <tbody>\n",
              "    <tr>\n",
              "      <th>0</th>\n",
              "      <td>0.288585</td>\n",
              "      <td>-0.020294</td>\n",
              "      <td>-0.132905</td>\n",
              "      <td>-0.995279</td>\n",
              "      <td>-0.983111</td>\n",
              "      <td>-0.913526</td>\n",
              "      <td>-0.995112</td>\n",
              "      <td>-0.983185</td>\n",
              "      <td>-0.923527</td>\n",
              "      <td>-0.934724</td>\n",
              "      <td>...</td>\n",
              "      <td>-0.074323</td>\n",
              "      <td>-0.298676</td>\n",
              "      <td>-0.710304</td>\n",
              "      <td>-0.112754</td>\n",
              "      <td>0.030400</td>\n",
              "      <td>-0.464761</td>\n",
              "      <td>-0.018446</td>\n",
              "      <td>-0.841247</td>\n",
              "      <td>0.179941</td>\n",
              "      <td>-0.058627</td>\n",
              "    </tr>\n",
              "    <tr>\n",
              "      <th>1</th>\n",
              "      <td>0.278419</td>\n",
              "      <td>-0.016411</td>\n",
              "      <td>-0.123520</td>\n",
              "      <td>-0.998245</td>\n",
              "      <td>-0.975300</td>\n",
              "      <td>-0.960322</td>\n",
              "      <td>-0.998807</td>\n",
              "      <td>-0.974914</td>\n",
              "      <td>-0.957686</td>\n",
              "      <td>-0.943068</td>\n",
              "      <td>...</td>\n",
              "      <td>0.158075</td>\n",
              "      <td>-0.595051</td>\n",
              "      <td>-0.861499</td>\n",
              "      <td>0.053477</td>\n",
              "      <td>-0.007435</td>\n",
              "      <td>-0.732626</td>\n",
              "      <td>0.703511</td>\n",
              "      <td>-0.844788</td>\n",
              "      <td>0.180289</td>\n",
              "      <td>-0.054317</td>\n",
              "    </tr>\n",
              "    <tr>\n",
              "      <th>2</th>\n",
              "      <td>0.279653</td>\n",
              "      <td>-0.019467</td>\n",
              "      <td>-0.113462</td>\n",
              "      <td>-0.995380</td>\n",
              "      <td>-0.967187</td>\n",
              "      <td>-0.978944</td>\n",
              "      <td>-0.996520</td>\n",
              "      <td>-0.963668</td>\n",
              "      <td>-0.977469</td>\n",
              "      <td>-0.938692</td>\n",
              "      <td>...</td>\n",
              "      <td>0.414503</td>\n",
              "      <td>-0.390748</td>\n",
              "      <td>-0.760104</td>\n",
              "      <td>-0.118559</td>\n",
              "      <td>0.177899</td>\n",
              "      <td>0.100699</td>\n",
              "      <td>0.808529</td>\n",
              "      <td>-0.848933</td>\n",
              "      <td>0.180637</td>\n",
              "      <td>-0.049118</td>\n",
              "    </tr>\n",
              "    <tr>\n",
              "      <th>3</th>\n",
              "      <td>0.279174</td>\n",
              "      <td>-0.026201</td>\n",
              "      <td>-0.123283</td>\n",
              "      <td>-0.996091</td>\n",
              "      <td>-0.983403</td>\n",
              "      <td>-0.990675</td>\n",
              "      <td>-0.997099</td>\n",
              "      <td>-0.982750</td>\n",
              "      <td>-0.989302</td>\n",
              "      <td>-0.938692</td>\n",
              "      <td>...</td>\n",
              "      <td>0.404573</td>\n",
              "      <td>-0.117290</td>\n",
              "      <td>-0.482845</td>\n",
              "      <td>-0.036788</td>\n",
              "      <td>-0.012892</td>\n",
              "      <td>0.640011</td>\n",
              "      <td>-0.485366</td>\n",
              "      <td>-0.848649</td>\n",
              "      <td>0.181935</td>\n",
              "      <td>-0.047663</td>\n",
              "    </tr>\n",
              "    <tr>\n",
              "      <th>4</th>\n",
              "      <td>0.276629</td>\n",
              "      <td>-0.016570</td>\n",
              "      <td>-0.115362</td>\n",
              "      <td>-0.998139</td>\n",
              "      <td>-0.980817</td>\n",
              "      <td>-0.990482</td>\n",
              "      <td>-0.998321</td>\n",
              "      <td>-0.979672</td>\n",
              "      <td>-0.990441</td>\n",
              "      <td>-0.942469</td>\n",
              "      <td>...</td>\n",
              "      <td>0.087753</td>\n",
              "      <td>-0.351471</td>\n",
              "      <td>-0.699205</td>\n",
              "      <td>0.123320</td>\n",
              "      <td>0.122542</td>\n",
              "      <td>0.693578</td>\n",
              "      <td>-0.615971</td>\n",
              "      <td>-0.847865</td>\n",
              "      <td>0.185151</td>\n",
              "      <td>-0.043892</td>\n",
              "    </tr>\n",
              "  </tbody>\n",
              "</table>\n",
              "<p>5 rows × 561 columns</p>\n",
              "</div>\n",
              "      <button class=\"colab-df-convert\" onclick=\"convertToInteractive('df-6a331f51-5fdf-4cb3-afcf-dae8f4f82f3a')\"\n",
              "              title=\"Convert this dataframe to an interactive table.\"\n",
              "              style=\"display:none;\">\n",
              "        \n",
              "  <svg xmlns=\"http://www.w3.org/2000/svg\" height=\"24px\"viewBox=\"0 0 24 24\"\n",
              "       width=\"24px\">\n",
              "    <path d=\"M0 0h24v24H0V0z\" fill=\"none\"/>\n",
              "    <path d=\"M18.56 5.44l.94 2.06.94-2.06 2.06-.94-2.06-.94-.94-2.06-.94 2.06-2.06.94zm-11 1L8.5 8.5l.94-2.06 2.06-.94-2.06-.94L8.5 2.5l-.94 2.06-2.06.94zm10 10l.94 2.06.94-2.06 2.06-.94-2.06-.94-.94-2.06-.94 2.06-2.06.94z\"/><path d=\"M17.41 7.96l-1.37-1.37c-.4-.4-.92-.59-1.43-.59-.52 0-1.04.2-1.43.59L10.3 9.45l-7.72 7.72c-.78.78-.78 2.05 0 2.83L4 21.41c.39.39.9.59 1.41.59.51 0 1.02-.2 1.41-.59l7.78-7.78 2.81-2.81c.8-.78.8-2.07 0-2.86zM5.41 20L4 18.59l7.72-7.72 1.47 1.35L5.41 20z\"/>\n",
              "  </svg>\n",
              "      </button>\n",
              "      \n",
              "  <style>\n",
              "    .colab-df-container {\n",
              "      display:flex;\n",
              "      flex-wrap:wrap;\n",
              "      gap: 12px;\n",
              "    }\n",
              "\n",
              "    .colab-df-convert {\n",
              "      background-color: #E8F0FE;\n",
              "      border: none;\n",
              "      border-radius: 50%;\n",
              "      cursor: pointer;\n",
              "      display: none;\n",
              "      fill: #1967D2;\n",
              "      height: 32px;\n",
              "      padding: 0 0 0 0;\n",
              "      width: 32px;\n",
              "    }\n",
              "\n",
              "    .colab-df-convert:hover {\n",
              "      background-color: #E2EBFA;\n",
              "      box-shadow: 0px 1px 2px rgba(60, 64, 67, 0.3), 0px 1px 3px 1px rgba(60, 64, 67, 0.15);\n",
              "      fill: #174EA6;\n",
              "    }\n",
              "\n",
              "    [theme=dark] .colab-df-convert {\n",
              "      background-color: #3B4455;\n",
              "      fill: #D2E3FC;\n",
              "    }\n",
              "\n",
              "    [theme=dark] .colab-df-convert:hover {\n",
              "      background-color: #434B5C;\n",
              "      box-shadow: 0px 1px 3px 1px rgba(0, 0, 0, 0.15);\n",
              "      filter: drop-shadow(0px 1px 2px rgba(0, 0, 0, 0.3));\n",
              "      fill: #FFFFFF;\n",
              "    }\n",
              "  </style>\n",
              "\n",
              "      <script>\n",
              "        const buttonEl =\n",
              "          document.querySelector('#df-6a331f51-5fdf-4cb3-afcf-dae8f4f82f3a button.colab-df-convert');\n",
              "        buttonEl.style.display =\n",
              "          google.colab.kernel.accessAllowed ? 'block' : 'none';\n",
              "\n",
              "        async function convertToInteractive(key) {\n",
              "          const element = document.querySelector('#df-6a331f51-5fdf-4cb3-afcf-dae8f4f82f3a');\n",
              "          const dataTable =\n",
              "            await google.colab.kernel.invokeFunction('convertToInteractive',\n",
              "                                                     [key], {});\n",
              "          if (!dataTable) return;\n",
              "\n",
              "          const docLinkHtml = 'Like what you see? Visit the ' +\n",
              "            '<a target=\"_blank\" href=https://colab.research.google.com/notebooks/data_table.ipynb>data table notebook</a>'\n",
              "            + ' to learn more about interactive tables.';\n",
              "          element.innerHTML = '';\n",
              "          dataTable['output_type'] = 'display_data';\n",
              "          await google.colab.output.renderOutput(dataTable, element);\n",
              "          const docLink = document.createElement('div');\n",
              "          docLink.innerHTML = docLinkHtml;\n",
              "          element.appendChild(docLink);\n",
              "        }\n",
              "      </script>\n",
              "    </div>\n",
              "  </div>\n",
              "  "
            ]
          },
          "metadata": {},
          "execution_count": 26
        }
      ]
    },
    {
      "cell_type": "code",
      "source": [
        "print(y_train.info())\n",
        "y_train"
      ],
      "metadata": {
        "id": "JLH7BA0LzXKs",
        "colab": {
          "base_uri": "https://localhost:8080/",
          "height": 580
        },
        "outputId": "2443eadd-a149-46c4-973d-bb12274ebade"
      },
      "execution_count": null,
      "outputs": [
        {
          "output_type": "stream",
          "name": "stdout",
          "text": [
            "<class 'pandas.core.frame.DataFrame'>\n",
            "RangeIndex: 7352 entries, 0 to 7351\n",
            "Data columns (total 1 columns):\n",
            " #   Column  Non-Null Count  Dtype\n",
            "---  ------  --------------  -----\n",
            " 0   0       7352 non-null   int64\n",
            "dtypes: int64(1)\n",
            "memory usage: 57.6 KB\n",
            "None\n"
          ]
        },
        {
          "output_type": "execute_result",
          "data": {
            "text/plain": [
              "      0\n",
              "0     5\n",
              "1     5\n",
              "2     5\n",
              "3     5\n",
              "4     5\n",
              "...  ..\n",
              "7347  2\n",
              "7348  2\n",
              "7349  2\n",
              "7350  2\n",
              "7351  2\n",
              "\n",
              "[7352 rows x 1 columns]"
            ],
            "text/html": [
              "\n",
              "  <div id=\"df-c422e14f-d98d-4148-a234-f35c28140aa2\">\n",
              "    <div class=\"colab-df-container\">\n",
              "      <div>\n",
              "<style scoped>\n",
              "    .dataframe tbody tr th:only-of-type {\n",
              "        vertical-align: middle;\n",
              "    }\n",
              "\n",
              "    .dataframe tbody tr th {\n",
              "        vertical-align: top;\n",
              "    }\n",
              "\n",
              "    .dataframe thead th {\n",
              "        text-align: right;\n",
              "    }\n",
              "</style>\n",
              "<table border=\"1\" class=\"dataframe\">\n",
              "  <thead>\n",
              "    <tr style=\"text-align: right;\">\n",
              "      <th></th>\n",
              "      <th>0</th>\n",
              "    </tr>\n",
              "  </thead>\n",
              "  <tbody>\n",
              "    <tr>\n",
              "      <th>0</th>\n",
              "      <td>5</td>\n",
              "    </tr>\n",
              "    <tr>\n",
              "      <th>1</th>\n",
              "      <td>5</td>\n",
              "    </tr>\n",
              "    <tr>\n",
              "      <th>2</th>\n",
              "      <td>5</td>\n",
              "    </tr>\n",
              "    <tr>\n",
              "      <th>3</th>\n",
              "      <td>5</td>\n",
              "    </tr>\n",
              "    <tr>\n",
              "      <th>4</th>\n",
              "      <td>5</td>\n",
              "    </tr>\n",
              "    <tr>\n",
              "      <th>...</th>\n",
              "      <td>...</td>\n",
              "    </tr>\n",
              "    <tr>\n",
              "      <th>7347</th>\n",
              "      <td>2</td>\n",
              "    </tr>\n",
              "    <tr>\n",
              "      <th>7348</th>\n",
              "      <td>2</td>\n",
              "    </tr>\n",
              "    <tr>\n",
              "      <th>7349</th>\n",
              "      <td>2</td>\n",
              "    </tr>\n",
              "    <tr>\n",
              "      <th>7350</th>\n",
              "      <td>2</td>\n",
              "    </tr>\n",
              "    <tr>\n",
              "      <th>7351</th>\n",
              "      <td>2</td>\n",
              "    </tr>\n",
              "  </tbody>\n",
              "</table>\n",
              "<p>7352 rows × 1 columns</p>\n",
              "</div>\n",
              "      <button class=\"colab-df-convert\" onclick=\"convertToInteractive('df-c422e14f-d98d-4148-a234-f35c28140aa2')\"\n",
              "              title=\"Convert this dataframe to an interactive table.\"\n",
              "              style=\"display:none;\">\n",
              "        \n",
              "  <svg xmlns=\"http://www.w3.org/2000/svg\" height=\"24px\"viewBox=\"0 0 24 24\"\n",
              "       width=\"24px\">\n",
              "    <path d=\"M0 0h24v24H0V0z\" fill=\"none\"/>\n",
              "    <path d=\"M18.56 5.44l.94 2.06.94-2.06 2.06-.94-2.06-.94-.94-2.06-.94 2.06-2.06.94zm-11 1L8.5 8.5l.94-2.06 2.06-.94-2.06-.94L8.5 2.5l-.94 2.06-2.06.94zm10 10l.94 2.06.94-2.06 2.06-.94-2.06-.94-.94-2.06-.94 2.06-2.06.94z\"/><path d=\"M17.41 7.96l-1.37-1.37c-.4-.4-.92-.59-1.43-.59-.52 0-1.04.2-1.43.59L10.3 9.45l-7.72 7.72c-.78.78-.78 2.05 0 2.83L4 21.41c.39.39.9.59 1.41.59.51 0 1.02-.2 1.41-.59l7.78-7.78 2.81-2.81c.8-.78.8-2.07 0-2.86zM5.41 20L4 18.59l7.72-7.72 1.47 1.35L5.41 20z\"/>\n",
              "  </svg>\n",
              "      </button>\n",
              "      \n",
              "  <style>\n",
              "    .colab-df-container {\n",
              "      display:flex;\n",
              "      flex-wrap:wrap;\n",
              "      gap: 12px;\n",
              "    }\n",
              "\n",
              "    .colab-df-convert {\n",
              "      background-color: #E8F0FE;\n",
              "      border: none;\n",
              "      border-radius: 50%;\n",
              "      cursor: pointer;\n",
              "      display: none;\n",
              "      fill: #1967D2;\n",
              "      height: 32px;\n",
              "      padding: 0 0 0 0;\n",
              "      width: 32px;\n",
              "    }\n",
              "\n",
              "    .colab-df-convert:hover {\n",
              "      background-color: #E2EBFA;\n",
              "      box-shadow: 0px 1px 2px rgba(60, 64, 67, 0.3), 0px 1px 3px 1px rgba(60, 64, 67, 0.15);\n",
              "      fill: #174EA6;\n",
              "    }\n",
              "\n",
              "    [theme=dark] .colab-df-convert {\n",
              "      background-color: #3B4455;\n",
              "      fill: #D2E3FC;\n",
              "    }\n",
              "\n",
              "    [theme=dark] .colab-df-convert:hover {\n",
              "      background-color: #434B5C;\n",
              "      box-shadow: 0px 1px 3px 1px rgba(0, 0, 0, 0.15);\n",
              "      filter: drop-shadow(0px 1px 2px rgba(0, 0, 0, 0.3));\n",
              "      fill: #FFFFFF;\n",
              "    }\n",
              "  </style>\n",
              "\n",
              "      <script>\n",
              "        const buttonEl =\n",
              "          document.querySelector('#df-c422e14f-d98d-4148-a234-f35c28140aa2 button.colab-df-convert');\n",
              "        buttonEl.style.display =\n",
              "          google.colab.kernel.accessAllowed ? 'block' : 'none';\n",
              "\n",
              "        async function convertToInteractive(key) {\n",
              "          const element = document.querySelector('#df-c422e14f-d98d-4148-a234-f35c28140aa2');\n",
              "          const dataTable =\n",
              "            await google.colab.kernel.invokeFunction('convertToInteractive',\n",
              "                                                     [key], {});\n",
              "          if (!dataTable) return;\n",
              "\n",
              "          const docLinkHtml = 'Like what you see? Visit the ' +\n",
              "            '<a target=\"_blank\" href=https://colab.research.google.com/notebooks/data_table.ipynb>data table notebook</a>'\n",
              "            + ' to learn more about interactive tables.';\n",
              "          element.innerHTML = '';\n",
              "          dataTable['output_type'] = 'display_data';\n",
              "          await google.colab.output.renderOutput(dataTable, element);\n",
              "          const docLink = document.createElement('div');\n",
              "          docLink.innerHTML = docLinkHtml;\n",
              "          element.appendChild(docLink);\n",
              "        }\n",
              "      </script>\n",
              "    </div>\n",
              "  </div>\n",
              "  "
            ]
          },
          "metadata": {},
          "execution_count": 27
        }
      ]
    },
    {
      "cell_type": "code",
      "source": [
        "# used as a 1D layer\n",
        "class conv2d_layer:\n",
        "    def __init__(self,shape,n,anything_else = None):\n",
        "        self.w = np.random.rand(n,shape[0],shape[1],shape[2])/(np.product(shape)+1)\n",
        "        self.b = np.random.rand(n)/(np.product(shape)+1)\n",
        "        self.n = n\n",
        "        \n",
        "    def forward(self,Image):    \n",
        "        \n",
        "        if(len(Image.shape)==2):\n",
        "            Image=np.reshape(Image,(1,Image.shape[0],Image.shape[1]))\n",
        "            \n",
        "        x,y = Image[0].shape\n",
        "\n",
        "        _ , x_k , y_k = self.w[0].shape\n",
        "\n",
        "        out_x = x-x_k+1\n",
        "        out_y = y-y_k+1\n",
        "        \n",
        "        output = []\n",
        "        \n",
        "        for pos in range(self.n):\n",
        "            out = np.zeros((out_x,out_y))\n",
        "            \n",
        "            for i in range(out_x):\n",
        "                for j in range(out_y):\n",
        "                    out[i,j] = np.sum(Image[:,i:i+x_k,j:j+y_k]*self.w[pos]) + self.b[pos]\n",
        "            output = output + [out]\n",
        "        output = np.array(output)      \n",
        "        return output\n",
        "    \n",
        "    def reverse(self,Image,Errors):\n",
        "        \n",
        "        if(len(Image.shape)==2):\n",
        "            Image=np.reshape(Image,(1,Image.shape[0],Image.shape[1]))\n",
        "            \n",
        "        x,y = Image[0].shape\n",
        "        _ ,x_k,y_k = self.w[0].shape\n",
        "        err_x,err_y = Errors[0].shape\n",
        "        \n",
        "        output = np.zeros_like(Image,Errors.dtype)\n",
        "        for layer in range(self.n):\n",
        "            for i in range(err_x):\n",
        "                for j in range(err_y):\n",
        "                    output[:,i:i+x_k,j:j+y_k] += Errors[layer,i,j]*self.w[layer]\n",
        "                    self.w[layer] = self.w[layer] - Errors[layer,i,j]*Image[:,i:i+x_k,j:j+y_k]\n",
        "                    self.b[layer] = self.b[layer] - Errors[layer,i,j]\n",
        "        return output\n",
        "    \n",
        "    def display(self):\n",
        "        print(\"\\n**********Convolution Parameters**********\")\n",
        "        print(\"Weights are:\\n\", self.w)\n",
        "        print(\"Bias is:\\n \", self.b)\n",
        "        print(\"#Kernels is:\\n \", self.n)\n",
        "        \n",
        "# tanh\n",
        "class tanh:\n",
        "    \n",
        "    def forward(self,Input):\n",
        "        exp = np.exp(-2*Input)\n",
        "        output = (1-exp)/(1+exp)\n",
        "        return output\n",
        "    \n",
        "    def reverse(self,Input,Errors):\n",
        "        der = 1-np.square(self.forward(Input))\n",
        "        output = der*Errors\n",
        "        return output\n",
        "    \n",
        "# AveragePooling2D (Used as 1D)\n",
        "class AveragePooling2D:\n",
        "    \n",
        "    def __init__(self,shape,stride,anything_else = None):\n",
        "        self.shape = shape\n",
        "        self.stride = stride\n",
        "        \n",
        "    def forward(self,Image):  \n",
        "        if(len(Image.shape)==2):\n",
        "            Image=np.reshape(Image,(1,Image.shape[0],Image.shape[1]))\n",
        "            \n",
        "        x,y = Image[0].shape\n",
        "        s=self.stride\n",
        "        x_k,y_k = self.shape\n",
        "        \n",
        "        out_x = (x-x_k)//s+1\n",
        "        out_y = (y-y_k)//s+1\n",
        "\n",
        "        output = []\n",
        "        for pos in range(Image.shape[0]):\n",
        "            \n",
        "            out = np.zeros((out_x,out_y))\n",
        "\n",
        "            for i in range(out_x):\n",
        "                for j in range(out_y):\n",
        "                    out[i,j] = np.mean(Image[0][i*s:i*s+x_k,j*s:j*s+y_k])\n",
        "            output = output + [out]\n",
        "            \n",
        "        output = np.array(output)\n",
        "        \n",
        "        return output\n",
        "    \n",
        "    def reverse(self,Image,Errors):\n",
        "        if(len(Image.shape)==2):\n",
        "            Image=np.reshape(Image,(1,Image.shape[0],Image.shape[1]))\n",
        "        \n",
        "        x,y = Image[0].shape\n",
        "        x_k,y_k = self.shape\n",
        "        err_x,err_y = Errors[0].shape\n",
        "            \n",
        "        output = []\n",
        "        for pos in range(Image.shape[0]):\n",
        "\n",
        "            out = np.zeros_like(Image[pos],Errors.dtype)\n",
        "\n",
        "            for i in range(err_x):\n",
        "                for j in range(err_y):\n",
        "                    out[i:i+x_k,j:j+y_k] += Errors[pos,i,j]/(x_k*y_k)\n",
        "            output = output + [out]\n",
        "        output = np.array(output)\n",
        "        return output\n",
        "    \n",
        "# Flatten\n",
        "class flatten():\n",
        "    \n",
        "    def forward(self,Image):\n",
        "        output = np.reshape(Image,np.product(Image.shape))\n",
        "        return output\n",
        "    \n",
        "    def reverse(self,Image,errors):\n",
        "        output = np.reshape(errors,Image.shape)\n",
        "        return output\n",
        "\n",
        "# Dense\n",
        "class fully_connected():\n",
        "    def __init__(self,input_size,n):\n",
        "        \n",
        "        self.w = np.random.rand(n,input_size)/(input_size+1)\n",
        "        self.b = np.random.rand(n)/(input_size+1)\n",
        "        self.n = n\n",
        "    \n",
        "    def forward(self,Input):\n",
        "        output = []\n",
        "        for layer in range(self.n):\n",
        "            out = np.dot(Input,self.w[layer]) + self.b[layer]\n",
        "            output = output + [out]\n",
        "        output = np.array(output)\n",
        "        return output\n",
        "    \n",
        "    def reverse(self,Input,errors):\n",
        "        \n",
        "        output = np.zeros_like(Input)\n",
        "        for layer in range(self.n):\n",
        "            self.w[layer] = self.w[layer] - errors[layer]*Input\n",
        "            self.b[layer] = self.b[layer] - errors[layer]\n",
        "            output = output + errors[layer]*self.w[layer]   \n",
        "        output = np.array(output)\n",
        "        return output\n",
        "    \n",
        "# softmax\n",
        "class softmax():\n",
        "    \n",
        "    def forward(self,Input):\n",
        "\n",
        "        Numerator = np.exp(Input)\n",
        "        output = Numerator/sum(Numerator)\n",
        "        \n",
        "        return (output)\n",
        "    \n",
        "    def reverse(self,Input,errors):\n",
        "            \n",
        "        Soft = self.forward(Input)\n",
        "        \n",
        "        Soft_list = np.array([list(Soft)] * len(Soft))\n",
        "        derivative = Soft_list.T*(np.identity(len(Soft)) - Soft_list)\n",
        "        \n",
        "        output = np.matmul(errors,derivative)\n",
        "        \n",
        "        return output\n",
        "\n",
        "def SoftmaxLoss(truth,predicted):\n",
        "    \n",
        "    loss = -1* np.sum(truth*np.log(predicted))\n",
        "    \n",
        "    Numerator = np.exp(predicted)\n",
        "    softmax = Numerator/sum(Numerator)\n",
        "        \n",
        "    grad = softmax\n",
        "    grad[truth == 1] = softmax[truth == 1] - 1\n",
        "    \n",
        "    return (loss,grad)\n",
        "# Must work for both adam as well as SGD algos"
      ],
      "metadata": {
        "id": "Teqsmzc0T1Uq"
      },
      "execution_count": null,
      "outputs": []
    },
    {
      "cell_type": "code",
      "source": [
        "Model = [] #Input = 1*561\n",
        "\n",
        "#Layer 0\n",
        "Model = Model + [conv2d_layer((1,10,1),50)] #Out = 50*552*1\n",
        "\n",
        "#Layer 1\n",
        "Model = Model + [tanh()] #Out = 50*552*1\n",
        "\n",
        "#Layer 2\n",
        "Model = Model + [AveragePooling2D((3,1),3)] #Out = (50, 184, 1)\n",
        "\n",
        "#Layer 3\n",
        "Model = Model + [conv2d_layer((50,5,1),16)] #Out = (16, 180, 1)\n",
        "\n",
        "#Layer 4\n",
        "Model = Model + [tanh()] #Out = (16, 180, 1)\n",
        "\n",
        "#Layer 5\n",
        "Model = Model + [AveragePooling2D((3,1),3)]# Out = (16, 60, 1)\n",
        "\n",
        "#Layer 6\n",
        "Model = Model + [conv2d_layer((16,5,1),1)] #Out = (1, 56, 1)\n",
        "\n",
        "#Layer 7\n",
        "Model = Model + [tanh()] #Out = (1, 56, 1)\n",
        "\n",
        "#Layer 8\n",
        "Model = Model + [flatten()] #Out = 56\n",
        "\n",
        "#Layer 9\n",
        "Model = Model + [fully_connected(56,6)] #Out = 6\n",
        "\n",
        "#Layer 10\n",
        "Model = Model + [tanh()] #Out = 6\n",
        "\n",
        "# #Layer 11\n",
        "# Model = Model + [fully_connected(6,6)] #Out = 10\n",
        "\n",
        "#Layer 12\n",
        "Model = Model + [softmax()] #Out = 6"
      ],
      "metadata": {
        "id": "fVKOa1F1T1SS"
      },
      "execution_count": null,
      "outputs": []
    },
    {
      "cell_type": "code",
      "source": [
        "epochs = 3\n",
        "Recorded_loss = []\n",
        "Learning_rate = 0.01\n",
        "\n",
        "x_train,y_train = shuffle(x_train,y_train)\n",
        "\n",
        "x_train = np.array(x_train[:50])\n",
        "y_train = np.array(y_train[:50])\n",
        "\n",
        "\n",
        "n_layers = len(Model)\n",
        "for ep in tqdm.tqdm(range(epochs),leave=True,desc = \"Epochs\"):\n",
        "    \n",
        "    Data = tqdm.tqdm(zip(x_train,y_train),total = len(y_train),leave=False,desc = \"Images\")\n",
        "    \n",
        "    for Input_img,truth in Data:\n",
        "        truth_onehot = np.array([0]*6)\n",
        "        truth_onehot[truth-1] = 1\n",
        "        outputs = [np.reshape(Input_img,(1,Input_img.shape[0],1))]\n",
        "        \n",
        "        for i in range(n_layers):\n",
        "            out = Model[i].forward(outputs[-1])\n",
        "            outputs += [out.copy()]\n",
        "            \n",
        "    \n",
        "        Loss, error = SoftmaxLoss(truth_onehot,outputs[-1])\n",
        "        error = error * Learning_rate\n",
        "        Recorded_loss += [Loss] \n",
        "        \n",
        "        Data.set_description(\"Current loss is: {}\".format(np.round(Loss,5)))\n",
        "        Data.refresh()\n",
        "        \n",
        "        error = [error]\n",
        "        for i in range(n_layers-1,-1,-1):\n",
        "            out = Model[i].reverse(outputs[i],error[-1])\n",
        "            error += [out.copy()]    \n",
        "    Data.set_description(\"Completed\")\n",
        "    Data.refresh()"
      ],
      "metadata": {
        "colab": {
          "base_uri": "https://localhost:8080/",
          "height": 49,
          "referenced_widgets": [
            "5ffecc14381e4b339a0ae25277086817",
            "b6b4516721084b309e2830f1eaf3a80f",
            "c7374768bcdc4c7d9b303afb03e131c8",
            "1d74942bc3e7458f9e1a1a226b1081e9",
            "9cbe3b7acbc248b5befb24ed17961721",
            "5bb434f309c2476595708462c5dd377c",
            "39d65bef567c4b0f863587d8a53e78f9",
            "a28543eb4ac3453ab619d31cb3f8bca2",
            "5c3240ba70184fc1a39a63384278217f",
            "7dbf2e00b2804caba3a880f270d4a9a0",
            "6b2a7f3c87f74e0ea211f2fb66ebdc0b",
            "bbce1ef14a2d4738a27a5e9f849716d0",
            "4387e353cc5441489710c07217e58627",
            "dcec3226e51d400dbbe1e389a351a686",
            "a726f502c5274747a82daed3c3774a4e",
            "f24b243165774a8492994ce4313a277c",
            "1333d379d57c4f1f9f0f8d3ddbd007a9",
            "95aa02a07c4e4010acf7c16df2d45797",
            "9bd25ab09b0749e3a2b21d34e0a568f7",
            "aca71fa8582a4d74b10fd1de8b83d0ad",
            "2b2647667f4145338aca072a74491358",
            "32846a2063ec4ede9a4ebc0edfb6d45a",
            "50dfb203dbaa42ebb77226ee26204608",
            "dee4e52cb02f4675a512bfea75fce4d9",
            "66503e6dba67498f9d6afb81f8cf5412",
            "8b2dc3c0c0b24a4e89befd52e22b5aa6",
            "b441286414294741bc31cfff5f206a8f",
            "7b4fd1a266f34fb598598362d1b10e25",
            "0caf812e0d124f349cbf830d67898cfb",
            "f07d854a94b8434c8d456c67adfa57c8",
            "f6c89060fd774ad8a4cd611000f1e4fe",
            "4caaaa86a49348f9bca6b4563e358354",
            "3e8af3c8a02d4003bca3af891167b15c",
            "4a9c5f1dff9a480d8c51403ec529a49b",
            "b7ad032d16aa4f79b22e70f651136952",
            "67bde846d11049079d92e825c6369f6b",
            "210c463be1d040e78c9b0d1a61b32320",
            "c7b9d76c297640d287ea51bb9c451787",
            "80ec128cfcb6455e8742c020063d8350",
            "2c9dae5461e246a2bf28dee1ceabc57e",
            "51e5c8e246ee45dbb4e5fd8a546b4aad",
            "a5b3a815ce9f4278b9b3518a2b915a8f",
            "f7b97c853f994b9eb87ebb48f8dd3ba9",
            "605432b1182a4df0864d12c794c64b37"
          ]
        },
        "id": "QMlApUi8T1Px",
        "outputId": "ecb5b779-14d5-44da-e920-1cea27dbce0f"
      },
      "execution_count": null,
      "outputs": [
        {
          "output_type": "display_data",
          "data": {
            "text/plain": [
              "Epochs:   0%|          | 0/3 [00:00<?, ?it/s]"
            ],
            "application/vnd.jupyter.widget-view+json": {
              "version_major": 2,
              "version_minor": 0,
              "model_id": "5ffecc14381e4b339a0ae25277086817"
            }
          },
          "metadata": {}
        },
        {
          "output_type": "display_data",
          "data": {
            "text/plain": [
              "Images:   0%|          | 0/50 [00:00<?, ?it/s]"
            ],
            "application/vnd.jupyter.widget-view+json": {
              "version_major": 2,
              "version_minor": 0,
              "model_id": "bbce1ef14a2d4738a27a5e9f849716d0"
            }
          },
          "metadata": {}
        },
        {
          "output_type": "display_data",
          "data": {
            "text/plain": [
              "Images:   0%|          | 0/50 [00:00<?, ?it/s]"
            ],
            "application/vnd.jupyter.widget-view+json": {
              "version_major": 2,
              "version_minor": 0,
              "model_id": "50dfb203dbaa42ebb77226ee26204608"
            }
          },
          "metadata": {}
        },
        {
          "output_type": "display_data",
          "data": {
            "text/plain": [
              "Images:   0%|          | 0/50 [00:00<?, ?it/s]"
            ],
            "application/vnd.jupyter.widget-view+json": {
              "version_major": 2,
              "version_minor": 0,
              "model_id": "4a9c5f1dff9a480d8c51403ec529a49b"
            }
          },
          "metadata": {}
        }
      ]
    },
    {
      "cell_type": "code",
      "source": [
        "val = 15\n",
        "Avg_loss = []\n",
        "for i in range(len(Recorded_loss)-val):\n",
        "    Avg_loss +=  [np.mean(Recorded_loss[i:i+val])]\n",
        "\n",
        "plt.figure()\n",
        "plt.title(\"Loss\")\n",
        "plt.plot(Avg_loss)"
      ],
      "metadata": {
        "colab": {
          "base_uri": "https://localhost:8080/",
          "height": 298
        },
        "id": "LaMC-wPpT1Nc",
        "outputId": "fc4a8451-7e58-43cd-e8be-83933e4f7e72"
      },
      "execution_count": null,
      "outputs": [
        {
          "output_type": "execute_result",
          "data": {
            "text/plain": [
              "[<matplotlib.lines.Line2D at 0x7fefadf72ad0>]"
            ]
          },
          "metadata": {},
          "execution_count": 38
        },
        {
          "output_type": "display_data",
          "data": {
            "text/plain": [
              "<Figure size 432x288 with 1 Axes>"
            ],
            "image/png": "[encoded data removed]"
          },
          "metadata": {
            "needs_background": "light"
          }
        }
      ]
    },
    {
      "cell_type": "code",
      "source": [
        "prediction = []\n",
        "\n",
        "test_set = np.array(x_test[0:50])\n",
        "y_test = np.array(y_test[0:50])\n",
        "y_test = np.reshape(y_test,y_test.shape[0])\n",
        "print(y_test)\n",
        "for Input_img in tqdm.tqdm(test_set,total = len(test_set)):\n",
        "    outputs = [np.reshape(Input_img,(1,Input_img.shape[0],1))]\n",
        "    for i in range(n_layers):\n",
        "        out = Model[i].forward(outputs[-1])\n",
        "        outputs += [out.copy()]\n",
        "    prediction += [np.argmax(out)]\n",
        "    \n",
        "y_actu = pd.Series(y_test, name='Actual')\n",
        "y_pred = pd.Series(prediction, name='Predicted')"
      ],
      "metadata": {
        "colab": {
          "base_uri": "https://localhost:8080/",
          "height": 84,
          "referenced_widgets": [
            "e715cfce050548779ed839994ecaaae6",
            "c0d2f09d2b404d24b91934e670d81527",
            "a2504267ce0b4c4ab0e0b6b313cad94f",
            "d2d23e716d5c4e999e226cd5764b820a",
            "0256ece1e0df4e9e8faf9fab1fefbcf9",
            "851f6d6dede44029b48cfb0caba8c26f",
            "3d2d06c97b2b4a3592be5d4eb83d150c",
            "5ad3279d2c8a4dd9895d89d1a11d3d75",
            "95c1dcffb7a4485e9b74f28a9677d05a",
            "c0a7e2535f0d4c7ab6d1d5e94b6bfeb8",
            "185c8b580a0e44e18c7d0239a2b2744e"
          ]
        },
        "id": "qZLmBgUOT1K5",
        "outputId": "2f59c47d-8102-46d1-8c0d-4c5ddc805949"
      },
      "execution_count": null,
      "outputs": [
        {
          "output_type": "stream",
          "name": "stdout",
          "text": [
            "[5 5 5 5 5 5 5 5 5 5 5 5 5 5 5 5 5 5 5 5 5 5 5 5 5 5 5 5 5 5 5 4 4 4 4 4 4\n",
            " 4 4 4 4 4 4 4 4 4 4 4 4 4]\n"
          ]
        },
        {
          "output_type": "display_data",
          "data": {
            "text/plain": [
              "  0%|          | 0/50 [00:00<?, ?it/s]"
            ],
            "application/vnd.jupyter.widget-view+json": {
              "version_major": 2,
              "version_minor": 0,
              "model_id": "e715cfce050548779ed839994ecaaae6"
            }
          },
          "metadata": {}
        }
      ]
    },
    {
      "cell_type": "code",
      "source": [
        "from sklearn import metrics\n",
        "cf_matrix = metrics.confusion_matrix(y_actu,y_pred)\n",
        "\n",
        "import seaborn as sns\n",
        "ax = sns.heatmap(cf_matrix, annot=True, cmap='Blues',annot_kws={\"size\":14})\n",
        "\n",
        "ax.set_title('Seaborn Confusion Matrix with labels\\n\\n',fontsize = 15);\n",
        "ax.set_xlabel('\\nPredicted Values',fontsize = 15)\n",
        "ax.set_ylabel('Actual Values',fontsize = 15);\n",
        "\n",
        "ax.xaxis.set_ticklabels(['4','5'],fontsize = 12)\n",
        "ax.yaxis.set_ticklabels(['4','5'],fontsize = 12)\n",
        "plt.show()"
      ],
      "metadata": {
        "colab": {
          "base_uri": "https://localhost:8080/",
          "height": 358
        },
        "id": "Ts4d6GsZT1IX",
        "outputId": "29ce96ac-2c58-4a7a-a463-3c6b19eba97b"
      },
      "execution_count": null,
      "outputs": [
        {
          "output_type": "display_data",
          "data": {
            "text/plain": [
              "<Figure size 432x288 with 2 Axes>"
            ],
            "image/png": "[encoded data removed]"
          },
          "metadata": {
            "needs_background": "light"
          }
        }
      ]
    },
    {
      "cell_type": "code",
      "source": [
        "from sklearn.metrics import classification_report\n",
        "labels = np.array([0,1,2,3,4,5])\n",
        "print(classification_report(y_test,prediction,labels=labels))"
      ],
      "metadata": {
        "colab": {
          "base_uri": "https://localhost:8080/"
        },
        "id": "HfZylCruT1F3",
        "outputId": "4e25e656-54b2-418a-9b00-e9f0adf45a6b"
      },
      "execution_count": null,
      "outputs": [
        {
          "output_type": "stream",
          "name": "stdout",
          "text": [
            "              precision    recall  f1-score   support\n",
            "\n",
            "           0       0.00      0.00      0.00         0\n",
            "           1       0.00      0.00      0.00         0\n",
            "           2       0.00      0.00      0.00         0\n",
            "           3       0.00      0.00      0.00         0\n",
            "           4       0.38      1.00      0.55        19\n",
            "           5       0.00      0.00      0.00        31\n",
            "\n",
            "   micro avg       0.38      0.38      0.38        50\n",
            "   macro avg       0.06      0.17      0.09        50\n",
            "weighted avg       0.14      0.38      0.21        50\n",
            "\n"
          ]
        }
      ]
    },
    {
      "cell_type": "code",
      "source": [
        ""
      ],
      "metadata": {
        "id": "ZkcvLiTRZmFD"
      },
      "execution_count": null,
      "outputs": []
    },
    {
      "cell_type": "markdown",
      "source": [
        "##Q.2)\n",
        "### Build a  AlexNet CNN  model  (using Keras/Tensorflow/Pytorch)  to recognize breast cancer from Breast Dataset (Use Sklearn Dataset and  split dataset into training dataset (80%) and  testing dataset (20%) ). Use an Adam gradient descent algorithm to learn model with parameters for α = 0.01 and random parameters of the parameters of the  CNN model for Focal loss function.  \n",
        "#### (i) Plot a comparative loss curve for at least 100 epochs.\n",
        "#### (ii) Print confusion matrix, calculate classification metrics such as precision, recall, f1-score and accuracy on test datset and ROC curve for each loss function.\n"
      ],
      "metadata": {
        "id": "OY0iJWpIzYLD"
      }
    },
    {
      "cell_type": "code",
      "source": [
        "from tensorflow.keras.layers import Conv1D, MaxPool1D\n",
        "from sklearn.preprocessing import StandardScaler"
      ],
      "metadata": {
        "id": "tZINZaJLjdpJ"
      },
      "execution_count": null,
      "outputs": []
    },
    {
      "cell_type": "code",
      "source": [
        "from sklearn.datasets import load_breast_cancer\n",
        "data = load_breast_cancer()\n",
        "X = pd.DataFrame(data = data.data, columns= data.feature_names )\n",
        "X.head()"
      ],
      "metadata": {
        "id": "sQ0S-ZSxzXIM",
        "colab": {
          "base_uri": "https://localhost:8080/",
          "height": 334
        },
        "outputId": "f728f6b2-0f7a-4e1b-de9e-692d60594405"
      },
      "execution_count": null,
      "outputs": [
        {
          "output_type": "execute_result",
          "data": {
            "text/plain": [
              "   mean radius  mean texture  mean perimeter  mean area  mean smoothness  \\\n",
              "0        17.99         10.38          122.80     1001.0          0.11840   \n",
              "1        20.57         17.77          132.90     1326.0          0.08474   \n",
              "2        19.69         21.25          130.00     1203.0          0.10960   \n",
              "3        11.42         20.38           77.58      386.1          0.14250   \n",
              "4        20.29         14.34          135.10     1297.0          0.10030   \n",
              "\n",
              "   mean compactness  mean concavity  mean concave points  mean symmetry  \\\n",
              "0           0.27760          0.3001              0.14710         0.2419   \n",
              "1           0.07864          0.0869              0.07017         0.1812   \n",
              "2           0.15990          0.1974              0.12790         0.2069   \n",
              "3           0.28390          0.2414              0.10520         0.2597   \n",
              "4           0.13280          0.1980              0.10430         0.1809   \n",
              "\n",
              "   mean fractal dimension  ...  worst radius  worst texture  worst perimeter  \\\n",
              "0                 0.07871  ...         25.38          17.33           184.60   \n",
              "1                 0.05667  ...         24.99          23.41           158.80   \n",
              "2                 0.05999  ...         23.57          25.53           152.50   \n",
              "3                 0.09744  ...         14.91          26.50            98.87   \n",
              "4                 0.05883  ...         22.54          16.67           152.20   \n",
              "\n",
              "   worst area  worst smoothness  worst compactness  worst concavity  \\\n",
              "0      2019.0            0.1622             0.6656           0.7119   \n",
              "1      1956.0            0.1238             0.1866           0.2416   \n",
              "2      1709.0            0.1444             0.4245           0.4504   \n",
              "3       567.7            0.2098             0.8663           0.6869   \n",
              "4      1575.0            0.1374             0.2050           0.4000   \n",
              "\n",
              "   worst concave points  worst symmetry  worst fractal dimension  \n",
              "0                0.2654          0.4601                  0.11890  \n",
              "1                0.1860          0.2750                  0.08902  \n",
              "2                0.2430          0.3613                  0.08758  \n",
              "3                0.2575          0.6638                  0.17300  \n",
              "4                0.1625          0.2364                  0.07678  \n",
              "\n",
              "[5 rows x 30 columns]"
            ],
            "text/html": [
              "\n",
              "  <div id=\"df-4daa79c1-f6a0-4d50-8d3d-d1d4bb10ba97\">\n",
              "    <div class=\"colab-df-container\">\n",
              "      <div>\n",
              "<style scoped>\n",
              "    .dataframe tbody tr th:only-of-type {\n",
              "        vertical-align: middle;\n",
              "    }\n",
              "\n",
              "    .dataframe tbody tr th {\n",
              "        vertical-align: top;\n",
              "    }\n",
              "\n",
              "    .dataframe thead th {\n",
              "        text-align: right;\n",
              "    }\n",
              "</style>\n",
              "<table border=\"1\" class=\"dataframe\">\n",
              "  <thead>\n",
              "    <tr style=\"text-align: right;\">\n",
              "      <th></th>\n",
              "      <th>mean radius</th>\n",
              "      <th>mean texture</th>\n",
              "      <th>mean perimeter</th>\n",
              "      <th>mean area</th>\n",
              "      <th>mean smoothness</th>\n",
              "      <th>mean compactness</th>\n",
              "      <th>mean concavity</th>\n",
              "      <th>mean concave points</th>\n",
              "      <th>mean symmetry</th>\n",
              "      <th>mean fractal dimension</th>\n",
              "      <th>...</th>\n",
              "      <th>worst radius</th>\n",
              "      <th>worst texture</th>\n",
              "      <th>worst perimeter</th>\n",
              "      <th>worst area</th>\n",
              "      <th>worst smoothness</th>\n",
              "      <th>worst compactness</th>\n",
              "      <th>worst concavity</th>\n",
              "      <th>worst concave points</th>\n",
              "      <th>worst symmetry</th>\n",
              "      <th>worst fractal dimension</th>\n",
              "    </tr>\n",
              "  </thead>\n",
              "  <tbody>\n",
              "    <tr>\n",
              "      <th>0</th>\n",
              "      <td>17.99</td>\n",
              "      <td>10.38</td>\n",
              "      <td>122.80</td>\n",
              "      <td>1001.0</td>\n",
              "      <td>0.11840</td>\n",
              "      <td>0.27760</td>\n",
              "      <td>0.3001</td>\n",
              "      <td>0.14710</td>\n",
              "      <td>0.2419</td>\n",
              "      <td>0.07871</td>\n",
              "      <td>...</td>\n",
              "      <td>25.38</td>\n",
              "      <td>17.33</td>\n",
              "      <td>184.60</td>\n",
              "      <td>2019.0</td>\n",
              "      <td>0.1622</td>\n",
              "      <td>0.6656</td>\n",
              "      <td>0.7119</td>\n",
              "      <td>0.2654</td>\n",
              "      <td>0.4601</td>\n",
              "      <td>0.11890</td>\n",
              "    </tr>\n",
              "    <tr>\n",
              "      <th>1</th>\n",
              "      <td>20.57</td>\n",
              "      <td>17.77</td>\n",
              "      <td>132.90</td>\n",
              "      <td>1326.0</td>\n",
              "      <td>0.08474</td>\n",
              "      <td>0.07864</td>\n",
              "      <td>0.0869</td>\n",
              "      <td>0.07017</td>\n",
              "      <td>0.1812</td>\n",
              "      <td>0.05667</td>\n",
              "      <td>...</td>\n",
              "      <td>24.99</td>\n",
              "      <td>23.41</td>\n",
              "      <td>158.80</td>\n",
              "      <td>1956.0</td>\n",
              "      <td>0.1238</td>\n",
              "      <td>0.1866</td>\n",
              "      <td>0.2416</td>\n",
              "      <td>0.1860</td>\n",
              "      <td>0.2750</td>\n",
              "      <td>0.08902</td>\n",
              "    </tr>\n",
              "    <tr>\n",
              "      <th>2</th>\n",
              "      <td>19.69</td>\n",
              "      <td>21.25</td>\n",
              "      <td>130.00</td>\n",
              "      <td>1203.0</td>\n",
              "      <td>0.10960</td>\n",
              "      <td>0.15990</td>\n",
              "      <td>0.1974</td>\n",
              "      <td>0.12790</td>\n",
              "      <td>0.2069</td>\n",
              "      <td>0.05999</td>\n",
              "      <td>...</td>\n",
              "      <td>23.57</td>\n",
              "      <td>25.53</td>\n",
              "      <td>152.50</td>\n",
              "      <td>1709.0</td>\n",
              "      <td>0.1444</td>\n",
              "      <td>0.4245</td>\n",
              "      <td>0.4504</td>\n",
              "      <td>0.2430</td>\n",
              "      <td>0.3613</td>\n",
              "      <td>0.08758</td>\n",
              "    </tr>\n",
              "    <tr>\n",
              "      <th>3</th>\n",
              "      <td>11.42</td>\n",
              "      <td>20.38</td>\n",
              "      <td>77.58</td>\n",
              "      <td>386.1</td>\n",
              "      <td>0.14250</td>\n",
              "      <td>0.28390</td>\n",
              "      <td>0.2414</td>\n",
              "      <td>0.10520</td>\n",
              "      <td>0.2597</td>\n",
              "      <td>0.09744</td>\n",
              "      <td>...</td>\n",
              "      <td>14.91</td>\n",
              "      <td>26.50</td>\n",
              "      <td>98.87</td>\n",
              "      <td>567.7</td>\n",
              "      <td>0.2098</td>\n",
              "      <td>0.8663</td>\n",
              "      <td>0.6869</td>\n",
              "      <td>0.2575</td>\n",
              "      <td>0.6638</td>\n",
              "      <td>0.17300</td>\n",
              "    </tr>\n",
              "    <tr>\n",
              "      <th>4</th>\n",
              "      <td>20.29</td>\n",
              "      <td>14.34</td>\n",
              "      <td>135.10</td>\n",
              "      <td>1297.0</td>\n",
              "      <td>0.10030</td>\n",
              "      <td>0.13280</td>\n",
              "      <td>0.1980</td>\n",
              "      <td>0.10430</td>\n",
              "      <td>0.1809</td>\n",
              "      <td>0.05883</td>\n",
              "      <td>...</td>\n",
              "      <td>22.54</td>\n",
              "      <td>16.67</td>\n",
              "      <td>152.20</td>\n",
              "      <td>1575.0</td>\n",
              "      <td>0.1374</td>\n",
              "      <td>0.2050</td>\n",
              "      <td>0.4000</td>\n",
              "      <td>0.1625</td>\n",
              "      <td>0.2364</td>\n",
              "      <td>0.07678</td>\n",
              "    </tr>\n",
              "  </tbody>\n",
              "</table>\n",
              "<p>5 rows × 30 columns</p>\n",
              "</div>\n",
              "      <button class=\"colab-df-convert\" onclick=\"convertToInteractive('df-4daa79c1-f6a0-4d50-8d3d-d1d4bb10ba97')\"\n",
              "              title=\"Convert this dataframe to an interactive table.\"\n",
              "              style=\"display:none;\">\n",
              "        \n",
              "  <svg xmlns=\"http://www.w3.org/2000/svg\" height=\"24px\"viewBox=\"0 0 24 24\"\n",
              "       width=\"24px\">\n",
              "    <path d=\"M0 0h24v24H0V0z\" fill=\"none\"/>\n",
              "    <path d=\"M18.56 5.44l.94 2.06.94-2.06 2.06-.94-2.06-.94-.94-2.06-.94 2.06-2.06.94zm-11 1L8.5 8.5l.94-2.06 2.06-.94-2.06-.94L8.5 2.5l-.94 2.06-2.06.94zm10 10l.94 2.06.94-2.06 2.06-.94-2.06-.94-.94-2.06-.94 2.06-2.06.94z\"/><path d=\"M17.41 7.96l-1.37-1.37c-.4-.4-.92-.59-1.43-.59-.52 0-1.04.2-1.43.59L10.3 9.45l-7.72 7.72c-.78.78-.78 2.05 0 2.83L4 21.41c.39.39.9.59 1.41.59.51 0 1.02-.2 1.41-.59l7.78-7.78 2.81-2.81c.8-.78.8-2.07 0-2.86zM5.41 20L4 18.59l7.72-7.72 1.47 1.35L5.41 20z\"/>\n",
              "  </svg>\n",
              "      </button>\n",
              "      \n",
              "  <style>\n",
              "    .colab-df-container {\n",
              "      display:flex;\n",
              "      flex-wrap:wrap;\n",
              "      gap: 12px;\n",
              "    }\n",
              "\n",
              "    .colab-df-convert {\n",
              "      background-color: #E8F0FE;\n",
              "      border: none;\n",
              "      border-radius: 50%;\n",
              "      cursor: pointer;\n",
              "      display: none;\n",
              "      fill: #1967D2;\n",
              "      height: 32px;\n",
              "      padding: 0 0 0 0;\n",
              "      width: 32px;\n",
              "    }\n",
              "\n",
              "    .colab-df-convert:hover {\n",
              "      background-color: #E2EBFA;\n",
              "      box-shadow: 0px 1px 2px rgba(60, 64, 67, 0.3), 0px 1px 3px 1px rgba(60, 64, 67, 0.15);\n",
              "      fill: #174EA6;\n",
              "    }\n",
              "\n",
              "    [theme=dark] .colab-df-convert {\n",
              "      background-color: #3B4455;\n",
              "      fill: #D2E3FC;\n",
              "    }\n",
              "\n",
              "    [theme=dark] .colab-df-convert:hover {\n",
              "      background-color: #434B5C;\n",
              "      box-shadow: 0px 1px 3px 1px rgba(0, 0, 0, 0.15);\n",
              "      filter: drop-shadow(0px 1px 2px rgba(0, 0, 0, 0.3));\n",
              "      fill: #FFFFFF;\n",
              "    }\n",
              "  </style>\n",
              "\n",
              "      <script>\n",
              "        const buttonEl =\n",
              "          document.querySelector('#df-4daa79c1-f6a0-4d50-8d3d-d1d4bb10ba97 button.colab-df-convert');\n",
              "        buttonEl.style.display =\n",
              "          google.colab.kernel.accessAllowed ? 'block' : 'none';\n",
              "\n",
              "        async function convertToInteractive(key) {\n",
              "          const element = document.querySelector('#df-4daa79c1-f6a0-4d50-8d3d-d1d4bb10ba97');\n",
              "          const dataTable =\n",
              "            await google.colab.kernel.invokeFunction('convertToInteractive',\n",
              "                                                     [key], {});\n",
              "          if (!dataTable) return;\n",
              "\n",
              "          const docLinkHtml = 'Like what you see? Visit the ' +\n",
              "            '<a target=\"_blank\" href=https://colab.research.google.com/notebooks/data_table.ipynb>data table notebook</a>'\n",
              "            + ' to learn more about interactive tables.';\n",
              "          element.innerHTML = '';\n",
              "          dataTable['output_type'] = 'display_data';\n",
              "          await google.colab.output.renderOutput(dataTable, element);\n",
              "          const docLink = document.createElement('div');\n",
              "          docLink.innerHTML = docLinkHtml;\n",
              "          element.appendChild(docLink);\n",
              "        }\n",
              "      </script>\n",
              "    </div>\n",
              "  </div>\n",
              "  "
            ]
          },
          "metadata": {},
          "execution_count": 67
        }
      ]
    },
    {
      "cell_type": "code",
      "source": [
        "y = data.target"
      ],
      "metadata": {
        "id": "MVXnYnoRzXFu"
      },
      "execution_count": null,
      "outputs": []
    },
    {
      "cell_type": "code",
      "source": [
        "X_train,X_test,y_train,y_test= train_test_split(X,y,test_size=0.1,stratify=y)\n",
        "X_train.shape,y_train.shape"
      ],
      "metadata": {
        "id": "5ncIwsD3zXBD",
        "colab": {
          "base_uri": "https://localhost:8080/"
        },
        "outputId": "eec896ef-e951-4d56-97d4-521c3243c14f"
      },
      "execution_count": null,
      "outputs": [
        {
          "output_type": "execute_result",
          "data": {
            "text/plain": [
              "((512, 30), (512,))"
            ]
          },
          "metadata": {},
          "execution_count": 69
        }
      ]
    },
    {
      "cell_type": "code",
      "source": [
        "scaler = StandardScaler()\n",
        "X_train = scaler.fit_transform(X_train)\n",
        "X_test = scaler.transform(X_test)"
      ],
      "metadata": {
        "id": "fyZ7Ly_HiIXD"
      },
      "execution_count": null,
      "outputs": []
    },
    {
      "cell_type": "code",
      "source": [
        "model = Sequential()\n",
        "model.add(Conv1D(filters=16,kernel_size=2,activation='relu',input_shape=(30,1)))\n",
        "model.add(Conv1D(32,2,activation='relu'))\n",
        "model.add(Flatten())\n",
        "model.add(keras.layers.Dense(10,activation = 'sigmoid'))\n",
        "model.add(keras.layers.Dense(5,activation = 'sigmoid'))\n",
        "model.add(keras.layers.Dense(3,activation = 'sigmoid'))\n",
        "model.add(keras.layers.Dense(1,activation = 'sigmoid'))\n",
        "model.summary()"
      ],
      "metadata": {
        "colab": {
          "base_uri": "https://localhost:8080/"
        },
        "id": "WGa-pu7AiIUh",
        "outputId": "ce3b0e91-9d9a-4701-9151-c1e9fdc3321d"
      },
      "execution_count": null,
      "outputs": [
        {
          "output_type": "stream",
          "name": "stdout",
          "text": [
            "Model: \"sequential_8\"\n",
            "_________________________________________________________________\n",
            " Layer (type)                Output Shape              Param #   \n",
            "=================================================================\n",
            " conv1d_16 (Conv1D)          (None, 29, 16)            48        \n",
            "                                                                 \n",
            " conv1d_17 (Conv1D)          (None, 28, 32)            1056      \n",
            "                                                                 \n",
            " flatten_8 (Flatten)         (None, 896)               0         \n",
            "                                                                 \n",
            " dense_25 (Dense)            (None, 10)                8970      \n",
            "                                                                 \n",
            " dense_26 (Dense)            (None, 5)                 55        \n",
            "                                                                 \n",
            " dense_27 (Dense)            (None, 3)                 18        \n",
            "                                                                 \n",
            " dense_28 (Dense)            (None, 1)                 4         \n",
            "                                                                 \n",
            "=================================================================\n",
            "Total params: 10,151\n",
            "Trainable params: 10,151\n",
            "Non-trainable params: 0\n",
            "_________________________________________________________________\n"
          ]
        }
      ]
    },
    {
      "cell_type": "code",
      "source": [
        "model.compile(optimizer=Adam(learning_rate=0.01),loss='binary_crossentropy',metrics=['accuracy'])"
      ],
      "metadata": {
        "id": "2Gd1RNX7iISG"
      },
      "execution_count": null,
      "outputs": []
    },
    {
      "cell_type": "code",
      "source": [
        "history = model.fit(X_train,y_train,epochs=50)"
      ],
      "metadata": {
        "colab": {
          "base_uri": "https://localhost:8080/"
        },
        "id": "hz58XejqiIPn",
        "outputId": "496dd900-a89b-405c-b696-a2feabcc102c"
      },
      "execution_count": null,
      "outputs": [
        {
          "output_type": "stream",
          "name": "stdout",
          "text": [
            "Epoch 1/50\n",
            "16/16 [==============================] - 1s 5ms/step - loss: 0.6325 - accuracy: 0.6133\n",
            "Epoch 2/50\n",
            "16/16 [==============================] - 0s 4ms/step - loss: 0.5484 - accuracy: 0.6270\n",
            "Epoch 3/50\n",
            "16/16 [==============================] - 0s 3ms/step - loss: 0.4600 - accuracy: 0.8828\n",
            "Epoch 4/50\n",
            "16/16 [==============================] - 0s 4ms/step - loss: 0.3732 - accuracy: 0.9668\n",
            "Epoch 5/50\n",
            "16/16 [==============================] - 0s 4ms/step - loss: 0.2978 - accuracy: 0.9746\n",
            "Epoch 6/50\n",
            "16/16 [==============================] - 0s 4ms/step - loss: 0.2420 - accuracy: 0.9805\n",
            "Epoch 7/50\n",
            "16/16 [==============================] - 0s 3ms/step - loss: 0.1969 - accuracy: 0.9824\n",
            "Epoch 8/50\n",
            "16/16 [==============================] - 0s 3ms/step - loss: 0.1752 - accuracy: 0.9746\n",
            "Epoch 9/50\n",
            "16/16 [==============================] - 0s 3ms/step - loss: 0.1617 - accuracy: 0.9727\n",
            "Epoch 10/50\n",
            "16/16 [==============================] - 0s 3ms/step - loss: 0.1522 - accuracy: 0.9727\n",
            "Epoch 11/50\n",
            "16/16 [==============================] - 0s 3ms/step - loss: 0.1246 - accuracy: 0.9785\n",
            "Epoch 12/50\n",
            "16/16 [==============================] - 0s 4ms/step - loss: 0.1054 - accuracy: 0.9863\n",
            "Epoch 13/50\n",
            "16/16 [==============================] - 0s 4ms/step - loss: 0.0975 - accuracy: 0.9863\n",
            "Epoch 14/50\n",
            "16/16 [==============================] - 0s 5ms/step - loss: 0.0869 - accuracy: 0.9902\n",
            "Epoch 15/50\n",
            "16/16 [==============================] - 0s 3ms/step - loss: 0.0892 - accuracy: 0.9863\n",
            "Epoch 16/50\n",
            "16/16 [==============================] - 0s 4ms/step - loss: 0.0944 - accuracy: 0.9805\n",
            "Epoch 17/50\n",
            "16/16 [==============================] - 0s 4ms/step - loss: 0.0817 - accuracy: 0.9844\n",
            "Epoch 18/50\n",
            "16/16 [==============================] - 0s 3ms/step - loss: 0.0751 - accuracy: 0.9883\n",
            "Epoch 19/50\n",
            "16/16 [==============================] - 0s 3ms/step - loss: 0.0798 - accuracy: 0.9805\n",
            "Epoch 20/50\n",
            "16/16 [==============================] - 0s 3ms/step - loss: 0.0765 - accuracy: 0.9844\n",
            "Epoch 21/50\n",
            "16/16 [==============================] - 0s 4ms/step - loss: 0.0837 - accuracy: 0.9785\n",
            "Epoch 22/50\n",
            "16/16 [==============================] - 0s 5ms/step - loss: 0.0799 - accuracy: 0.9805\n",
            "Epoch 23/50\n",
            "16/16 [==============================] - 0s 3ms/step - loss: 0.0779 - accuracy: 0.9805\n",
            "Epoch 24/50\n",
            "16/16 [==============================] - 0s 3ms/step - loss: 0.0816 - accuracy: 0.9766\n",
            "Epoch 25/50\n",
            "16/16 [==============================] - 0s 3ms/step - loss: 0.1037 - accuracy: 0.9727\n",
            "Epoch 26/50\n",
            "16/16 [==============================] - 0s 4ms/step - loss: 0.0641 - accuracy: 0.9883\n",
            "Epoch 27/50\n",
            "16/16 [==============================] - 0s 4ms/step - loss: 0.0767 - accuracy: 0.9805\n",
            "Epoch 28/50\n",
            "16/16 [==============================] - 0s 3ms/step - loss: 0.0526 - accuracy: 0.9863\n",
            "Epoch 29/50\n",
            "16/16 [==============================] - 0s 5ms/step - loss: 0.0526 - accuracy: 0.9902\n",
            "Epoch 30/50\n",
            "16/16 [==============================] - 0s 4ms/step - loss: 0.0456 - accuracy: 0.9902\n",
            "Epoch 31/50\n",
            "16/16 [==============================] - 0s 4ms/step - loss: 0.0401 - accuracy: 0.9941\n",
            "Epoch 32/50\n",
            "16/16 [==============================] - 0s 4ms/step - loss: 0.0448 - accuracy: 0.9902\n",
            "Epoch 33/50\n",
            "16/16 [==============================] - 0s 4ms/step - loss: 0.0557 - accuracy: 0.9863\n",
            "Epoch 34/50\n",
            "16/16 [==============================] - 0s 4ms/step - loss: 0.0503 - accuracy: 0.9902\n",
            "Epoch 35/50\n",
            "16/16 [==============================] - 0s 3ms/step - loss: 0.0444 - accuracy: 0.9902\n",
            "Epoch 36/50\n",
            "16/16 [==============================] - 0s 4ms/step - loss: 0.0482 - accuracy: 0.9863\n",
            "Epoch 37/50\n",
            "16/16 [==============================] - 0s 3ms/step - loss: 0.0452 - accuracy: 0.9902\n",
            "Epoch 38/50\n",
            "16/16 [==============================] - 0s 4ms/step - loss: 0.0653 - accuracy: 0.9785\n",
            "Epoch 39/50\n",
            "16/16 [==============================] - 0s 4ms/step - loss: 0.1087 - accuracy: 0.9629\n",
            "Epoch 40/50\n",
            "16/16 [==============================] - 0s 3ms/step - loss: 0.0715 - accuracy: 0.9785\n",
            "Epoch 41/50\n",
            "16/16 [==============================] - 0s 3ms/step - loss: 0.1154 - accuracy: 0.9688\n",
            "Epoch 42/50\n",
            "16/16 [==============================] - 0s 3ms/step - loss: 0.1282 - accuracy: 0.9492\n",
            "Epoch 43/50\n",
            "16/16 [==============================] - 0s 4ms/step - loss: 0.0955 - accuracy: 0.9746\n",
            "Epoch 44/50\n",
            "16/16 [==============================] - 0s 5ms/step - loss: 0.0847 - accuracy: 0.9766\n",
            "Epoch 45/50\n",
            "16/16 [==============================] - 0s 4ms/step - loss: 0.0675 - accuracy: 0.9785\n",
            "Epoch 46/50\n",
            "16/16 [==============================] - 0s 4ms/step - loss: 0.0576 - accuracy: 0.9863\n",
            "Epoch 47/50\n",
            "16/16 [==============================] - 0s 3ms/step - loss: 0.0528 - accuracy: 0.9824\n",
            "Epoch 48/50\n",
            "16/16 [==============================] - 0s 5ms/step - loss: 0.0570 - accuracy: 0.9824\n",
            "Epoch 49/50\n",
            "16/16 [==============================] - 0s 3ms/step - loss: 0.0475 - accuracy: 0.9902\n",
            "Epoch 50/50\n",
            "16/16 [==============================] - 0s 3ms/step - loss: 0.0421 - accuracy: 0.9922\n"
          ]
        }
      ]
    },
    {
      "cell_type": "code",
      "source": [
        "def plotLearningCurve(history,epochs):\n",
        "  epochRange = range(1,epochs+1)\n",
        "  plt.plot(epochRange,history.history['accuracy'])\n",
        "  plt.title('Model Accuracy')\n",
        "  plt.xlabel('Epoch')\n",
        "  plt.ylabel('Accuracy')\n",
        "  plt.show()\n",
        "\n",
        "  plt.plot(epochRange,history.history['loss'])\n",
        "  plt.title('Model Loss')\n",
        "  plt.xlabel('Epoch')\n",
        "  plt.ylabel('Loss')\n",
        "  plt.show()\n",
        "\n",
        "plotLearningCurve(history,50)"
      ],
      "metadata": {
        "colab": {
          "base_uri": "https://localhost:8080/",
          "height": 573
        },
        "id": "ij9tya9piING",
        "outputId": "ea067bd4-1db2-44d7-ee92-166b211059dc"
      },
      "execution_count": null,
      "outputs": [
        {
          "output_type": "display_data",
          "data": {
            "text/plain": [
              "<Figure size 432x288 with 1 Axes>"
            ],
            "image/png": "[encoded data removed]"
          },
          "metadata": {}
        },
        {
          "output_type": "display_data",
          "data": {
            "text/plain": [
              "<Figure size 432x288 with 1 Axes>"
            ],
            "image/png": "[encoded data removed]"
          },
          "metadata": {}
        }
      ]
    },
    {
      "cell_type": "code",
      "source": [
        "y_preds = model.predict(X_test)\n",
        "y_preds = np.round(y_preds)"
      ],
      "metadata": {
        "id": "_wIkDy9niIKt"
      },
      "execution_count": null,
      "outputs": []
    },
    {
      "cell_type": "code",
      "source": [
        "print(classification_report(y_test,y_preds,labels=[0,1]))"
      ],
      "metadata": {
        "colab": {
          "base_uri": "https://localhost:8080/"
        },
        "id": "cKEBSzhriIIC",
        "outputId": "70657e0f-698d-4b98-e63f-69c00f269c30"
      },
      "execution_count": null,
      "outputs": [
        {
          "output_type": "stream",
          "name": "stdout",
          "text": [
            "              precision    recall  f1-score   support\n",
            "\n",
            "           0       1.00      1.00      1.00        21\n",
            "           1       1.00      1.00      1.00        36\n",
            "\n",
            "    accuracy                           1.00        57\n",
            "   macro avg       1.00      1.00      1.00        57\n",
            "weighted avg       1.00      1.00      1.00        57\n",
            "\n"
          ]
        }
      ]
    },
    {
      "cell_type": "code",
      "source": [
        "from sklearn import metrics\n",
        "cf_matrix = metrics.confusion_matrix(y_test,y_preds)\n",
        "\n",
        "import seaborn as sns\n",
        "ax = sns.heatmap(cf_matrix, annot=True, cmap='Blues',annot_kws={\"size\":14})\n",
        "\n",
        "ax.set_title('Seaborn Confusion Matrix with labels\\n\\n',fontsize = 15);\n",
        "ax.set_xlabel('\\nPredicted Values',fontsize = 15)\n",
        "ax.set_ylabel('Actual Values',fontsize = 15);\n",
        "\n",
        "ax.xaxis.set_ticklabels(['0','1'],fontsize = 12)\n",
        "ax.yaxis.set_ticklabels(['0','1'],fontsize = 12)\n",
        "plt.show()"
      ],
      "metadata": {
        "colab": {
          "base_uri": "https://localhost:8080/",
          "height": 358
        },
        "id": "Oc1OdvAWiIFq",
        "outputId": "cd1da1b7-3c53-48cf-ee76-0bee067593a7"
      },
      "execution_count": null,
      "outputs": [
        {
          "output_type": "display_data",
          "data": {
            "text/plain": [
              "<Figure size 432x288 with 2 Axes>"
            ],
            "image/png": "[encoded data removed]"
          },
          "metadata": {}
        }
      ]
    },
    {
      "cell_type": "code",
      "source": [
        ""
      ],
      "metadata": {
        "id": "DoZSvFOCiIC7"
      },
      "execution_count": null,
      "outputs": []
    },
    {
      "cell_type": "code",
      "source": [
        ""
      ],
      "metadata": {
        "id": "diGw2t2kiH9m"
      },
      "execution_count": null,
      "outputs": []
    },
    {
      "cell_type": "markdown",
      "source": [
        "##Q.3)\n",
        "### Build a  VGG16 CNN  model  (using Keras/Tensorflow/Pytorch)  to  classify ‘cloudy’, ‘desert’, ‘green_area’, and ‘water, using Satellite image Classification Dataset-RSI-CB256 (https://www.kaggle.com/mahmoudreda55/satellite-image-classification).This dataset has 4 different classes mixed from Sensors and google map snapshot. Use an Adam gradient descent algorithm to learn model with parameters for α = 0.01 and random parameters of the parameters of the  CNN model for Softmax loss function.  \n",
        "#### (i) Plot a comparative loss curve for at least 100 epochs. \n",
        "#### (ii) Print confusion matrix, calculate classification metrics such as precision, recall, f1-score and accuracy on test datset and ROC curve for each loss function.\n"
      ],
      "metadata": {
        "id": "_sFBqzT43-A5"
      }
    },
    {
      "cell_type": "code",
      "source": [
        "def loaddata():\n",
        "    dataset=\"/content/drive/MyDrive/nitk/assignments/assignment5/data3/\"\n",
        "    label_names = [\"cloudy\",\"desert\",\"green_area\",\"water\"]\n",
        "\n",
        "    images=[]\n",
        "    labels=[]\n",
        "    for folder in os.listdir(dataset):\n",
        "        files=gb.glob(pathname=str(dataset+folder+\"/*.jpg\"))\n",
        "        \n",
        "        label = label_names.index(folder)\n",
        "        for file in files:\n",
        "            #read the image\n",
        "            image = cv2.imread(file)\n",
        "            image = cv2.cvtColor(image, cv2.COLOR_BGR2RGB)\n",
        "            \n",
        "            # resize the image\n",
        "            image = cv2.resize(image, (224, 224))\n",
        "\n",
        "            # Append the image and its corresponding label to the output\n",
        "            images.append(image)\n",
        "            labels.append(label)\n",
        "\n",
        "    images = np.array(images)\n",
        "    labels = np.array(labels)\n",
        "    \n",
        "\n",
        "    return images,labels"
      ],
      "metadata": {
        "id": "mboxCavIJZgm"
      },
      "execution_count": null,
      "outputs": []
    },
    {
      "cell_type": "code",
      "source": [
        "images,labels=loaddata()"
      ],
      "metadata": {
        "id": "NLs9ZcXrJZd-"
      },
      "execution_count": null,
      "outputs": []
    },
    {
      "cell_type": "code",
      "source": [
        "unique, counts = np.unique(labels, return_counts=True)\n",
        "print(unique)\n",
        "print(counts)"
      ],
      "metadata": {
        "colab": {
          "base_uri": "https://localhost:8080/"
        },
        "id": "hxbtN3ybKSL8",
        "outputId": "a669c300-8c2b-4c6e-cbbf-32c43fde00ef"
      },
      "execution_count": null,
      "outputs": [
        {
          "output_type": "stream",
          "name": "stdout",
          "text": [
            "[0 1 2 3]\n",
            "[1500 1131 1500 1500]\n"
          ]
        }
      ]
    },
    {
      "cell_type": "code",
      "source": [
        "import seaborn as sns\n",
        "label_names = [\"cloudy\",\"desert\",\"green_area\",\"water\"]\n",
        "unique, counts = np.unique(labels, return_counts=True)\n",
        "sns.barplot(x = label_names, y = counts )\n",
        "plt.title('No of Data avaliable for each class')"
      ],
      "metadata": {
        "colab": {
          "base_uri": "https://localhost:8080/",
          "height": 298
        },
        "id": "5IvUuXCrJZbs",
        "outputId": "c4a43e25-483d-4e1a-8a19-7690be59686a"
      },
      "execution_count": null,
      "outputs": [
        {
          "output_type": "execute_result",
          "data": {
            "text/plain": [
              "Text(0.5, 1.0, 'No of Data avaliable for each class')"
            ]
          },
          "metadata": {},
          "execution_count": 5
        },
        {
          "output_type": "display_data",
          "data": {
            "text/plain": [
              "<Figure size 432x288 with 1 Axes>"
            ],
            "image/png": "[encoded data removed]"
          },
          "metadata": {
            "needs_background": "light"
          }
        }
      ]
    },
    {
      "cell_type": "code",
      "source": [
        "labels = np.array(pd.get_dummies(labels))\n",
        "images,labels = shuffle(images,labels, random_state=64)\n",
        "X_train, X_Test, y_train, y_Test = train_test_split(images,labels, test_size=0.99, random_state=42)\n",
        "X_test, X_val, y_test, y_val = train_test_split(X_Test, y_Test, test_size=0.995, random_state=42)"
      ],
      "metadata": {
        "id": "wJfBSLfoJZZF"
      },
      "execution_count": null,
      "outputs": []
    },
    {
      "cell_type": "code",
      "source": [
        "print(X_train.shape)\n",
        "print(X_test.shape)\n",
        "print(X_val.shape)\n",
        "\n",
        "print(y_train.shape)\n",
        "print(y_test.shape)\n",
        "print(y_val.shape)"
      ],
      "metadata": {
        "colab": {
          "base_uri": "https://localhost:8080/"
        },
        "id": "D6trIsuRJZW3",
        "outputId": "db09a307-0824-4eec-921e-57ce7d919286"
      },
      "execution_count": null,
      "outputs": [
        {
          "output_type": "stream",
          "name": "stdout",
          "text": [
            "(56, 224, 224, 3)\n",
            "(27, 224, 224, 3)\n",
            "(5548, 224, 224, 3)\n",
            "(56, 4)\n",
            "(27, 4)\n",
            "(5548, 4)\n"
          ]
        }
      ]
    },
    {
      "cell_type": "code",
      "source": [
        "model = Sequential()\n",
        "model.add(Conv2D(input_shape=(224,224,3),filters=64,kernel_size=(3,3),padding=\"same\", activation=\"relu\"))\n",
        "model.add(Conv2D(filters=64,kernel_size=(3,3),padding=\"same\", activation=\"relu\"))\n",
        "model.add(MaxPool2D(pool_size=(2,2),strides=(2,2)))\n",
        "model.add(Conv2D(filters=128, kernel_size=(3,3), padding=\"same\", activation=\"relu\"))\n",
        "model.add(Conv2D(filters=128, kernel_size=(3,3), padding=\"same\", activation=\"relu\"))\n",
        "model.add(MaxPool2D(pool_size=(2,2),strides=(2,2)))\n",
        "model.add(Conv2D(filters=256, kernel_size=(3,3), padding=\"same\", activation=\"relu\"))\n",
        "model.add(Conv2D(filters=256, kernel_size=(3,3), padding=\"same\", activation=\"relu\"))\n",
        "model.add(Conv2D(filters=256, kernel_size=(3,3), padding=\"same\", activation=\"relu\"))\n",
        "model.add(MaxPool2D(pool_size=(2,2),strides=(2,2)))\n",
        "model.add(Conv2D(filters=512, kernel_size=(3,3), padding=\"same\", activation=\"relu\"))\n",
        "model.add(Conv2D(filters=512, kernel_size=(3,3), padding=\"same\", activation=\"relu\"))\n",
        "model.add(Conv2D(filters=512, kernel_size=(3,3), padding=\"same\", activation=\"relu\"))\n",
        "model.add(MaxPool2D(pool_size=(2,2),strides=(2,2)))\n",
        "model.add(Conv2D(filters=512, kernel_size=(3,3), padding=\"same\", activation=\"relu\"))\n",
        "model.add(Conv2D(filters=512, kernel_size=(3,3), padding=\"same\", activation=\"relu\"))\n",
        "model.add(Conv2D(filters=512, kernel_size=(3,3), padding=\"same\", activation=\"relu\"))\n",
        "model.add(MaxPool2D(pool_size=(2,2),strides=(2,2)))\n",
        "model.add(Flatten())\n",
        "model.add(Dense(units=4096,activation=\"relu\"))\n",
        "model.add(Dense(units=4096,activation=\"relu\"))\n",
        "model.add(Dense(units=4, activation=\"softmax\"))"
      ],
      "metadata": {
        "id": "ii9PY0qo6HLJ"
      },
      "execution_count": null,
      "outputs": []
    },
    {
      "cell_type": "code",
      "source": [
        "model.compile(loss='categorical_crossentropy',optimizer=Adam(lr=0.01),metrics=['acc'])"
      ],
      "metadata": {
        "id": "NbvGCCdrLayV"
      },
      "execution_count": null,
      "outputs": []
    },
    {
      "cell_type": "code",
      "source": [
        "model.summary()"
      ],
      "metadata": {
        "colab": {
          "base_uri": "https://localhost:8080/"
        },
        "id": "sEC_aGwjLfWm",
        "outputId": "0caece55-900c-4c5a-f9c1-0df7468bcf58"
      },
      "execution_count": null,
      "outputs": [
        {
          "output_type": "stream",
          "name": "stdout",
          "text": [
            "Model: \"sequential\"\n",
            "_________________________________________________________________\n",
            " Layer (type)                Output Shape              Param #   \n",
            "=================================================================\n",
            " conv2d (Conv2D)             (None, 224, 224, 64)      1792      \n",
            "                                                                 \n",
            " conv2d_1 (Conv2D)           (None, 224, 224, 64)      36928     \n",
            "                                                                 \n",
            " max_pooling2d (MaxPooling2D  (None, 112, 112, 64)     0         \n",
            " )                                                               \n",
            "                                                                 \n",
            " conv2d_2 (Conv2D)           (None, 112, 112, 128)     73856     \n",
            "                                                                 \n",
            " conv2d_3 (Conv2D)           (None, 112, 112, 128)     147584    \n",
            "                                                                 \n",
            " max_pooling2d_1 (MaxPooling  (None, 56, 56, 128)      0         \n",
            " 2D)                                                             \n",
            "                                                                 \n",
            " conv2d_4 (Conv2D)           (None, 56, 56, 256)       295168    \n",
            "                                                                 \n",
            " conv2d_5 (Conv2D)           (None, 56, 56, 256)       590080    \n",
            "                                                                 \n",
            " conv2d_6 (Conv2D)           (None, 56, 56, 256)       590080    \n",
            "                                                                 \n",
            " max_pooling2d_2 (MaxPooling  (None, 28, 28, 256)      0         \n",
            " 2D)                                                             \n",
            "                                                                 \n",
            " conv2d_7 (Conv2D)           (None, 28, 28, 512)       1180160   \n",
            "                                                                 \n",
            " conv2d_8 (Conv2D)           (None, 28, 28, 512)       2359808   \n",
            "                                                                 \n",
            " conv2d_9 (Conv2D)           (None, 28, 28, 512)       2359808   \n",
            "                                                                 \n",
            " max_pooling2d_3 (MaxPooling  (None, 14, 14, 512)      0         \n",
            " 2D)                                                             \n",
            "                                                                 \n",
            " conv2d_10 (Conv2D)          (None, 14, 14, 512)       2359808   \n",
            "                                                                 \n",
            " conv2d_11 (Conv2D)          (None, 14, 14, 512)       2359808   \n",
            "                                                                 \n",
            " conv2d_12 (Conv2D)          (None, 14, 14, 512)       2359808   \n",
            "                                                                 \n",
            " max_pooling2d_4 (MaxPooling  (None, 7, 7, 512)        0         \n",
            " 2D)                                                             \n",
            "                                                                 \n",
            " flatten (Flatten)           (None, 25088)             0         \n",
            "                                                                 \n",
            " dense (Dense)               (None, 4096)              102764544 \n",
            "                                                                 \n",
            " dense_1 (Dense)             (None, 4096)              16781312  \n",
            "                                                                 \n",
            " dense_2 (Dense)             (None, 4)                 16388     \n",
            "                                                                 \n",
            "=================================================================\n",
            "Total params: 134,276,932\n",
            "Trainable params: 134,276,932\n",
            "Non-trainable params: 0\n",
            "_________________________________________________________________\n"
          ]
        }
      ]
    },
    {
      "cell_type": "code",
      "source": [
        "history = model.fit(X_train,y_train,epochs = 5)"
      ],
      "metadata": {
        "colab": {
          "base_uri": "https://localhost:8080/"
        },
        "id": "NvvK0dH2Ot9F",
        "outputId": "2823550a-f1d0-4b3a-fdeb-c61ecadc1d1d"
      },
      "execution_count": null,
      "outputs": [
        {
          "output_type": "stream",
          "name": "stdout",
          "text": [
            "Epoch 1/5\n",
            "2/2 [==============================] - 113s 48s/step - loss: 51884341592064.0000 - acc: 0.2143\n",
            "Epoch 2/5\n",
            "2/2 [==============================] - 109s 48s/step - loss: 341656160.0000 - acc: 0.3214\n",
            "Epoch 3/5\n",
            "2/2 [==============================] - 108s 47s/step - loss: 6498986496.0000 - acc: 0.1786\n",
            "Epoch 4/5\n",
            "2/2 [==============================] - 107s 46s/step - loss: 2673754624.0000 - acc: 0.3214\n",
            "Epoch 5/5\n",
            "2/2 [==============================] - 124s 60s/step - loss: 55370180.0000 - acc: 0.2500\n"
          ]
        }
      ]
    },
    {
      "cell_type": "code",
      "source": [
        "loss_train = history.history['loss']\n",
        "# epochs = range(0,5)\n",
        "plt.plot(loss_train, 'g', label='Training loss')\n",
        "plt.title('Training loss')\n",
        "plt.xlabel('Epochs')\n",
        "plt.ylabel('Loss')\n",
        "plt.legend()\n",
        "plt.show()"
      ],
      "metadata": {
        "colab": {
          "base_uri": "https://localhost:8080/",
          "height": 295
        },
        "id": "RTN72qgWSeYR",
        "outputId": "4613f511-0785-4421-b23b-f8d62e59b827"
      },
      "execution_count": null,
      "outputs": [
        {
          "output_type": "display_data",
          "data": {
            "text/plain": [
              "<Figure size 432x288 with 1 Axes>"
            ],
            "image/png": "[encoded data removed]"
          },
          "metadata": {
            "needs_background": "light"
          }
        }
      ]
    },
    {
      "cell_type": "code",
      "source": [
        "def model_Evaluate(model):\n",
        "    \n",
        "    # Predict values for Test dataset\n",
        "    y_pred = model.predict(X_test)\n",
        "    \n",
        "    Y_pred = []\n",
        "    Y_Test = []\n",
        "    for i in range(len(y_pred)):\n",
        "        Y_pred.append(np.argmax(y_pred[i]))\n",
        "        Y_Test.append(np.argmax(y_test[i]))\n",
        "\n",
        "    # Print the evaluation metrics for the dataset.\n",
        "    print(classification_report(Y_Test, Y_pred))\n",
        "    \n",
        "    # Compute and plot the Confusion matrix\n",
        "    cf_matrix = confusion_matrix(Y_Test, Y_pred)\n",
        "    \n",
        "    accuracy = precision_score(Y_Test, Y_pred, average=None)\n",
        "\n",
        "    categories  = [\"cloudy\",\"desert\",\"green_area\",\"water\"]\n",
        "\n",
        "\n",
        "\n",
        "    print(\"Confusion Matrix:\")\n",
        "\n",
        "    print(cf_matrix)\n",
        "\n",
        "    ax = sns.heatmap(cf_matrix, annot=True, cmap='Blues')\n",
        "\n",
        "    ax.set_title('Confusion Matrix\\n\\n',fontdict = {'size':14}, pad = 10)\n",
        "    ax.set_xlabel('\\nPredicted values',fontdict = {'size':14}, labelpad = 10)\n",
        "    ax.set_ylabel('Actual values ',fontdict = {'size':18}, labelpad = 20);\n",
        "\n",
        "    ## Display the visualization of the Confusion Matrix.\n",
        "    plt.show()\n",
        "    \n",
        "    print(\"Accuracy for each class: \")\n",
        "    \n",
        "    for i in range(len(accuracy)):\n",
        "        print(f\"{categories[i]}:  {format(accuracy[i], '.2f')}%\")"
      ],
      "metadata": {
        "id": "nODxJN75SqBN"
      },
      "execution_count": null,
      "outputs": []
    },
    {
      "cell_type": "code",
      "source": [
        "model_Evaluate(model)"
      ],
      "metadata": {
        "colab": {
          "base_uri": "https://localhost:8080/",
          "height": 723
        },
        "id": "7iGnG_3LS4dh",
        "outputId": "92a53a8c-1e4f-4bd2-c54d-db2db600c2f6"
      },
      "execution_count": null,
      "outputs": [
        {
          "output_type": "stream",
          "name": "stdout",
          "text": [
            "              precision    recall  f1-score   support\n",
            "\n",
            "           0       0.00      0.00      0.00         7\n",
            "           1       0.00      0.00      0.00         3\n",
            "           2       0.00      0.00      0.00        11\n",
            "           3       0.22      1.00      0.36         6\n",
            "\n",
            "    accuracy                           0.22        27\n",
            "   macro avg       0.06      0.25      0.09        27\n",
            "weighted avg       0.05      0.22      0.08        27\n",
            "\n",
            "Confusion Matrix:\n",
            "[[ 0  0  0  7]\n",
            " [ 0  0  0  3]\n",
            " [ 0  0  0 11]\n",
            " [ 0  0  0  6]]\n"
          ]
        },
        {
          "output_type": "display_data",
          "data": {
            "text/plain": [
              "<Figure size 432x288 with 2 Axes>"
            ],
            "image/png": "[encoded data removed]"
          },
          "metadata": {
            "needs_background": "light"
          }
        },
        {
          "output_type": "stream",
          "name": "stdout",
          "text": [
            "Accuracy for each class: \n",
            "cloudy:  0.00%\n",
            "desert:  0.00%\n",
            "green_area:  0.00%\n",
            "water:  0.22%\n"
          ]
        }
      ]
    },
    {
      "cell_type": "code",
      "source": [
        ""
      ],
      "metadata": {
        "id": "QLpOmo9cS6zN"
      },
      "execution_count": null,
      "outputs": []
    },
    {
      "cell_type": "markdown",
      "source": [
        "## Q.4.\n",
        "### (a)  Python Implementation  of LSTM  from Scratch (using NumPy  for   Binary to  Octal  conversion) "
      ],
      "metadata": {
        "id": "zrxXPhaJTNto"
      }
    },
    {
      "cell_type": "code",
      "source": [
        "temp = [np.random.randint(1023) for i in range(1000)]\n",
        "x = np.array([[[int(j)] for j in '{0:010b}'.format(i)] for i in temp])\n",
        "y = np.array([[[int(j)] for j in '{0:04o}'.format(i)] for i in temp])\n",
        "print(x.shape,y.shape)"
      ],
      "metadata": {
        "colab": {
          "base_uri": "https://localhost:8080/"
        },
        "id": "oMtY3FpW0JRu",
        "outputId": "075ecfe5-6425-46e2-f35b-5680b2e89854"
      },
      "execution_count": null,
      "outputs": [
        {
          "output_type": "stream",
          "name": "stdout",
          "text": [
            "(1000, 10, 1) (1000, 4, 1)\n"
          ]
        }
      ]
    },
    {
      "cell_type": "code",
      "source": [
        "model = keras.models.Sequential()\n",
        "model.add(keras.layers.LSTM(10, input_shape=(10,1)))\n",
        "model.add(keras.layers.Dense(10,activation =\"tanh\"))\n",
        "model.add(keras.layers.Dense(4))\n",
        "\n",
        "model.compile(loss='mean_squared_error', optimizer='adam')\n",
        "model.fit(x, y, epochs=100, batch_size=1,  verbose=0,callbacks=[TqdmCallback(verbose=1)])"
      ],
      "metadata": {
        "colab": {
          "base_uri": "https://localhost:8080/",
          "height": 66,
          "referenced_widgets": [
            "971034fe3e8d458ba4510c2c49927408",
            "b08e78d0c8f04cf48bb378da0cfbc281",
            "250d73bbabd346fdb16235b5f921d959",
            "4c53e2db68c242b184ad01f000e7b1af",
            "69dfdb2d63c24b65937afae3d2d4ca6d",
            "b20defe0eea147a99ad86a70577f9ff5",
            "212f2f0578784f529ee5fb6280124c82",
            "7e53725fac5c437291e429f4d9c538e6",
            "09813a958c0e4da197605a1333191bd3",
            "472dd0649d9f4e8b805f85df63fd9795",
            "c4bd154dabe34424ad27b4e7d3f91e68",
            "5366a5a08ee6434380eaf3ad4a13ecd9",
            "fc7b40c7b62f42b4a61baa2273ede479",
            "1b8fa0aa2c79413a9c719639afe98938",
            "c92a9a4301d249f5ab62de4076a122bc",
            "cfe78635fb0f428f9936dd311132e50a",
            "071e8ae3f78045d9afbe6ff93bc09af3",
            "7beb0e61a4584f809914c4187791b42f",
            "448445b6a3284989b93dcd8f0e3df7a5",
            "a2f244f54134482f9df29b3927c755e2",
            "0ffd6caba89e4d54b47abf2e6b906e05",
            "a89f6f64b39f45afbb2d0ce4f740693d"
          ]
        },
        "id": "9_DR7azh0LHZ",
        "outputId": "d47f3a37-45c8-4a7c-952a-b67f93ab65d5"
      },
      "execution_count": null,
      "outputs": [
        {
          "output_type": "display_data",
          "data": {
            "text/plain": [
              "0epoch [00:00, ?epoch/s]"
            ],
            "application/vnd.jupyter.widget-view+json": {
              "version_major": 2,
              "version_minor": 0,
              "model_id": "971034fe3e8d458ba4510c2c49927408"
            }
          },
          "metadata": {}
        },
        {
          "output_type": "display_data",
          "data": {
            "text/plain": [
              "0batch [00:00, ?batch/s]"
            ],
            "application/vnd.jupyter.widget-view+json": {
              "version_major": 2,
              "version_minor": 0,
              "model_id": "5366a5a08ee6434380eaf3ad4a13ecd9"
            }
          },
          "metadata": {}
        },
        {
          "output_type": "execute_result",
          "data": {
            "text/plain": [
              "<keras.callbacks.History at 0x7fefa99df8d0>"
            ]
          },
          "metadata": {},
          "execution_count": 60
        }
      ]
    },
    {
      "cell_type": "code",
      "source": [
        "test = np.array([[[0],[0],[0],[0],[0],[0],[0],[1],[1],[0]]])\n",
        "print(\"Binary: \",test)\n",
        "prediction = model.predict(test)\n",
        "print(\"Octal: \",np.round(prediction[0]))"
      ],
      "metadata": {
        "colab": {
          "base_uri": "https://localhost:8080/"
        },
        "id": "eK5t_3YG26cX",
        "outputId": "c6f53084-3f8a-4358-ccfe-46771de87a82"
      },
      "execution_count": null,
      "outputs": [
        {
          "output_type": "stream",
          "name": "stdout",
          "text": [
            "Binary:  [[[0]\n",
            "  [0]\n",
            "  [0]\n",
            "  [0]\n",
            "  [0]\n",
            "  [0]\n",
            "  [0]\n",
            "  [1]\n",
            "  [1]\n",
            "  [0]]]\n",
            "Octal:  [ 0. -0.  0.  6.]\n"
          ]
        }
      ]
    },
    {
      "cell_type": "code",
      "source": [
        ""
      ],
      "metadata": {
        "id": "1q-7uWH85Bxu"
      },
      "execution_count": null,
      "outputs": []
    },
    {
      "cell_type": "markdown",
      "source": [
        "### (b) Python Implementation of LSTM  from Scratch    to   classify    blues,  classical, country, disco , hiphop, jazz, metal, pop, reggae, rock  using GTZAN Dataset-Music Genre Classification (https://www.kaggle.com/code/kallepallishalini/musicgenreclassificationusingrnn/data). Use an Adam gradient descent algorithm to learn model with parameters for α = 0.01 and random parameters of the parameters of the  CNN model for Softmax loss function.  (i) Plot a comparative loss curve for at least 100 epochs.  (ii) Print confusion matrix, calculate classification metrics such as precision, recall, f1-score and accuracy on test datset and ROC curve for each loss function."
      ],
      "metadata": {
        "id": "1VfwGwAW5HHu"
      }
    },
    {
      "cell_type": "code",
      "source": [
        "import json\n",
        "import os\n",
        "import math\n",
        "import librosa"
      ],
      "metadata": {
        "id": "h2ttuK-e6vs1"
      },
      "execution_count": null,
      "outputs": []
    },
    {
      "cell_type": "code",
      "source": [
        "DATASET_PATH = \"/content/drive/MyDrive/nitk/assignments/assignment5/data4b\"\n",
        "SAMPLE_RATE = 22050\n",
        "TRACK_DURATION = 30 # measured in seconds\n",
        "SAMPLES_PER_TRACK = SAMPLE_RATE * TRACK_DURATION\n",
        "num_mfcc=13\n",
        "n_fft=2048\n",
        "hop_length=512\n",
        "num_segments = 10\n",
        "samples_per_segment = int(SAMPLES_PER_TRACK / num_segments)\n",
        "num_mfcc_vectors_per_segment = math.ceil(samples_per_segment / hop_length)"
      ],
      "metadata": {
        "id": "BjunL5jp5JA3"
      },
      "execution_count": null,
      "outputs": []
    },
    {
      "cell_type": "code",
      "source": [
        "# dictionary to store mapping, labels, and MFCCs\n",
        "data = {\n",
        "    \"mapping\": [],\n",
        "    \"labels\": [],\n",
        "    \"mfcc\": []\n",
        "}\n",
        "# loop through all genre sub-folder\n",
        "for i, (dirpath, dirnames, filenames) in enumerate(os.walk(DATASET_PATH)):\n",
        "\n",
        "    # ensure we're processing a genre sub-folder level\n",
        "    if dirpath is not DATASET_PATH:\n",
        "\n",
        "        # save genre label (i.e., sub-folder name) in the mapping\n",
        "        dirpathSplit = dirpath.split(\"/\")\n",
        "        semantic_label = dirpathSplit[-1]\n",
        "        if('genres_original' in dirpathSplit and 'jazz' not in dirpathSplit):\n",
        "            data[\"mapping\"].append(semantic_label)\n",
        "            print(\"\\nProcessing: {}\".format(semantic_label))\n",
        "\n",
        "            # process all audio files in genre sub-dir\n",
        "            for f in filenames:\n",
        "\n",
        "            # load audio file\n",
        "                file_path = os.path.join(dirpath, f)\n",
        "                signal, sample_rate = librosa.load(file_path, sr=SAMPLE_RATE)\n",
        "\n",
        "                # process all segments of audio file\n",
        "                for d in range(num_segments):\n",
        "\n",
        "                    # calculate start and finish sample for current segment\n",
        "                    start = samples_per_segment * d\n",
        "                    finish = start + samples_per_segment\n",
        "\n",
        "                    # extract mfcc\n",
        "                    mfcc = librosa.feature.mfcc(signal[start:finish], sample_rate, n_mfcc=num_mfcc, n_fft=n_fft, hop_length=hop_length)\n",
        "                    mfcc = mfcc.T\n",
        "\n",
        "                    # store only mfcc feature with expected number of vectors\n",
        "                    if len(mfcc) == num_mfcc_vectors_per_segment:\n",
        "                        data[\"mfcc\"].append(mfcc.tolist())\n",
        "                        data[\"labels\"].append(i-15)\n",
        "                        #print(\"{}, segment:{}\".format(file_path, d+1))"
      ],
      "metadata": {
        "colab": {
          "base_uri": "https://localhost:8080/"
        },
        "id": "cQpbXvQ76O9i",
        "outputId": "d33a97ae-f545-4a7d-db0c-1630f42d75eb"
      },
      "execution_count": null,
      "outputs": [
        {
          "output_type": "stream",
          "name": "stdout",
          "text": [
            "\n",
            "Processing: genres_original\n",
            "\n",
            "Processing: country\n",
            "\n",
            "Processing: classical\n",
            "\n",
            "Processing: blues\n",
            "\n",
            "Processing: pop\n",
            "\n",
            "Processing: hiphop\n",
            "\n",
            "Processing: reggae\n",
            "\n",
            "Processing: metal\n",
            "\n",
            "Processing: disco\n",
            "\n",
            "Processing: rock\n"
          ]
        }
      ]
    },
    {
      "cell_type": "code",
      "source": [
        "for i in range(len(data['labels'])):\n",
        "    data['labels'][i] += 2"
      ],
      "metadata": {
        "id": "6rkXQ2lRAAr4"
      },
      "execution_count": null,
      "outputs": []
    },
    {
      "cell_type": "code",
      "source": [
        "print(np.unique(np.array(data['labels'])))"
      ],
      "metadata": {
        "colab": {
          "base_uri": "https://localhost:8080/"
        },
        "id": "WHIz4zHd9e4q",
        "outputId": "91e83d8f-d680-4468-a009-42e8219d383d"
      },
      "execution_count": null,
      "outputs": [
        {
          "output_type": "stream",
          "name": "stdout",
          "text": [
            "[0 1 2 3 4 5 7 8 9]\n"
          ]
        }
      ]
    },
    {
      "cell_type": "code",
      "source": [
        "def prepare_datasets(test_size, validation_size):\n",
        "\n",
        "    # load data\n",
        "    X = np.array(data[\"mfcc\"])\n",
        "    y = np.array(data[\"labels\"])\n",
        "\n",
        "    # create train, validation and test split\n",
        "    X_train, X_test, y_train, y_test = train_test_split(X, y, test_size=test_size)\n",
        "    X_train, X_validation, y_train, y_validation = train_test_split(X_train, y_train, test_size=validation_size)\n",
        "\n",
        "    return X_train, X_validation, X_test, y_train, y_validation, y_test"
      ],
      "metadata": {
        "id": "X96v9hyu7oh8"
      },
      "execution_count": null,
      "outputs": []
    },
    {
      "cell_type": "code",
      "source": [
        "X_train, X_validation, X_test, y_train, y_validation, y_test = prepare_datasets(0.25, 0.2)"
      ],
      "metadata": {
        "id": "f8sGaS9y9Buj"
      },
      "execution_count": null,
      "outputs": []
    },
    {
      "cell_type": "code",
      "source": [
        "input_shape = (X_train.shape[1], X_train.shape[2]) # 130, 13\n",
        "\n",
        "model = keras.Sequential()\n",
        "# 2 LSTM layers\n",
        "model.add(keras.layers.LSTM(64, input_shape=input_shape, return_sequences=True))\n",
        "model.add(keras.layers.LSTM(64))\n",
        "# dense layer\n",
        "model.add(keras.layers.Dense(64, activation='relu'))\n",
        "# output layer\n",
        "model.add(keras.layers.Dense(10, activation='softmax'))"
      ],
      "metadata": {
        "id": "OsBnp3fP9VN5"
      },
      "execution_count": null,
      "outputs": []
    },
    {
      "cell_type": "code",
      "source": [
        "optimiser = keras.optimizers.Adam(learning_rate=0.01)\n",
        "model.compile(optimizer=optimiser,\n",
        "                  loss='sparse_categorical_crossentropy',\n",
        "                  metrics=['accuracy'])\n",
        "model.summary()"
      ],
      "metadata": {
        "colab": {
          "base_uri": "https://localhost:8080/"
        },
        "id": "2TrJ73ct_phS",
        "outputId": "cb5cd90b-9150-43c3-cb3a-44da8eb37980"
      },
      "execution_count": null,
      "outputs": [
        {
          "output_type": "stream",
          "name": "stdout",
          "text": [
            "Model: \"sequential_3\"\n",
            "_________________________________________________________________\n",
            " Layer (type)                Output Shape              Param #   \n",
            "=================================================================\n",
            " lstm_3 (LSTM)               (None, 130, 64)           19968     \n",
            "                                                                 \n",
            " lstm_4 (LSTM)               (None, 64)                33024     \n",
            "                                                                 \n",
            " dense_7 (Dense)             (None, 64)                4160      \n",
            "                                                                 \n",
            " dense_8 (Dense)             (None, 10)                650       \n",
            "                                                                 \n",
            "=================================================================\n",
            "Total params: 57,802\n",
            "Trainable params: 57,802\n",
            "Non-trainable params: 0\n",
            "_________________________________________________________________\n"
          ]
        }
      ]
    },
    {
      "cell_type": "code",
      "source": [
        "history = model.fit(X_train, y_train, validation_data=(X_validation, y_validation), batch_size=32, epochs=50)"
      ],
      "metadata": {
        "colab": {
          "base_uri": "https://localhost:8080/"
        },
        "id": "Xx9ECdss_xDB",
        "outputId": "b7a4d1b1-03b2-4f7d-db4a-2412ab0c1a85"
      },
      "execution_count": null,
      "outputs": [
        {
          "output_type": "stream",
          "name": "stdout",
          "text": [
            "Epoch 1/50\n",
            "169/169 [==============================] - 33s 172ms/step - loss: 1.6752 - accuracy: 0.3845 - val_loss: 1.5513 - val_accuracy: 0.4296\n",
            "Epoch 2/50\n",
            "169/169 [==============================] - 28s 165ms/step - loss: 1.4861 - accuracy: 0.4545 - val_loss: 1.3580 - val_accuracy: 0.4800\n",
            "Epoch 3/50\n",
            "169/169 [==============================] - 33s 193ms/step - loss: 1.3982 - accuracy: 0.4856 - val_loss: 1.3092 - val_accuracy: 0.4948\n",
            "Epoch 4/50\n",
            "169/169 [==============================] - 29s 170ms/step - loss: 1.2704 - accuracy: 0.5277 - val_loss: 1.2679 - val_accuracy: 0.5378\n",
            "Epoch 5/50\n",
            "169/169 [==============================] - 27s 161ms/step - loss: 1.1729 - accuracy: 0.5707 - val_loss: 1.1669 - val_accuracy: 0.5600\n",
            "Epoch 6/50\n",
            "169/169 [==============================] - 27s 161ms/step - loss: 1.0843 - accuracy: 0.5994 - val_loss: 1.0857 - val_accuracy: 0.5904\n",
            "Epoch 7/50\n",
            "169/169 [==============================] - 27s 162ms/step - loss: 1.0142 - accuracy: 0.6278 - val_loss: 1.0556 - val_accuracy: 0.5963\n",
            "Epoch 8/50\n",
            "169/169 [==============================] - 27s 162ms/step - loss: 0.9434 - accuracy: 0.6494 - val_loss: 1.0046 - val_accuracy: 0.6378\n",
            "Epoch 9/50\n",
            "169/169 [==============================] - 27s 161ms/step - loss: 0.9015 - accuracy: 0.6711 - val_loss: 1.0275 - val_accuracy: 0.6326\n",
            "Epoch 10/50\n",
            "169/169 [==============================] - 27s 162ms/step - loss: 0.8953 - accuracy: 0.6730 - val_loss: 0.9499 - val_accuracy: 0.6585\n",
            "Epoch 11/50\n",
            "169/169 [==============================] - 28s 164ms/step - loss: 0.8773 - accuracy: 0.6811 - val_loss: 0.9482 - val_accuracy: 0.6570\n",
            "Epoch 12/50\n",
            "169/169 [==============================] - 28s 163ms/step - loss: 0.8310 - accuracy: 0.7024 - val_loss: 1.0088 - val_accuracy: 0.6444\n",
            "Epoch 13/50\n",
            "169/169 [==============================] - 28s 165ms/step - loss: 0.8162 - accuracy: 0.7056 - val_loss: 0.9014 - val_accuracy: 0.6622\n",
            "Epoch 14/50\n",
            "169/169 [==============================] - 28s 164ms/step - loss: 0.7731 - accuracy: 0.7232 - val_loss: 0.8745 - val_accuracy: 0.6859\n",
            "Epoch 15/50\n",
            "169/169 [==============================] - 27s 160ms/step - loss: 0.7273 - accuracy: 0.7382 - val_loss: 0.8864 - val_accuracy: 0.6837\n",
            "Epoch 16/50\n",
            "169/169 [==============================] - 28s 163ms/step - loss: 0.7184 - accuracy: 0.7402 - val_loss: 0.8557 - val_accuracy: 0.6896\n",
            "Epoch 17/50\n",
            "169/169 [==============================] - 27s 160ms/step - loss: 0.7004 - accuracy: 0.7454 - val_loss: 0.8544 - val_accuracy: 0.7067\n",
            "Epoch 18/50\n",
            "169/169 [==============================] - 28s 163ms/step - loss: 0.6541 - accuracy: 0.7593 - val_loss: 0.8236 - val_accuracy: 0.7289\n",
            "Epoch 19/50\n",
            "169/169 [==============================] - 28s 163ms/step - loss: 0.6243 - accuracy: 0.7734 - val_loss: 0.8288 - val_accuracy: 0.7089\n",
            "Epoch 20/50\n",
            "169/169 [==============================] - 31s 183ms/step - loss: 0.6242 - accuracy: 0.7719 - val_loss: 0.8420 - val_accuracy: 0.7030\n",
            "Epoch 21/50\n",
            "169/169 [==============================] - 28s 163ms/step - loss: 0.5746 - accuracy: 0.7914 - val_loss: 0.8600 - val_accuracy: 0.7193\n",
            "Epoch 22/50\n",
            "169/169 [==============================] - 27s 161ms/step - loss: 0.5809 - accuracy: 0.7936 - val_loss: 0.8131 - val_accuracy: 0.7222\n",
            "Epoch 23/50\n",
            "169/169 [==============================] - 27s 162ms/step - loss: 0.5520 - accuracy: 0.7964 - val_loss: 0.8596 - val_accuracy: 0.7089\n",
            "Epoch 24/50\n",
            "169/169 [==============================] - 28s 167ms/step - loss: 0.5640 - accuracy: 0.7969 - val_loss: 0.8170 - val_accuracy: 0.7430\n",
            "Epoch 25/50\n",
            "169/169 [==============================] - 27s 162ms/step - loss: 0.4969 - accuracy: 0.8253 - val_loss: 0.7801 - val_accuracy: 0.7356\n",
            "Epoch 26/50\n",
            "169/169 [==============================] - 27s 161ms/step - loss: 0.4888 - accuracy: 0.8271 - val_loss: 0.8192 - val_accuracy: 0.7259\n",
            "Epoch 27/50\n",
            "169/169 [==============================] - 27s 162ms/step - loss: 0.4791 - accuracy: 0.8331 - val_loss: 0.8166 - val_accuracy: 0.7215\n",
            "Epoch 28/50\n",
            "169/169 [==============================] - 27s 162ms/step - loss: 0.4695 - accuracy: 0.8319 - val_loss: 0.8510 - val_accuracy: 0.7319\n",
            "Epoch 29/50\n",
            "169/169 [==============================] - 29s 169ms/step - loss: 0.4860 - accuracy: 0.8290 - val_loss: 0.8667 - val_accuracy: 0.7052\n",
            "Epoch 30/50\n",
            "169/169 [==============================] - 28s 163ms/step - loss: 0.4819 - accuracy: 0.8264 - val_loss: 0.8722 - val_accuracy: 0.7104\n",
            "Epoch 31/50\n",
            "169/169 [==============================] - 27s 162ms/step - loss: 0.4689 - accuracy: 0.8323 - val_loss: 0.7872 - val_accuracy: 0.7363\n",
            "Epoch 32/50\n",
            "169/169 [==============================] - 28s 163ms/step - loss: 0.4369 - accuracy: 0.8390 - val_loss: 0.8152 - val_accuracy: 0.7296\n",
            "Epoch 33/50\n",
            "169/169 [==============================] - 27s 162ms/step - loss: 0.4695 - accuracy: 0.8299 - val_loss: 0.9084 - val_accuracy: 0.7059\n",
            "Epoch 34/50\n",
            "169/169 [==============================] - 28s 163ms/step - loss: 0.4239 - accuracy: 0.8457 - val_loss: 0.7624 - val_accuracy: 0.7356\n",
            "Epoch 35/50\n",
            "169/169 [==============================] - 27s 163ms/step - loss: 0.4242 - accuracy: 0.8516 - val_loss: 0.8315 - val_accuracy: 0.7244\n",
            "Epoch 36/50\n",
            "169/169 [==============================] - 28s 163ms/step - loss: 0.4237 - accuracy: 0.8551 - val_loss: 0.8210 - val_accuracy: 0.7281\n",
            "Epoch 37/50\n",
            "169/169 [==============================] - 27s 163ms/step - loss: 0.3753 - accuracy: 0.8675 - val_loss: 0.7761 - val_accuracy: 0.7533\n",
            "Epoch 38/50\n",
            "169/169 [==============================] - 27s 163ms/step - loss: 0.3562 - accuracy: 0.8694 - val_loss: 0.7983 - val_accuracy: 0.7370\n",
            "Epoch 39/50\n",
            "169/169 [==============================] - 31s 186ms/step - loss: 0.3721 - accuracy: 0.8675 - val_loss: 0.8276 - val_accuracy: 0.7415\n",
            "Epoch 40/50\n",
            "169/169 [==============================] - 31s 183ms/step - loss: 0.3732 - accuracy: 0.8653 - val_loss: 0.8305 - val_accuracy: 0.7474\n",
            "Epoch 41/50\n",
            "169/169 [==============================] - 28s 164ms/step - loss: 0.3786 - accuracy: 0.8623 - val_loss: 0.8684 - val_accuracy: 0.7533\n",
            "Epoch 42/50\n",
            "169/169 [==============================] - 28s 164ms/step - loss: 0.3694 - accuracy: 0.8636 - val_loss: 0.8553 - val_accuracy: 0.7504\n",
            "Epoch 43/50\n",
            "169/169 [==============================] - 28s 166ms/step - loss: 0.3878 - accuracy: 0.8660 - val_loss: 0.8871 - val_accuracy: 0.7311\n",
            "Epoch 44/50\n",
            "169/169 [==============================] - 28s 165ms/step - loss: 0.3697 - accuracy: 0.8677 - val_loss: 0.9234 - val_accuracy: 0.7407\n",
            "Epoch 45/50\n",
            "169/169 [==============================] - 28s 165ms/step - loss: 0.3770 - accuracy: 0.8666 - val_loss: 0.9287 - val_accuracy: 0.7400\n",
            "Epoch 46/50\n",
            "169/169 [==============================] - 28s 164ms/step - loss: 0.3734 - accuracy: 0.8662 - val_loss: 0.8485 - val_accuracy: 0.7319\n",
            "Epoch 47/50\n",
            "169/169 [==============================] - 29s 169ms/step - loss: 0.4071 - accuracy: 0.8577 - val_loss: 0.8983 - val_accuracy: 0.7385\n",
            "Epoch 48/50\n",
            "169/169 [==============================] - 29s 169ms/step - loss: 0.3736 - accuracy: 0.8644 - val_loss: 0.9170 - val_accuracy: 0.7304\n",
            "Epoch 49/50\n",
            "169/169 [==============================] - 28s 166ms/step - loss: 0.3485 - accuracy: 0.8768 - val_loss: 0.8956 - val_accuracy: 0.7422\n",
            "Epoch 50/50\n",
            "169/169 [==============================] - 28s 167ms/step - loss: 0.3203 - accuracy: 0.8864 - val_loss: 0.8625 - val_accuracy: 0.7481\n"
          ]
        }
      ]
    },
    {
      "cell_type": "code",
      "source": [
        "# create accuracy sublpot\n",
        "plt.plot(history.history[\"accuracy\"], label=\"train accuracy\")\n",
        "plt.plot(history.history[\"val_accuracy\"], label=\"test accuracy\")\n",
        "plt.ylabel(\"Accuracy\")\n",
        "plt.legend(loc=\"lower right\")\n",
        "plt.title(\"Accuracy\")\n",
        "plt.show()"
      ],
      "metadata": {
        "colab": {
          "base_uri": "https://localhost:8080/",
          "height": 281
        },
        "id": "Ka6a9WeuAnCB",
        "outputId": "b717df17-65fd-484a-b22a-cb6aa36e6085"
      },
      "execution_count": null,
      "outputs": [
        {
          "output_type": "display_data",
          "data": {
            "text/plain": [
              "<Figure size 432x288 with 1 Axes>"
            ],
            "image/png": "[encoded data removed]"
          },
          "metadata": {
            "needs_background": "light"
          }
        }
      ]
    },
    {
      "cell_type": "code",
      "source": [
        "plt.plot(history.history[\"loss\"], label=\"train error\")\n",
        "plt.plot(history.history[\"val_loss\"], label=\"test error\")\n",
        "plt.ylabel(\"Error\")\n",
        "plt.xlabel(\"Epoch\")\n",
        "plt.legend(loc=\"upper right\")\n",
        "plt.title(\"Error eval\");"
      ],
      "metadata": {
        "colab": {
          "base_uri": "https://localhost:8080/",
          "height": 295
        },
        "id": "AiKKrLG6_1-c",
        "outputId": "f20855e1-1da0-445a-ab9c-1a16d1724b61"
      },
      "execution_count": null,
      "outputs": [
        {
          "output_type": "display_data",
          "data": {
            "text/plain": [
              "<Figure size 432x288 with 1 Axes>"
            ],
            "image/png": "[encoded data removed]"
          },
          "metadata": {
            "needs_background": "light"
          }
        }
      ]
    },
    {
      "cell_type": "code",
      "source": [
        "X = X_test[1][np.newaxis,...]\n",
        "prediction = model.predict(X)\n",
        "predicted_index = np.argmax(prediction, axis=1)\n",
        "print(f\"Expected index: {y_test[1]}, Predicted index: {predicted_index}\")"
      ],
      "metadata": {
        "colab": {
          "base_uri": "https://localhost:8080/"
        },
        "id": "GwQ0IbH2GDSu",
        "outputId": "0757c8c8-d60f-41ea-8ca5-8710c7deb12d"
      },
      "execution_count": null,
      "outputs": [
        {
          "output_type": "stream",
          "name": "stdout",
          "text": [
            "Expected index: 7, Predicted index: [7]\n"
          ]
        }
      ]
    },
    {
      "cell_type": "code",
      "source": [
        "y_pred = model.predict(X_test)"
      ],
      "metadata": {
        "id": "KPlnF4dRGvtM"
      },
      "execution_count": null,
      "outputs": []
    },
    {
      "cell_type": "code",
      "source": [
        "Y_pred = []\n",
        "for i in range(len(y_pred)):\n",
        "    Y_pred.append(np.argmax(y_pred[i]))"
      ],
      "metadata": {
        "id": "f0BcRsdfHD0i"
      },
      "execution_count": null,
      "outputs": []
    },
    {
      "cell_type": "code",
      "source": [
        "print(classification_report(y_test, Y_pred))"
      ],
      "metadata": {
        "colab": {
          "base_uri": "https://localhost:8080/"
        },
        "id": "CtXDL2BNHKnv",
        "outputId": "637fafd0-4655-47a3-9d1a-144744d42483"
      },
      "execution_count": null,
      "outputs": [
        {
          "output_type": "stream",
          "name": "stdout",
          "text": [
            "              precision    recall  f1-score   support\n",
            "\n",
            "           0       0.67      0.59      0.63       264\n",
            "           1       0.98      0.93      0.95       240\n",
            "           2       0.71      0.80      0.75       232\n",
            "           3       0.91      0.82      0.86       238\n",
            "           4       0.70      0.71      0.70       260\n",
            "           5       0.67      0.81      0.73       253\n",
            "           7       0.84      0.86      0.85       265\n",
            "           8       0.73      0.66      0.69       233\n",
            "           9       0.57      0.58      0.57       264\n",
            "\n",
            "    accuracy                           0.75      2249\n",
            "   macro avg       0.75      0.75      0.75      2249\n",
            "weighted avg       0.75      0.75      0.75      2249\n",
            "\n"
          ]
        }
      ]
    },
    {
      "cell_type": "code",
      "source": [
        "cf_matrix = confusion_matrix(y_test, Y_pred)\n",
        "ax = sns.heatmap(cf_matrix, annot=True, cmap='Blues')\n",
        "ax.set_title('Confusion Matrix\\n\\n',fontdict = {'size':14}, pad = 10)\n",
        "ax.set_xlabel('\\nPredicted values',fontdict = {'size':14}, labelpad = 10)\n",
        "ax.set_ylabel('Actual values ',fontdict = {'size':18}, labelpad = 20);"
      ],
      "metadata": {
        "colab": {
          "base_uri": "https://localhost:8080/",
          "height": 359
        },
        "id": "p9wje1CGHSOX",
        "outputId": "f38224a3-4821-4459-90c7-93f952fffe49"
      },
      "execution_count": null,
      "outputs": [
        {
          "output_type": "display_data",
          "data": {
            "text/plain": [
              "<Figure size 432x288 with 2 Axes>"
            ],
            "image/png": "[encoded data removed]"
          },
          "metadata": {
            "needs_background": "light"
          }
        }
      ]
    },
    {
      "cell_type": "code",
      "source": [
        "accuracy = precision_score(y_test, Y_pred, average=None)\n",
        "print(\"Accuracy for each class: \")\n",
        "for i in range(len(accuracy)):\n",
        "    if i > 5:\n",
        "        j = i+1\n",
        "        print(f\"{j}:  {format(accuracy[i], '.2f')}%\")\n",
        "    else:\n",
        "        print(f\"{i}:  {format(accuracy[i], '.2f')}%\")"
      ],
      "metadata": {
        "colab": {
          "base_uri": "https://localhost:8080/"
        },
        "id": "_tMfZfuZHe-Q",
        "outputId": "ad3bb460-6487-4ea7-8b74-4bed9db9c32e"
      },
      "execution_count": null,
      "outputs": [
        {
          "output_type": "stream",
          "name": "stdout",
          "text": [
            "Accuracy for each class: \n",
            "0:  0.67%\n",
            "1:  0.98%\n",
            "2:  0.71%\n",
            "3:  0.91%\n",
            "4:  0.70%\n",
            "5:  0.67%\n",
            "7:  0.84%\n",
            "8:  0.73%\n",
            "9:  0.57%\n"
          ]
        }
      ]
    },
    {
      "cell_type": "code",
      "source": [
        ""
      ],
      "metadata": {
        "id": "acIXz_b5IL5T"
      },
      "execution_count": null,
      "outputs": []
    },
    {
      "cell_type": "markdown",
      "source": [
        "## Q.5) \n",
        "### (a) Implement A CNN-RNN (LSTM) Framework  using  (Keras/Tensorflow/Pytorch) for Crop Yield  Prediction (reference  paper, and dataset attached and other related  dataset is available at https://github.com/saeedkhaki92/CNN-RNN-Yield-Prediction). For implementation, use a Stochastic gradient descent algorithm to learn model with parameters for α = 0.01 and random parameters of the CNN model for  RMSE as loss function  \n",
        "\n",
        "### (i) Plot a comparative loss curve for at least 100 epochs.  \n",
        "### (ii) Compare  for  Soybean  and Corn  yield prediction performance (RMSE and Correlation  Coefﬁcient)  for years 2016, 2017, and 2018 of 1D CNN, RNN(LSTM), and CNN- RNN(LSTM)  "
      ],
      "metadata": {
        "id": "hech68aZIyCa"
      }
    },
    {
      "cell_type": "code",
      "source": [
        "path = \"/content/drive/MyDrive/nitk/assignments/assignment5/data5/\"\n",
        "x_corn = pd.read_csv(path+'corn_samples.csv')\n",
        "y_corn = pd.read_csv(path+'corn_samples.csv')\n",
        "x_soy = pd.read_csv(path+'soybean_samples.csv')\n",
        "y_soy = pd.read_csv(path+'soybean_samples.csv')\n",
        "print(x_corn.info())\n",
        "x_corn.head()"
      ],
      "metadata": {
        "colab": {
          "base_uri": "https://localhost:8080/",
          "height": 403
        },
        "id": "cjN1FGy6Kdie",
        "outputId": "bcc1d65a-7924-4cd6-b030-67c4176cdadc"
      },
      "execution_count": null,
      "outputs": [
        {
          "output_type": "stream",
          "name": "stdout",
          "text": [
            "<class 'pandas.core.frame.DataFrame'>\n",
            "RangeIndex: 1499 entries, 0 to 1498\n",
            "Columns: 397 entries, loc_ID to P_16\n",
            "dtypes: float64(358), int64(39)\n",
            "memory usage: 4.5 MB\n",
            "None\n"
          ]
        },
        {
          "output_type": "execute_result",
          "data": {
            "text/plain": [
              "   loc_ID  year  yield     W_1_1     W_1_2     W_1_3     W_1_4     W_1_5  \\\n",
              "0       0  1980   82.0  0.274725  0.000000  1.615385  0.395604  0.967033   \n",
              "1       0  1981  116.0  0.604396  0.000000  0.043956  0.000000  0.857143   \n",
              "2       0  1982  124.0  2.098901  0.384615  1.681319  0.527473  6.340659   \n",
              "3       0  1983   46.0  0.000000  0.000000  0.000000  1.032967  4.373626   \n",
              "4       0  1984  103.0  0.000000  0.043956  0.197802  0.461538  0.142857   \n",
              "\n",
              "      W_1_6     W_1_7  ...  P_7  P_8  P_9  P_10  P_11  P_12  P_13  P_14  P_15  \\\n",
              "0  0.736264  1.153846  ...   38   40    8     4     0     0     0     0     0   \n",
              "1  1.824176  0.000000  ...   13   30   16    11    12     7     3     0     0   \n",
              "2  1.593407  1.868132  ...   47   14    5     2     1     0     0     0     0   \n",
              "3  0.351648  0.263736  ...   11   24   22    17     6     5     3     0     0   \n",
              "4  0.670330  4.615385  ...    6   35   33    10     4     8     0     0     0   \n",
              "\n",
              "   P_16  \n",
              "0     0  \n",
              "1     0  \n",
              "2     0  \n",
              "3     0  \n",
              "4     0  \n",
              "\n",
              "[5 rows x 397 columns]"
            ],
            "text/html": [
              "\n",
              "  <div id=\"df-a658f2de-7f97-4bcd-b610-38483222bd7c\">\n",
              "    <div class=\"colab-df-container\">\n",
              "      <div>\n",
              "<style scoped>\n",
              "    .dataframe tbody tr th:only-of-type {\n",
              "        vertical-align: middle;\n",
              "    }\n",
              "\n",
              "    .dataframe tbody tr th {\n",
              "        vertical-align: top;\n",
              "    }\n",
              "\n",
              "    .dataframe thead th {\n",
              "        text-align: right;\n",
              "    }\n",
              "</style>\n",
              "<table border=\"1\" class=\"dataframe\">\n",
              "  <thead>\n",
              "    <tr style=\"text-align: right;\">\n",
              "      <th></th>\n",
              "      <th>loc_ID</th>\n",
              "      <th>year</th>\n",
              "      <th>yield</th>\n",
              "      <th>W_1_1</th>\n",
              "      <th>W_1_2</th>\n",
              "      <th>W_1_3</th>\n",
              "      <th>W_1_4</th>\n",
              "      <th>W_1_5</th>\n",
              "      <th>W_1_6</th>\n",
              "      <th>W_1_7</th>\n",
              "      <th>...</th>\n",
              "      <th>P_7</th>\n",
              "      <th>P_8</th>\n",
              "      <th>P_9</th>\n",
              "      <th>P_10</th>\n",
              "      <th>P_11</th>\n",
              "      <th>P_12</th>\n",
              "      <th>P_13</th>\n",
              "      <th>P_14</th>\n",
              "      <th>P_15</th>\n",
              "      <th>P_16</th>\n",
              "    </tr>\n",
              "  </thead>\n",
              "  <tbody>\n",
              "    <tr>\n",
              "      <th>0</th>\n",
              "      <td>0</td>\n",
              "      <td>1980</td>\n",
              "      <td>82.0</td>\n",
              "      <td>0.274725</td>\n",
              "      <td>0.000000</td>\n",
              "      <td>1.615385</td>\n",
              "      <td>0.395604</td>\n",
              "      <td>0.967033</td>\n",
              "      <td>0.736264</td>\n",
              "      <td>1.153846</td>\n",
              "      <td>...</td>\n",
              "      <td>38</td>\n",
              "      <td>40</td>\n",
              "      <td>8</td>\n",
              "      <td>4</td>\n",
              "      <td>0</td>\n",
              "      <td>0</td>\n",
              "      <td>0</td>\n",
              "      <td>0</td>\n",
              "      <td>0</td>\n",
              "      <td>0</td>\n",
              "    </tr>\n",
              "    <tr>\n",
              "      <th>1</th>\n",
              "      <td>0</td>\n",
              "      <td>1981</td>\n",
              "      <td>116.0</td>\n",
              "      <td>0.604396</td>\n",
              "      <td>0.000000</td>\n",
              "      <td>0.043956</td>\n",
              "      <td>0.000000</td>\n",
              "      <td>0.857143</td>\n",
              "      <td>1.824176</td>\n",
              "      <td>0.000000</td>\n",
              "      <td>...</td>\n",
              "      <td>13</td>\n",
              "      <td>30</td>\n",
              "      <td>16</td>\n",
              "      <td>11</td>\n",
              "      <td>12</td>\n",
              "      <td>7</td>\n",
              "      <td>3</td>\n",
              "      <td>0</td>\n",
              "      <td>0</td>\n",
              "      <td>0</td>\n",
              "    </tr>\n",
              "    <tr>\n",
              "      <th>2</th>\n",
              "      <td>0</td>\n",
              "      <td>1982</td>\n",
              "      <td>124.0</td>\n",
              "      <td>2.098901</td>\n",
              "      <td>0.384615</td>\n",
              "      <td>1.681319</td>\n",
              "      <td>0.527473</td>\n",
              "      <td>6.340659</td>\n",
              "      <td>1.593407</td>\n",
              "      <td>1.868132</td>\n",
              "      <td>...</td>\n",
              "      <td>47</td>\n",
              "      <td>14</td>\n",
              "      <td>5</td>\n",
              "      <td>2</td>\n",
              "      <td>1</td>\n",
              "      <td>0</td>\n",
              "      <td>0</td>\n",
              "      <td>0</td>\n",
              "      <td>0</td>\n",
              "      <td>0</td>\n",
              "    </tr>\n",
              "    <tr>\n",
              "      <th>3</th>\n",
              "      <td>0</td>\n",
              "      <td>1983</td>\n",
              "      <td>46.0</td>\n",
              "      <td>0.000000</td>\n",
              "      <td>0.000000</td>\n",
              "      <td>0.000000</td>\n",
              "      <td>1.032967</td>\n",
              "      <td>4.373626</td>\n",
              "      <td>0.351648</td>\n",
              "      <td>0.263736</td>\n",
              "      <td>...</td>\n",
              "      <td>11</td>\n",
              "      <td>24</td>\n",
              "      <td>22</td>\n",
              "      <td>17</td>\n",
              "      <td>6</td>\n",
              "      <td>5</td>\n",
              "      <td>3</td>\n",
              "      <td>0</td>\n",
              "      <td>0</td>\n",
              "      <td>0</td>\n",
              "    </tr>\n",
              "    <tr>\n",
              "      <th>4</th>\n",
              "      <td>0</td>\n",
              "      <td>1984</td>\n",
              "      <td>103.0</td>\n",
              "      <td>0.000000</td>\n",
              "      <td>0.043956</td>\n",
              "      <td>0.197802</td>\n",
              "      <td>0.461538</td>\n",
              "      <td>0.142857</td>\n",
              "      <td>0.670330</td>\n",
              "      <td>4.615385</td>\n",
              "      <td>...</td>\n",
              "      <td>6</td>\n",
              "      <td>35</td>\n",
              "      <td>33</td>\n",
              "      <td>10</td>\n",
              "      <td>4</td>\n",
              "      <td>8</td>\n",
              "      <td>0</td>\n",
              "      <td>0</td>\n",
              "      <td>0</td>\n",
              "      <td>0</td>\n",
              "    </tr>\n",
              "  </tbody>\n",
              "</table>\n",
              "<p>5 rows × 397 columns</p>\n",
              "</div>\n",
              "      <button class=\"colab-df-convert\" onclick=\"convertToInteractive('df-a658f2de-7f97-4bcd-b610-38483222bd7c')\"\n",
              "              title=\"Convert this dataframe to an interactive table.\"\n",
              "              style=\"display:none;\">\n",
              "        \n",
              "  <svg xmlns=\"http://www.w3.org/2000/svg\" height=\"24px\"viewBox=\"0 0 24 24\"\n",
              "       width=\"24px\">\n",
              "    <path d=\"M0 0h24v24H0V0z\" fill=\"none\"/>\n",
              "    <path d=\"M18.56 5.44l.94 2.06.94-2.06 2.06-.94-2.06-.94-.94-2.06-.94 2.06-2.06.94zm-11 1L8.5 8.5l.94-2.06 2.06-.94-2.06-.94L8.5 2.5l-.94 2.06-2.06.94zm10 10l.94 2.06.94-2.06 2.06-.94-2.06-.94-.94-2.06-.94 2.06-2.06.94z\"/><path d=\"M17.41 7.96l-1.37-1.37c-.4-.4-.92-.59-1.43-.59-.52 0-1.04.2-1.43.59L10.3 9.45l-7.72 7.72c-.78.78-.78 2.05 0 2.83L4 21.41c.39.39.9.59 1.41.59.51 0 1.02-.2 1.41-.59l7.78-7.78 2.81-2.81c.8-.78.8-2.07 0-2.86zM5.41 20L4 18.59l7.72-7.72 1.47 1.35L5.41 20z\"/>\n",
              "  </svg>\n",
              "      </button>\n",
              "      \n",
              "  <style>\n",
              "    .colab-df-container {\n",
              "      display:flex;\n",
              "      flex-wrap:wrap;\n",
              "      gap: 12px;\n",
              "    }\n",
              "\n",
              "    .colab-df-convert {\n",
              "      background-color: #E8F0FE;\n",
              "      border: none;\n",
              "      border-radius: 50%;\n",
              "      cursor: pointer;\n",
              "      display: none;\n",
              "      fill: #1967D2;\n",
              "      height: 32px;\n",
              "      padding: 0 0 0 0;\n",
              "      width: 32px;\n",
              "    }\n",
              "\n",
              "    .colab-df-convert:hover {\n",
              "      background-color: #E2EBFA;\n",
              "      box-shadow: 0px 1px 2px rgba(60, 64, 67, 0.3), 0px 1px 3px 1px rgba(60, 64, 67, 0.15);\n",
              "      fill: #174EA6;\n",
              "    }\n",
              "\n",
              "    [theme=dark] .colab-df-convert {\n",
              "      background-color: #3B4455;\n",
              "      fill: #D2E3FC;\n",
              "    }\n",
              "\n",
              "    [theme=dark] .colab-df-convert:hover {\n",
              "      background-color: #434B5C;\n",
              "      box-shadow: 0px 1px 3px 1px rgba(0, 0, 0, 0.15);\n",
              "      filter: drop-shadow(0px 1px 2px rgba(0, 0, 0, 0.3));\n",
              "      fill: #FFFFFF;\n",
              "    }\n",
              "  </style>\n",
              "\n",
              "      <script>\n",
              "        const buttonEl =\n",
              "          document.querySelector('#df-a658f2de-7f97-4bcd-b610-38483222bd7c button.colab-df-convert');\n",
              "        buttonEl.style.display =\n",
              "          google.colab.kernel.accessAllowed ? 'block' : 'none';\n",
              "\n",
              "        async function convertToInteractive(key) {\n",
              "          const element = document.querySelector('#df-a658f2de-7f97-4bcd-b610-38483222bd7c');\n",
              "          const dataTable =\n",
              "            await google.colab.kernel.invokeFunction('convertToInteractive',\n",
              "                                                     [key], {});\n",
              "          if (!dataTable) return;\n",
              "\n",
              "          const docLinkHtml = 'Like what you see? Visit the ' +\n",
              "            '<a target=\"_blank\" href=https://colab.research.google.com/notebooks/data_table.ipynb>data table notebook</a>'\n",
              "            + ' to learn more about interactive tables.';\n",
              "          element.innerHTML = '';\n",
              "          dataTable['output_type'] = 'display_data';\n",
              "          await google.colab.output.renderOutput(dataTable, element);\n",
              "          const docLink = document.createElement('div');\n",
              "          docLink.innerHTML = docLinkHtml;\n",
              "          element.appendChild(docLink);\n",
              "        }\n",
              "      </script>\n",
              "    </div>\n",
              "  </div>\n",
              "  "
            ]
          },
          "metadata": {},
          "execution_count": 45
        }
      ]
    },
    {
      "cell_type": "code",
      "source": [
        "X_train = np.array(x_corn.drop([\"yield\",\"loc_ID\",\"year\"],axis = 1)) \n",
        "Y_train = np.array(x_corn[\"yield\"])\n",
        "for i in range(X_train.shape[-1]):\n",
        "    diff = np.max(X_train[:,i]) - np.min(X_train[:,i])\n",
        "    if(diff != 0):\n",
        "        X_train[:,i] = (X_train[:,i]-np.mean(X_train[:,i]))/diff\n",
        "    else:\n",
        "        X_train[:,i] = 0\n",
        "        \n",
        "Y_train = Y_train/np.max(Y_train)"
      ],
      "metadata": {
        "id": "GKow403nLrX2"
      },
      "execution_count": null,
      "outputs": []
    },
    {
      "cell_type": "markdown",
      "source": [
        "### Corn yield data"
      ],
      "metadata": {
        "id": "icVZlvs10rF8"
      }
    },
    {
      "cell_type": "code",
      "source": [
        "model = keras.models.Sequential()\n",
        "model.add(keras.layers.Input(shape=(394)))\n",
        "model.add(keras.layers.Reshape((394,1)))\n",
        "\n",
        "model.add(keras.layers.Conv1D(16, activation='relu', kernel_size=(3)))\n",
        "model.add(keras.layers.Conv1D(32, activation='relu', kernel_size=(3)))\n",
        "model.add(keras.layers.MaxPool1D(pool_size=(2), strides=(2), padding='valid'))\n",
        "\n",
        "model.add(keras.layers.Flatten())\n",
        "model.add(keras.layers.Dense(64))\n",
        "model.add(keras.layers.Dense(32))\n",
        "model.add(keras.layers.Reshape((4, 8)))\n",
        "\n",
        "model.add(keras.layers.LSTM(8, return_sequences=True))\n",
        "model.add(keras.layers.LSTM(8))\n",
        "model.add(keras.layers.Dense(1, activation=None))\n",
        "\n",
        "model.summary()"
      ],
      "metadata": {
        "colab": {
          "base_uri": "https://localhost:8080/"
        },
        "id": "a50_zYKSL_QK",
        "outputId": "385b02cf-50c7-4f94-8fe4-e4d9326b0e33"
      },
      "execution_count": null,
      "outputs": [
        {
          "output_type": "stream",
          "name": "stdout",
          "text": [
            "Model: \"sequential_5\"\n",
            "_________________________________________________________________\n",
            " Layer (type)                Output Shape              Param #   \n",
            "=================================================================\n",
            " reshape_10 (Reshape)        (None, 394, 1)            0         \n",
            "                                                                 \n",
            " conv1d_10 (Conv1D)          (None, 392, 16)           64        \n",
            "                                                                 \n",
            " conv1d_11 (Conv1D)          (None, 390, 32)           1568      \n",
            "                                                                 \n",
            " max_pooling1d_5 (MaxPooling  (None, 195, 32)          0         \n",
            " 1D)                                                             \n",
            "                                                                 \n",
            " flatten_5 (Flatten)         (None, 6240)              0         \n",
            "                                                                 \n",
            " dense_14 (Dense)            (None, 64)                399424    \n",
            "                                                                 \n",
            " dense_15 (Dense)            (None, 32)                2080      \n",
            "                                                                 \n",
            " reshape_11 (Reshape)        (None, 4, 8)              0         \n",
            "                                                                 \n",
            " lstm_8 (LSTM)               (None, 4, 8)              544       \n",
            "                                                                 \n",
            " lstm_9 (LSTM)               (None, 8)                 544       \n",
            "                                                                 \n",
            " dense_16 (Dense)            (None, 1)                 9         \n",
            "                                                                 \n",
            "=================================================================\n",
            "Total params: 404,233\n",
            "Trainable params: 404,233\n",
            "Non-trainable params: 0\n",
            "_________________________________________________________________\n"
          ]
        }
      ]
    },
    {
      "cell_type": "code",
      "source": [
        "model.compile(loss='mse', optimizer='adam')\n",
        "history = model.fit(X_train, Y_train, epochs=10, batch_size=1)"
      ],
      "metadata": {
        "colab": {
          "base_uri": "https://localhost:8080/"
        },
        "id": "U2trsvzpMHQ_",
        "outputId": "737dead9-4dca-4845-c603-807f9d10cb23"
      },
      "execution_count": null,
      "outputs": [
        {
          "output_type": "stream",
          "name": "stdout",
          "text": [
            "Epoch 1/10\n",
            "1499/1499 [==============================] - 24s 7ms/step - loss: 0.0020\n",
            "Epoch 2/10\n",
            "1499/1499 [==============================] - 11s 8ms/step - loss: 0.0017\n",
            "Epoch 3/10\n",
            "1499/1499 [==============================] - 15s 10ms/step - loss: 0.0016\n",
            "Epoch 4/10\n",
            "1499/1499 [==============================] - 11s 7ms/step - loss: 0.0015\n",
            "Epoch 5/10\n",
            "1499/1499 [==============================] - 11s 7ms/step - loss: 0.0012\n",
            "Epoch 6/10\n",
            "1499/1499 [==============================] - 11s 8ms/step - loss: 0.0012\n",
            "Epoch 7/10\n",
            "1499/1499 [==============================] - 11s 8ms/step - loss: 0.0012\n",
            "Epoch 8/10\n",
            "1499/1499 [==============================] - 13s 9ms/step - loss: 0.0012\n",
            "Epoch 9/10\n",
            "1499/1499 [==============================] - 12s 8ms/step - loss: 0.0010\n",
            "Epoch 10/10\n",
            "1499/1499 [==============================] - 11s 7ms/step - loss: 0.0010\n"
          ]
        }
      ]
    },
    {
      "cell_type": "code",
      "source": [
        "plt.plot(history.history[\"loss\"])\n",
        "plt.ylabel(\"Error\")\n",
        "plt.xlabel(\"Epoch\")\n",
        "plt.title(\"Loss vs Epochs\");"
      ],
      "metadata": {
        "colab": {
          "base_uri": "https://localhost:8080/",
          "height": 295
        },
        "id": "yzEPC06ncV3u",
        "outputId": "6b509a54-360e-48c1-8dd7-f647f4d36b53"
      },
      "execution_count": null,
      "outputs": [
        {
          "output_type": "display_data",
          "data": {
            "text/plain": [
              "<Figure size 432x288 with 1 Axes>"
            ],
            "image/png": "[encoded data removed]"
          },
          "metadata": {}
        }
      ]
    },
    {
      "cell_type": "markdown",
      "source": [
        "### Soy yield data"
      ],
      "metadata": {
        "id": "DP0vOV9F0w9V"
      }
    },
    {
      "cell_type": "code",
      "source": [
        "X_train = np.array(x_soy.drop(\"yield\",axis = 1)) \n",
        "Y_train = np.array(x_soy[\"yield\"])\n",
        "\n",
        "for i in range(X_train.shape[-1]):\n",
        "    diff = np.max(X_train[:,i]) - np.min(X_train[:,i])\n",
        "    if(diff != 0):\n",
        "        X_train[:,i] = (X_train[:,i]-np.mean(X_train[:,i]))/diff\n",
        "    else:\n",
        "        X_train[:,i] = 0\n",
        "        \n",
        "Y_train = Y_train/np.max(Y_train)"
      ],
      "metadata": {
        "id": "k5VSv5e2MO1u"
      },
      "execution_count": null,
      "outputs": []
    },
    {
      "cell_type": "code",
      "source": [
        "model = keras.models.Sequential()\n",
        "model.add(keras.layers.Input(shape=(394)))\n",
        "model.add(keras.layers.Reshape((394,1)))\n",
        "\n",
        "model.add(keras.layers.Conv1D(16, activation='relu', kernel_size=(3)))\n",
        "model.add(keras.layers.Conv1D(32, activation='relu', kernel_size=(3)))\n",
        "model.add(keras.layers.MaxPool1D(pool_size=(2), strides=(2), padding='valid'))\n",
        "\n",
        "model.add(keras.layers.Flatten())\n",
        "model.add(keras.layers.Dense(64))\n",
        "model.add(keras.layers.Dense(32))\n",
        "model.add(keras.layers.Reshape((4, 8)))\n",
        "\n",
        "model.add(keras.layers.LSTM(8, return_sequences=True))\n",
        "model.add(keras.layers.LSTM(8))\n",
        "model.add(keras.layers.Dense(1, activation=None))\n",
        "\n",
        "model.summary()"
      ],
      "metadata": {
        "colab": {
          "base_uri": "https://localhost:8080/"
        },
        "id": "o1BDEjHqWe8J",
        "outputId": "f93f4539-d39a-416a-a517-af487e84f772"
      },
      "execution_count": null,
      "outputs": [
        {
          "output_type": "stream",
          "name": "stdout",
          "text": [
            "Model: \"sequential_3\"\n",
            "_________________________________________________________________\n",
            " Layer (type)                Output Shape              Param #   \n",
            "=================================================================\n",
            " reshape_6 (Reshape)         (None, 394, 1)            0         \n",
            "                                                                 \n",
            " conv1d_6 (Conv1D)           (None, 392, 16)           64        \n",
            "                                                                 \n",
            " conv1d_7 (Conv1D)           (None, 390, 32)           1568      \n",
            "                                                                 \n",
            " max_pooling1d_3 (MaxPooling  (None, 195, 32)          0         \n",
            " 1D)                                                             \n",
            "                                                                 \n",
            " flatten_3 (Flatten)         (None, 6240)              0         \n",
            "                                                                 \n",
            " dense_8 (Dense)             (None, 64)                399424    \n",
            "                                                                 \n",
            " dense_9 (Dense)             (None, 32)                2080      \n",
            "                                                                 \n",
            " reshape_7 (Reshape)         (None, 4, 8)              0         \n",
            "                                                                 \n",
            " lstm_4 (LSTM)               (None, 4, 8)              544       \n",
            "                                                                 \n",
            " lstm_5 (LSTM)               (None, 8)                 544       \n",
            "                                                                 \n",
            " dense_10 (Dense)            (None, 1)                 9         \n",
            "                                                                 \n",
            "=================================================================\n",
            "Total params: 404,233\n",
            "Trainable params: 404,233\n",
            "Non-trainable params: 0\n",
            "_________________________________________________________________\n"
          ]
        }
      ]
    },
    {
      "cell_type": "code",
      "source": [
        "model.compile(loss='mse', optimizer='adam')\n",
        "history = model.fit(X_train, Y_train, epochs=100, batch_size=1)"
      ],
      "metadata": {
        "colab": {
          "base_uri": "https://localhost:8080/"
        },
        "id": "oGnyTy-gWfhp",
        "outputId": "1858dbb9-8a41-4e2a-d74a-4810aa35e08a"
      },
      "execution_count": null,
      "outputs": [
        {
          "output_type": "stream",
          "name": "stdout",
          "text": [
            "Epoch 1/10\n",
            "1499/1499 [==============================] - 23s 10ms/step - loss: 0.0086\n",
            "Epoch 2/10\n",
            "1499/1499 [==============================] - 14s 9ms/step - loss: 0.0027\n",
            "Epoch 3/10\n",
            "1499/1499 [==============================] - 12s 8ms/step - loss: 0.0022\n",
            "Epoch 4/10\n",
            "1499/1499 [==============================] - 12s 8ms/step - loss: 0.0020\n",
            "Epoch 5/10\n",
            "1499/1499 [==============================] - 12s 8ms/step - loss: 0.0018\n",
            "Epoch 6/10\n",
            "1499/1499 [==============================] - 11s 8ms/step - loss: 0.0016\n",
            "Epoch 7/10\n",
            "1499/1499 [==============================] - 11s 8ms/step - loss: 0.0016\n",
            "Epoch 8/10\n",
            "1499/1499 [==============================] - 13s 9ms/step - loss: 0.0013\n",
            "Epoch 9/10\n",
            "1499/1499 [==============================] - 15s 10ms/step - loss: 0.0013\n",
            "Epoch 10/10\n",
            "1499/1499 [==============================] - 18s 12ms/step - loss: 0.0012\n"
          ]
        }
      ]
    },
    {
      "cell_type": "code",
      "source": [
        "plt.plot(history.history[\"loss\"])\n",
        "plt.ylabel(\"Error\")\n",
        "plt.xlabel(\"Epoch\")\n",
        "plt.title(\"Loss vs Epochs\");"
      ],
      "metadata": {
        "colab": {
          "base_uri": "https://localhost:8080/",
          "height": 295
        },
        "id": "D_XTkt61Wrs1",
        "outputId": "f6eea561-7bc2-456b-f074-34258e6d8dd1"
      },
      "execution_count": null,
      "outputs": [
        {
          "output_type": "display_data",
          "data": {
            "text/plain": [
              "<Figure size 432x288 with 1 Axes>"
            ],
            "image/png": "[encoded data removed]"
          },
          "metadata": {}
        }
      ]
    },
    {
      "cell_type": "code",
      "source": [
        ""
      ],
      "metadata": {
        "id": "7rqCnJf0XO0y"
      },
      "execution_count": null,
      "outputs": []
    },
    {
      "cell_type": "markdown",
      "source": [
        "### (b) Python Implementation  of  GRU  from Scratch (using NumPy)  for   Binary to  Deceimal  conversion. "
      ],
      "metadata": {
        "id": "bVO-k7gU05XH"
      }
    },
    {
      "cell_type": "code",
      "source": [
        "temp = [np.random.randint(1023) for i in range(5000)]\n",
        "x = np.array([[[int(j)] for j in '{0:010b}'.format(i)] for i in temp])\n",
        "y = np.array([[[int(j)] for j in '{0:04d}'.format(i)] for i in temp])"
      ],
      "metadata": {
        "id": "tuRmN6m009Kv"
      },
      "execution_count": null,
      "outputs": []
    },
    {
      "cell_type": "code",
      "source": [
        "print(x.shape,y.shape)"
      ],
      "metadata": {
        "colab": {
          "base_uri": "https://localhost:8080/"
        },
        "id": "wSsGUNd-2HHC",
        "outputId": "40c24a17-0e9f-40db-cc2d-eea88bf13fde"
      },
      "execution_count": null,
      "outputs": [
        {
          "output_type": "stream",
          "name": "stdout",
          "text": [
            "(5000, 10, 1) (5000, 4, 1)\n"
          ]
        }
      ]
    },
    {
      "cell_type": "code",
      "source": [
        "model = keras.models.Sequential()\n",
        "model.add(keras.layers.GRU(15, input_shape=(10,1),activation = 'tanh'))\n",
        "model.add(keras.layers.Dense(15))\n",
        "model.add(keras.layers.Dense(10))\n",
        "model.add(keras.layers.Dense(4))\n",
        "\n",
        "model.compile(loss='mean_squared_error', optimizer='adam')\n",
        "model.fit(x, y, epochs=50)"
      ],
      "metadata": {
        "colab": {
          "base_uri": "https://localhost:8080/"
        },
        "id": "KCIgI6xN2UeV",
        "outputId": "4f5aa6b1-7308-47b4-e040-b950cee284ff"
      },
      "execution_count": null,
      "outputs": [
        {
          "output_type": "stream",
          "name": "stdout",
          "text": [
            "Epoch 1/50\n",
            "157/157 [==============================] - 4s 7ms/step - loss: 10.2402\n",
            "Epoch 2/50\n",
            "157/157 [==============================] - 1s 8ms/step - loss: 6.1409\n",
            "Epoch 3/50\n",
            "157/157 [==============================] - 1s 7ms/step - loss: 5.8122\n",
            "Epoch 4/50\n",
            "157/157 [==============================] - 1s 7ms/step - loss: 4.9820\n",
            "Epoch 5/50\n",
            "157/157 [==============================] - 1s 8ms/step - loss: 4.5869\n",
            "Epoch 6/50\n",
            "157/157 [==============================] - 1s 7ms/step - loss: 4.5398\n",
            "Epoch 7/50\n",
            "157/157 [==============================] - 1s 7ms/step - loss: 4.5190\n",
            "Epoch 8/50\n",
            "157/157 [==============================] - 1s 7ms/step - loss: 4.5037\n",
            "Epoch 9/50\n",
            "157/157 [==============================] - 1s 8ms/step - loss: 4.5030\n",
            "Epoch 10/50\n",
            "157/157 [==============================] - 1s 7ms/step - loss: 4.5056\n",
            "Epoch 11/50\n",
            "157/157 [==============================] - 1s 8ms/step - loss: 4.4907\n",
            "Epoch 12/50\n",
            "157/157 [==============================] - 1s 8ms/step - loss: 4.4854\n",
            "Epoch 13/50\n",
            "157/157 [==============================] - 1s 8ms/step - loss: 4.4900\n",
            "Epoch 14/50\n",
            "157/157 [==============================] - 1s 8ms/step - loss: 4.4916\n",
            "Epoch 15/50\n",
            "157/157 [==============================] - 1s 7ms/step - loss: 4.4764\n",
            "Epoch 16/50\n",
            "157/157 [==============================] - 1s 7ms/step - loss: 4.4823\n",
            "Epoch 17/50\n",
            "157/157 [==============================] - 1s 8ms/step - loss: 4.4656\n",
            "Epoch 18/50\n",
            "157/157 [==============================] - 1s 8ms/step - loss: 4.4687\n",
            "Epoch 19/50\n",
            "157/157 [==============================] - 1s 7ms/step - loss: 4.4673\n",
            "Epoch 20/50\n",
            "157/157 [==============================] - 1s 7ms/step - loss: 4.4580\n",
            "Epoch 21/50\n",
            "157/157 [==============================] - 1s 8ms/step - loss: 4.4669\n",
            "Epoch 22/50\n",
            "157/157 [==============================] - 1s 8ms/step - loss: 4.4546\n",
            "Epoch 23/50\n",
            "157/157 [==============================] - 1s 8ms/step - loss: 4.4496\n",
            "Epoch 24/50\n",
            "157/157 [==============================] - 1s 8ms/step - loss: 4.4502\n",
            "Epoch 25/50\n",
            "157/157 [==============================] - 1s 8ms/step - loss: 4.4509\n",
            "Epoch 26/50\n",
            "157/157 [==============================] - 1s 7ms/step - loss: 4.4344\n",
            "Epoch 27/50\n",
            "157/157 [==============================] - 1s 8ms/step - loss: 4.4480\n",
            "Epoch 28/50\n",
            "157/157 [==============================] - 1s 8ms/step - loss: 4.4290\n",
            "Epoch 29/50\n",
            "157/157 [==============================] - 1s 7ms/step - loss: 4.4278\n",
            "Epoch 30/50\n",
            "157/157 [==============================] - 1s 7ms/step - loss: 4.4166\n",
            "Epoch 31/50\n",
            "157/157 [==============================] - 1s 8ms/step - loss: 4.4205\n",
            "Epoch 32/50\n",
            "157/157 [==============================] - 1s 7ms/step - loss: 4.4098\n",
            "Epoch 33/50\n",
            "157/157 [==============================] - 1s 8ms/step - loss: 4.4032\n",
            "Epoch 34/50\n",
            "157/157 [==============================] - 1s 8ms/step - loss: 4.3992\n",
            "Epoch 35/50\n",
            "157/157 [==============================] - 1s 8ms/step - loss: 4.4041\n",
            "Epoch 36/50\n",
            "157/157 [==============================] - 1s 8ms/step - loss: 4.4086\n",
            "Epoch 37/50\n",
            "157/157 [==============================] - 1s 7ms/step - loss: 4.3794\n",
            "Epoch 38/50\n",
            "157/157 [==============================] - 1s 8ms/step - loss: 4.3861\n",
            "Epoch 39/50\n",
            "157/157 [==============================] - 1s 8ms/step - loss: 4.3724\n",
            "Epoch 40/50\n",
            "157/157 [==============================] - 1s 8ms/step - loss: 4.3666\n",
            "Epoch 41/50\n",
            "157/157 [==============================] - 1s 7ms/step - loss: 4.3664\n",
            "Epoch 42/50\n",
            "157/157 [==============================] - 1s 8ms/step - loss: 4.3607\n",
            "Epoch 43/50\n",
            "157/157 [==============================] - 1s 8ms/step - loss: 4.3598\n",
            "Epoch 44/50\n",
            "157/157 [==============================] - 1s 7ms/step - loss: 4.3526\n",
            "Epoch 45/50\n",
            "157/157 [==============================] - 1s 8ms/step - loss: 4.3608\n",
            "Epoch 46/50\n",
            "157/157 [==============================] - 1s 8ms/step - loss: 4.3649\n",
            "Epoch 47/50\n",
            "157/157 [==============================] - 1s 7ms/step - loss: 4.3501\n",
            "Epoch 48/50\n",
            "157/157 [==============================] - 1s 8ms/step - loss: 4.3526\n",
            "Epoch 49/50\n",
            "157/157 [==============================] - 1s 8ms/step - loss: 4.3439\n",
            "Epoch 50/50\n",
            "157/157 [==============================] - 1s 8ms/step - loss: 4.3421\n"
          ]
        },
        {
          "output_type": "execute_result",
          "data": {
            "text/plain": [
              "<keras.callbacks.History at 0x7fa6be588b10>"
            ]
          },
          "metadata": {},
          "execution_count": 9
        }
      ]
    },
    {
      "cell_type": "code",
      "source": [
        "test = np.array([[[0],[0],[0],[0],[0],[1],[0],[1],[1],[0]]])\n",
        "print(\"Binary: \",test)\n",
        "prediction = model.predict(test)\n",
        "print(\"Decimal: \",np.round(prediction[0]))"
      ],
      "metadata": {
        "colab": {
          "base_uri": "https://localhost:8080/"
        },
        "id": "4P2jYo3D3E_G",
        "outputId": "edefbc35-0235-47db-da27-01efe9373242"
      },
      "execution_count": null,
      "outputs": [
        {
          "output_type": "stream",
          "name": "stdout",
          "text": [
            "Binary:  [[[0]\n",
            "  [0]\n",
            "  [0]\n",
            "  [0]\n",
            "  [0]\n",
            "  [1]\n",
            "  [0]\n",
            "  [1]\n",
            "  [1]\n",
            "  [0]]]\n",
            "Decimal:  [0. 0. 2. 4.]\n"
          ]
        }
      ]
    },
    {
      "cell_type": "code",
      "source": [
        ""
      ],
      "metadata": {
        "id": "E47vtfUXLRVG"
      },
      "execution_count": null,
      "outputs": []
    }
  ]
}