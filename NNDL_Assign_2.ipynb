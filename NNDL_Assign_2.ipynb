{
  "nbformat": 4,
  "nbformat_minor": 0,
  "metadata": {
    "colab": {
      "name": "Untitled1.ipynb",
      "provenance": [],
      "collapsed_sections": []
    },
    "kernelspec": {
      "name": "python3",
      "display_name": "Python 3"
    },
    "language_info": {
      "name": "python"
    }
  },
  "cells": [
    {
      "cell_type": "markdown",
      "source": [
        "# NNDL Assignment-2\n",
        "** Submitted by **\n",
        "# Mocharla Nishanth Maurya 191EC226\n"
      ],
      "metadata": {
        "id": "D38_rR4Pdlrq"
      }
    },
    {
      "cell_type": "markdown",
      "source": [
        "Q.1. Write python code from scratch for simple Linear Regression problem, the following training\n",
        "data are given.\n",
        "## X = [2, 2.5, 3, 3.5, 4, 4.5, 5, 5.5, 6]\n",
        "##Y = [5.1, 6.1, 6.9, 7.8, 9.2, 9.9, 11.5, 12, 12.8]\n",
        "The model Y as a linear function of X (a) Use batch gradient descent learning algorithm to learn\n",
        "model parameters for α = 0.01 choose random values of weights and bias and epochs=1000. Use\n",
        "MSE as loss function with an appropriate convergence criterion. (b) Plot cost function (J) for the\n",
        "learning duration (c) plot the regression line (d) repeat (b) to (c) for stochastic gradient descent and\n",
        "Adam optimization algorithm "
      ],
      "metadata": {
        "id": "yxEWTL9gBcDE"
      }
    },
    {
      "cell_type": "code",
      "execution_count": 144,
      "metadata": {
        "id": "L67KowLnBRsF"
      },
      "outputs": [],
      "source": [
        "import numpy as np \n",
        "import matplotlib.pyplot as plt \n",
        "plt.style.use(\"ggplot\") \n",
        "%matplotlib inline "
      ]
    },
    {
      "cell_type": "code",
      "source": [
        "def MSE(y,y_hat):\n",
        "  return np.sum((y-y_hat)**2)/len(y)"
      ],
      "metadata": {
        "id": "pWV5pIx5Crtb"
      },
      "execution_count": 145,
      "outputs": []
    },
    {
      "cell_type": "code",
      "source": [
        "inputs = np.array([2, 2.5, 3, 3.5, 4, 4.5, 5, 5.5, 6])\n",
        "inputs = np.expand_dims(inputs, -1) \n",
        "X = np.append(np.ones(inputs.shape), inputs, axis = 1)\n",
        "Y = np.array([5.1, 6.1, 6.9, 7.8, 9.2, 9.9, 11.5, 12, 12.8])\n",
        "Y = np.expand_dims(Y, -1)\n",
        "\n",
        "lr = 0.01\n",
        "epochs = 1000\n",
        "\n",
        "W = np.random.randn(2, 1)         "
      ],
      "metadata": {
        "id": "j3S9kKPhDHl3"
      },
      "execution_count": 146,
      "outputs": []
    },
    {
      "cell_type": "code",
      "source": [
        "Y"
      ],
      "metadata": {
        "colab": {
          "base_uri": "https://localhost:8080/"
        },
        "id": "VvwAoYojDlIx",
        "outputId": "5d6ccd12-c914-4166-f59e-193c993525aa"
      },
      "execution_count": 147,
      "outputs": [
        {
          "output_type": "execute_result",
          "data": {
            "text/plain": [
              "array([[ 5.1],\n",
              "       [ 6.1],\n",
              "       [ 6.9],\n",
              "       [ 7.8],\n",
              "       [ 9.2],\n",
              "       [ 9.9],\n",
              "       [11.5],\n",
              "       [12. ],\n",
              "       [12.8]])"
            ]
          },
          "metadata": {},
          "execution_count": 147
        }
      ]
    },
    {
      "cell_type": "code",
      "source": [
        "X.dot(W)"
      ],
      "metadata": {
        "colab": {
          "base_uri": "https://localhost:8080/"
        },
        "id": "7UAsg_h2D5cR",
        "outputId": "50d28487-ed12-459c-8fd9-5637b578aaad"
      },
      "execution_count": 148,
      "outputs": [
        {
          "output_type": "execute_result",
          "data": {
            "text/plain": [
              "array([[-0.66309812],\n",
              "       [-0.95635682],\n",
              "       [-1.24961552],\n",
              "       [-1.54287422],\n",
              "       [-1.83613292],\n",
              "       [-2.12939162],\n",
              "       [-2.42265032],\n",
              "       [-2.71590902],\n",
              "       [-3.00916772]])"
            ]
          },
          "metadata": {},
          "execution_count": 148
        }
      ]
    },
    {
      "cell_type": "code",
      "source": [
        "def gradient_descent(X, Y, W, lr):\n",
        "    Y_hat = X.dot(W) \n",
        "    J = MSE(Y, Y_hat)\n",
        "    n = len(X) \n",
        "    dW = (2/n)*X.T.dot(Y - Y_hat)\n",
        "\n",
        "    W += lr*dW \n",
        "    return W, J"
      ],
      "metadata": {
        "id": "V-3-27lEEAra"
      },
      "execution_count": 149,
      "outputs": []
    },
    {
      "cell_type": "code",
      "source": [
        "\n",
        "lossHist_gradient_descent = [] \n",
        "weightHist_gradient_descent = []\n",
        "for epoch in range(epochs): \n",
        "    W, J = gradient_descent(X, Y, W, lr) \n",
        "    lossHist_gradient_descent.append(J) \n",
        "    weightHist_gradient_descent.append(W.copy())"
      ],
      "metadata": {
        "id": "fNXNSxxPEbRL"
      },
      "execution_count": 150,
      "outputs": []
    },
    {
      "cell_type": "code",
      "source": [
        "\n",
        "\n",
        "plt.plot(lossHist_gradient_descent)"
      ],
      "metadata": {
        "colab": {
          "base_uri": "https://localhost:8080/",
          "height": 282
        },
        "id": "KsD1-cvyEplz",
        "outputId": "31a1d952-f9ce-4461-aedc-4146364757a7"
      },
      "execution_count": 151,
      "outputs": [
        {
          "output_type": "execute_result",
          "data": {
            "text/plain": [
              "[<matplotlib.lines.Line2D at 0x7f8194bf5c10>]"
            ]
          },
          "metadata": {},
          "execution_count": 151
        },
        {
          "output_type": "display_data",
          "data": {
            "image/png": "[encoded data removed]",
            "text/plain": [
              "<Figure size 432x288 with 1 Axes>"
            ]
          },
          "metadata": {
            "needs_background": "light"
          }
        }
      ]
    },
    {
      "cell_type": "code",
      "source": [
        "\n",
        "\n",
        "\n",
        "\n",
        "\n",
        "\n",
        "\n",
        "\n",
        "\n",
        "\n",
        "\n",
        "\n",
        "\n",
        "plt.scatter(inputs, Y) \n",
        "plt.plot(inputs, X.dot(W)) \n",
        "plt.show()"
      ],
      "metadata": {
        "colab": {
          "base_uri": "https://localhost:8080/",
          "height": 265
        },
        "id": "V3sYo4YnE8pV",
        "outputId": "edccb65a-7e55-461b-e75f-92744b428366"
      },
      "execution_count": 152,
      "outputs": [
        {
          "output_type": "display_data",
          "data": {
            "image/png": "[encoded data removed]",
            "text/plain": [
              "<Figure size 432x288 with 1 Axes>"
            ]
          },
          "metadata": {
            "needs_background": "light"
          }
        }
      ]
    },
    {
      "cell_type": "code",
      "source": [
        "adam_params = {\n",
        "    \"S_dW\" : np.zeros(W.shape), \n",
        "    \"V_dW\" : np.zeros(W.shape), \n",
        "    \"beta_1\" : 0.9, \n",
        "    \"beta_2\": 0.999, \n",
        "    \"epsilon\" : 10e-8 \n",
        "}\n",
        "\n",
        "def adam_gd(X, Y, W, adam_params, lr): \n",
        "    \n",
        "    n = len(X)\n",
        "\n",
        "    S_dW = adam_params[\"S_dW\"]\n",
        "    V_dW = adam_params[\"V_dW\"] \n",
        "    beta_1 = adam_params[\"beta_1\"]\n",
        "    beta_2 = adam_params[\"beta_2\"] \n",
        "    eps = adam_params[\"epsilon\"] \n",
        "\n",
        "    n = len(X) \n",
        "    dW = (2/n)*X.T.dot(Y - X.dot(W))\n",
        "    \n",
        "    V_dW = beta_1*V_dW + (1-beta_1)*dW \n",
        "    S_dW = beta_2*S_dW + (1-beta_2)*np.square(dW) \n",
        "    \n",
        "    W += lr*V_dW/(np.sqrt(S_dW) + eps) \n",
        "\n",
        "    Y_hat = X.dot(W) \n",
        "    J = MSE(Y, Y_hat)\n",
        "\n",
        "    adam_params[\"S_dW\"] = S_dW \n",
        "    adam_params[\"V_dW\"] = V_dW\n",
        "\n",
        "    return W, J, adam_params\n",
        "\n",
        "\n",
        "def stochastic_gradient_descent(X, Y, W, lr): \n",
        "    n = len(X) \n",
        "    shuffle_n = np.random.permutation(n)\n",
        "    dW = np.zeros(W.shape) \n",
        "\n",
        "    for i in shuffle_n: \n",
        "        x = np.expand_dims(X[i].copy(), -1)\n",
        "        y_hat = x.T.dot(W)    \n",
        "        dW = -x.dot(Y[i] - y_hat)*2/n \n",
        "        W -= lr*dW \n",
        "\n",
        "    J = MSE(Y, X.dot(W)) \n",
        "    # n = len(X) \n",
        "    return W, J"
      ],
      "metadata": {
        "id": "LeRrKqsYFfgA"
      },
      "execution_count": 153,
      "outputs": []
    },
    {
      "cell_type": "code",
      "source": [
        "W_sgd = np.random.randn(2, 1)\n",
        "lossHist_sgd = [] \n",
        "weightHist_sgd = []\n",
        "for epoch in range(epochs): \n",
        "    W_sgd, J= stochastic_gradient_descent(X, Y, W_sgd, lr) \n",
        "    lossHist_sgd.append(J) \n",
        "    weightHist_sgd.append(W_sgd.copy())\n",
        "\n",
        "\n",
        "W_adam_gd = np.random.randn(2, 1) \n",
        "lossHist_adam = []\n",
        "weightHist_adam = [] \n",
        "for epoch in range(epochs):\n",
        "    W_adam_gd, j, adam_params = adam_gd(X, Y, W_adam_gd, adam_params, lr) \n",
        "    lossHist_adam.append(j) \n",
        "    weightHist_adam.append(W_adam_gd.copy())\n"
      ],
      "metadata": {
        "id": "hX2BgI7NFsbo"
      },
      "execution_count": 154,
      "outputs": []
    },
    {
      "cell_type": "code",
      "source": [
        "plt.figure(figsize = (10, 10))\n",
        "plt.plot(lossHist_sgd[:100], label = \"SGD\")\n",
        "plt.plot(lossHist_gradient_descent[:100], label = \"GD\")\n",
        "plt.plot(lossHist_adam[:100], label = \"Adam\")\n",
        "plt.legend()\n",
        "plt.show()\n"
      ],
      "metadata": {
        "colab": {
          "base_uri": "https://localhost:8080/",
          "height": 592
        },
        "id": "N03_oIn0FwN0",
        "outputId": "573ad46f-cadd-4f74-e6f3-b319db945722"
      },
      "execution_count": 155,
      "outputs": [
        {
          "output_type": "display_data",
          "data": {
            "image/png": "[encoded data removed]",
            "text/plain": [
              "<Figure size 720x720 with 1 Axes>"
            ]
          },
          "metadata": {
            "needs_background": "light"
          }
        }
      ]
    },
    {
      "cell_type": "markdown",
      "source": [
        "Q.2. The neural network shown in Fig.1 has the following hyper parameters and input: Choose\n",
        "random weights and bias of the neuron and learning rate =0.01 and inputs to the neuron and target\n",
        "values are as follows. "
      ],
      "metadata": {
        "id": "wRoKyWHqGmeu"
      }
    },
    {
      "cell_type": "markdown",
      "source": [
        "(a).Write a python code for predicted the output of neural network for given set of inputs using\n",
        "Stochastic Gradient Descent algorithm for the loss functions: \n",
        "((i) Mean Square Error \n",
        "(ii) Squared Epsilon Hinge Loss (b) Plot comparative loss curve (c) repeat(a) and Adam optimization\n",
        "algorithm "
      ],
      "metadata": {
        "id": "zLcZ2DGNGpOZ"
      }
    },
    {
      "cell_type": "code",
      "source": [
        "X = np.array([[1, 4, 1], [1, 2, 8], [1, 1, 0], [1, 3, 2], [1, 1, 4], [1, 6, 7]])            \n",
        "Y = np.array([2, -14, 1, -1, -7, -8]) \n",
        "Y = np.expand_dims(Y, -1) \n",
        "\n",
        "W = np.random.randn(3, 1) \n",
        "lr = 0.01"
      ],
      "metadata": {
        "id": "C3pr1CCBHKuJ"
      },
      "execution_count": 156,
      "outputs": []
    },
    {
      "cell_type": "code",
      "source": [
        "def init_params(shape):\n",
        "    return {\n",
        "        \"S_dW\" : np.zeros(shape), \n",
        "        \"V_dW\" : np.zeros(shape), \n",
        "        \"beta_1\" : 0.9, \n",
        "        \"beta_2\": 0.999, \n",
        "        \"epsilon\" : 10e-8 \n",
        "    }"
      ],
      "metadata": {
        "id": "w4nPPiUAHcfp"
      },
      "execution_count": 157,
      "outputs": []
    },
    {
      "cell_type": "code",
      "source": [
        "def SGD_MSE(X, Y, W, lr):\n",
        "    n = len(X) \n",
        "    shuffle_n = np.random.permutation(n)\n",
        "    dW = np.zeros(W.shape) \n",
        "\n",
        "    for i in shuffle_n: \n",
        "        x = np.expand_dims(X[i].copy(), -1)\n",
        "        y_hat = x.T.dot(W)    \n",
        "        dW = -x.dot(Y[i] - y_hat)*2/n \n",
        "        W -= lr*dW \n",
        "\n",
        "    J = MSE(Y, X.dot(W)) \n",
        "    # n = len(X) \n",
        "    return W, J \n",
        "\n",
        "def SGD_MSE_Adam(X, Y, W, adam_params, lr): \n",
        "    n = len(X)\n",
        "\n",
        "    S_dW = adam_params[\"S_dW\"]\n",
        "    V_dW = adam_params[\"V_dW\"] \n",
        "    beta_1 = adam_params[\"beta_1\"]\n",
        "    beta_2 = adam_params[\"beta_2\"] \n",
        "    eps = adam_params[\"epsilon\"] \n",
        "\n",
        "    shuffle_n = np.random.permutation(n) \n",
        "    dW = np.zeros(W.shape) \n",
        "\n",
        "    for i in shuffle_n: \n",
        "        x = np.expand_dims(X[i].copy(), -1) \n",
        "        y_hat = x.T.dot(W) \n",
        "        dW -= x.dot(Y[i] - y_hat)*2/n \n",
        "\n",
        "        V_dW = beta_1*V_dW + (1-beta_1)*dW \n",
        "        S_dW = beta_2*S_dW + (1-beta_2)*np.square(dW) \n",
        "\n",
        "        W -= lr*V_dW/(np.sqrt(S_dW) + eps) \n",
        "\n",
        "    Y_hat = X.dot(W) \n",
        "    J = MSE(Y, Y_hat)\n",
        "\n",
        "    adam_params[\"S_dW\"] = S_dW \n",
        "    adam_params[\"V_dW\"] = V_dW\n",
        "\n",
        "    return W, J, adam_params"
      ],
      "metadata": {
        "id": "DQYO-qZaHfD2"
      },
      "execution_count": 158,
      "outputs": []
    },
    {
      "cell_type": "code",
      "source": [
        "epochs = 500\n",
        "\n",
        "W_sgd = np.random.randn(3, 1)\n",
        "lossHist_sgd = [] \n",
        "weightHist_sgd = []\n",
        "for epoch in range(epochs): \n",
        "    W_sgd, J= SGD_MSE(X, Y, W_sgd, lr) \n",
        "    lossHist_sgd.append(J) \n",
        "    weightHist_sgd.append(W_sgd.copy())\n",
        "\n",
        "\n",
        "W_adam = np.random.randn(3, 1)\n",
        "adam_params = init_params(W_adam.shape) \n",
        "\n",
        "lossHist_adam = []\n",
        "weightHist_adam = [] \n",
        "for epoch in range(epochs):\n",
        "    W_adam, j, adam_params = SGD_MSE_Adam(X, Y, W_adam, adam_params, lr) \n",
        "    lossHist_adam.append(j) \n",
        "    weightHist_adam.append(W_adam.copy())"
      ],
      "metadata": {
        "id": "gmGqYowhHmmO"
      },
      "execution_count": 159,
      "outputs": []
    },
    {
      "cell_type": "code",
      "source": [
        "plt.figure(figsize = (10, 10))\n",
        "plt.plot(lossHist_sgd, label = \"Vanilla SGD\")\n",
        "plt.plot(lossHist_adam, label = \"Adam SGD\")\n",
        "plt.legend()\n",
        "plt.show()"
      ],
      "metadata": {
        "colab": {
          "base_uri": "https://localhost:8080/",
          "height": 592
        },
        "id": "SK7vSPQ7HrtQ",
        "outputId": "7091ba4e-a76f-41fd-e214-55965d319206"
      },
      "execution_count": 160,
      "outputs": [
        {
          "output_type": "display_data",
          "data": {
            "image/png": "[encoded data removed]",
            "text/plain": [
              "<Figure size 720x720 with 1 Axes>"
            ]
          },
          "metadata": {
            "needs_background": "light"
          }
        }
      ]
    },
    {
      "cell_type": "markdown",
      "source": [
        "Q 3. A group of 20 students studied 0 to 6 hours for the exam. Some passed and others failed. Results\n",
        "are given below \n",
        "\n",
        "\n",
        "| Student | Hours studied - x | Result (0 – fail, 1 – pass) - y | \n",
        "| - | --- | --- | \n",
        "| 1 | 0.5 | 0 | \n",
        "| 2 | 0.75 | 0 | \n",
        "| 3 | 1.00 | 0 | \n",
        "| 4 | 1.25 | 0 | \n",
        "| 5 | 1.50 | 0 | \n",
        "| 6 | 1.75 | 0 | \n",
        "| 7 | 1.75 | 1 | \n",
        "| 8 | 2.00 | 0 | \n",
        "| 9 | 2.25 | 1 | \n",
        "| 10 | 2.50 | 0 | \n",
        "| 11 | 2.75 | 1 | \n",
        "| 12 | 3.00 | 0 | \n",
        "| 13 | 3.25 | 1 | \n",
        "| 14 | 3.50 | 0 | \n",
        "| 15 | 4.00 | 1 | \n",
        "| 16 | 4.25 | 1 | \n",
        "| 17 | 4.50 | 1 | \n",
        "| 18 | 4.75 | 1 | \n",
        "| 19 | 5.00 | 1 | \n",
        "| 20 | 5.50 | 1 | \n",
        "(a). Write python code for scratch to build neural network model to determine the optimal linear \n",
        "hypothesis using linear regression to predict if a student passes or not based on the number hours \n",
        "studied with the use for stochastic gradient descent and Adam optimization algorithm with model \n",
        "parameters for α = 0.01 choose random values of weights and bias and epochs=10000. Use \n",
        "appropriate regression loss function. \n",
        "(b). (i).Write python code from scratch to determine the optimal logistic hypothesis using logistic \n",
        "regression to predict if a student passes or not based on the number hours studied with the use for \n",
        "stochastic gradient descent with model parameters for α = 0.01 choose random values of weights and \n",
        "bias and epochs=400; Loss function: Binary Cross Entropy (BCE), Threshold value=0.5 (a) plot the \n",
        "cost function vs epoch (b) Predict pass or failed result of your designed model on random study hours\n",
        "enter by you. (ii) Repeat part (i) analysis with Dice Loss function. \n",
        "(iii) Repeat part (i) analysis with Adam optimization algorithm."
      ],
      "metadata": {
        "id": "c_pzqWOuIRfQ"
      }
    },
    {
      "cell_type": "code",
      "source": [
        "def sigmoid(x) :\n",
        "  return 1/(1+np.exp(-x))"
      ],
      "metadata": {
        "id": "y2dzus_ZJhn7"
      },
      "execution_count": 161,
      "outputs": []
    },
    {
      "cell_type": "code",
      "source": [
        "def d_sigmoid(x) :\n",
        "  return sigmoid(x)*(1-sigmoid(x))"
      ],
      "metadata": {
        "id": "Au9a1YA-KdYH"
      },
      "execution_count": 162,
      "outputs": []
    },
    {
      "cell_type": "code",
      "source": [
        "def init_params(shape):\n",
        "    return {\n",
        "        \"S_dW\" : np.zeros(shape), \n",
        "        \"V_dW\" : np.zeros(shape), \n",
        "        \"beta_1\" : 0.9, \n",
        "        \"beta_2\": 0.999, \n",
        "        \"epsilon\" : 10e-8 \n",
        "    }"
      ],
      "metadata": {
        "id": "9tGG7T1uJqqa"
      },
      "execution_count": 163,
      "outputs": []
    },
    {
      "cell_type": "code",
      "source": [
        "inputs = np.array([0.5, 0.75, 1.00, 1.25, 1.5, 1.75, 1.75, 2.00, 2.25, 2.5, 2.75, 3.00, 3.25, 3.5, 4.00, 4.25, 4.5, 4.75, 5.00, 5.50])\n",
        "\n",
        "X = np.append(np.ones((20, 1)), np.expand_dims(inputs, -1), axis = 1)\n",
        "Y = np.array([0, 0, 0, 0, 0, 0, 1, 0, 1, 0, 1, 0, 1, 0, 1, 1, 1, 1, 1, 1])\n",
        "Y = np.expand_dims(Y, -1) "
      ],
      "metadata": {
        "id": "eiUzWCq-Jz7G"
      },
      "execution_count": 164,
      "outputs": []
    },
    {
      "cell_type": "code",
      "source": [
        "epochs_a = 10000 \n",
        "lr = 0.01 "
      ],
      "metadata": {
        "id": "wMU05a3_J7cJ"
      },
      "execution_count": 165,
      "outputs": []
    },
    {
      "cell_type": "code",
      "source": [
        "def SGD_MSE_Adam(X, Y, W, adam_params, lr): \n",
        "    n = len(X)\n",
        "\n",
        "    S_dW = adam_params[\"S_dW\"]\n",
        "    V_dW = adam_params[\"V_dW\"] \n",
        "    beta_1 = adam_params[\"beta_1\"]\n",
        "    beta_2 = adam_params[\"beta_2\"] \n",
        "    eps = adam_params[\"epsilon\"] \n",
        "\n",
        "    shuffle_n = np.random.permutation(n) \n",
        "    dW = np.zeros(W.shape) \n",
        "\n",
        "    for i in shuffle_n: \n",
        "        x = np.expand_dims(X[i].copy(), -1) \n",
        "        y_hat = x.T.dot(W) \n",
        "        dW -= x.dot(Y[i] - y_hat)*2/n \n",
        "\n",
        "        V_dW = beta_1*V_dW + (1-beta_1)*dW \n",
        "        S_dW = beta_2*S_dW + (1-beta_2)*np.square(dW) \n",
        "\n",
        "        W -= lr*V_dW/(np.sqrt(S_dW) + eps) \n",
        "\n",
        "    Y_hat = X.dot(W) \n",
        "    J = MSE(Y, Y_hat)\n",
        "\n",
        "    adam_params[\"S_dW\"] = S_dW \n",
        "    adam_params[\"V_dW\"] = V_dW\n",
        "\n",
        "    return W, J, adam_params"
      ],
      "metadata": {
        "id": "vLQMJvdJLLlZ"
      },
      "execution_count": 166,
      "outputs": []
    },
    {
      "cell_type": "code",
      "source": [
        "from tqdm import tqdm, trange\n",
        "\n",
        "W_adam = np.random.randn(2, 1)\n",
        "adam_params = init_params(W_adam.shape) \n",
        "\n",
        "lossHist_adam = []\n",
        "weightHist_adam = [] \n",
        "for epoch in trange(epochs_a, ascii=False, desc=\"Training\", ncols=100):\n",
        "    W_adam, j, adam_params = SGD_MSE_Adam(X, Y, W_adam, adam_params, lr) \n",
        "    lossHist_adam.append(j) \n",
        "    weightHist_adam.append(W_adam.copy())"
      ],
      "metadata": {
        "colab": {
          "base_uri": "https://localhost:8080/"
        },
        "id": "xrvGpbggLQTv",
        "outputId": "5ab640da-5aa0-4dd5-ab9b-943c4c3d31c3"
      },
      "execution_count": 167,
      "outputs": [
        {
          "output_type": "stream",
          "name": "stderr",
          "text": [
            "Training: 100%|█████████████████████████████████████████████| 10000/10000 [00:06<00:00, 1652.64it/s]\n"
          ]
        }
      ]
    },
    {
      "cell_type": "code",
      "source": [
        "\n",
        "plt.plot(lossHist_adam)"
      ],
      "metadata": {
        "colab": {
          "base_uri": "https://localhost:8080/",
          "height": 282
        },
        "id": "LsUxYmmSLU5h",
        "outputId": "a0ec87dd-2361-482c-f193-4b788ba428ea"
      },
      "execution_count": 168,
      "outputs": [
        {
          "output_type": "execute_result",
          "data": {
            "text/plain": [
              "[<matplotlib.lines.Line2D at 0x7f8194ab8f10>]"
            ]
          },
          "metadata": {},
          "execution_count": 168
        },
        {
          "output_type": "display_data",
          "data": {
            "image/png": "[encoded data removed]",
            "text/plain": [
              "<Figure size 432x288 with 1 Axes>"
            ]
          },
          "metadata": {
            "needs_background": "light"
          }
        }
      ]
    },
    {
      "cell_type": "code",
      "source": [
        "Y_hat = sigmoid(X.dot(W_adam))\n",
        "d_sigmoid(Y_hat)"
      ],
      "metadata": {
        "colab": {
          "base_uri": "https://localhost:8080/"
        },
        "id": "pp0SfJt-LZzw",
        "outputId": "77238203-e8a5-468a-c092-9bb2f882a3d2"
      },
      "execution_count": 169,
      "outputs": [
        {
          "output_type": "execute_result",
          "data": {
            "text/plain": [
              "array([[0.23428683],\n",
              "       [0.2331141 ],\n",
              "       [0.23191162],\n",
              "       [0.23068456],\n",
              "       [0.22943835],\n",
              "       [0.22817856],\n",
              "       [0.22817856],\n",
              "       [0.22691086],\n",
              "       [0.22564088],\n",
              "       [0.22437412],\n",
              "       [0.22311589],\n",
              "       [0.22187121],\n",
              "       [0.22064476],\n",
              "       [0.21944085],\n",
              "       [0.21711559],\n",
              "       [0.21600061],\n",
              "       [0.21492084],\n",
              "       [0.21387831],\n",
              "       [0.21287458],\n",
              "       [0.21098773]])"
            ]
          },
          "metadata": {},
          "execution_count": 169
        }
      ]
    },
    {
      "cell_type": "code",
      "source": [
        "def binaryCrossEntropyLoss(y_true, y_pred):\n",
        "    if(type(y_true) != np.ndarray):\n",
        "        y_true = np.array(y_true) \n",
        "    if(type(y_pred) != np.ndarray):\n",
        "        y_pred = np.array(y_pred) \n",
        "    return -(y_true * np.log(y_pred) + (1-y_true)*np.log(1-y_pred)).mean()"
      ],
      "metadata": {
        "id": "KoPUvowbOW9u"
      },
      "execution_count": 170,
      "outputs": []
    },
    {
      "cell_type": "code",
      "source": [
        "epochs_b = 400\n",
        "\n",
        "def GD_BCE(X, Y, W, lr):\n",
        "    n = len(X) \n",
        "    Y_hat = sigmoid(X.dot(W)) \n",
        "\n",
        "    dW = X.T.dot(d_sigmoid(Y_hat)*(-Y/Y_hat + (1-Y)/(1-Y_hat))) \n",
        "    W -= lr*dW \n",
        "    J = binaryCrossEntropyLoss(Y, sigmoid(X.dot(W))) \n",
        "\n",
        "    return W, J "
      ],
      "metadata": {
        "id": "ro35qPseMmos"
      },
      "execution_count": 171,
      "outputs": []
    },
    {
      "cell_type": "code",
      "source": [
        "X.shape"
      ],
      "metadata": {
        "colab": {
          "base_uri": "https://localhost:8080/"
        },
        "id": "JeETnTlZM7Qq",
        "outputId": "8546a687-aa7a-47fe-99da-3ae03b42e19b"
      },
      "execution_count": 172,
      "outputs": [
        {
          "output_type": "execute_result",
          "data": {
            "text/plain": [
              "(20, 2)"
            ]
          },
          "metadata": {},
          "execution_count": 172
        }
      ]
    },
    {
      "cell_type": "code",
      "source": [
        "W_gd_bce = np.random.randn(2, 1)\n",
        "lossHist_gd_bce = [] \n",
        "weightHist_gd_bce = []\n",
        "for epoch in range(epochs_b): \n",
        "    W_gd_bce, J = GD_BCE(X, Y, W_gd_bce, lr) \n",
        "    lossHist_gd_bce.append(J) \n",
        "    weightHist_gd_bce.append(W_gd_bce.copy())"
      ],
      "metadata": {
        "id": "lVIsvRIFNAq9"
      },
      "execution_count": 175,
      "outputs": []
    },
    {
      "cell_type": "code",
      "source": [
        "plt.plot(lossHist_gd_bce)\n",
        "plt.show()"
      ],
      "metadata": {
        "colab": {
          "base_uri": "https://localhost:8080/",
          "height": 265
        },
        "id": "JWSfhu2UOkjH",
        "outputId": "be7f7378-1a48-4de5-84df-1087e9029f90"
      },
      "execution_count": 176,
      "outputs": [
        {
          "output_type": "display_data",
          "data": {
            "image/png": "[encoded data removed]",
            "text/plain": [
              "<Figure size 432x288 with 1 Axes>"
            ]
          },
          "metadata": {
            "needs_background": "light"
          }
        }
      ]
    },
    {
      "cell_type": "markdown",
      "source": [
        "Q.4. Build a model to recognize different handwritten digits from MNIST dataset by using multinomial logistic regression. Use of Adam optimization algorithm to learn model with parameters for α = 0.01, epoch = 40000 and random parameters of the model and Loss function: Softmax loss function.\n",
        "##(a) Plot the cost function vs epoch\n",
        "##(b) Predict the digit of your designed model on random test data enter by you\n",
        "##(c) print confusion matrix\n",
        "##(d) calculate classification metrics such as precision, recall, f1-score and accuracy"
      ],
      "metadata": {
        "id": "fzXg0DVpOyhG"
      }
    },
    {
      "cell_type": "code",
      "source": [
        "from sklearn.datasets import load_digits\n",
        "from sklearn.model_selection import train_test_split"
      ],
      "metadata": {
        "id": "cS9BFqkfPLjY"
      },
      "execution_count": 177,
      "outputs": []
    },
    {
      "cell_type": "code",
      "source": [
        "digits = load_digits()\n",
        "fig, ax = plt.subplots(2,5, figsize = (10, 5))\n",
        "ax[0,0].imshow(digits.images[0])\n",
        "ax[0,1].imshow(digits.images[1])\n",
        "ax[0,2].imshow(digits.images[2])\n",
        "ax[0,3].imshow(digits.images[3])\n",
        "ax[0,4].imshow(digits.images[4])\n",
        "ax[1,0].imshow(digits.images[5])\n",
        "ax[1,1].imshow(digits.images[6])\n",
        "ax[1,2].imshow(digits.images[7])\n",
        "ax[1,3].imshow(digits.images[8])\n",
        "ax[1,4].imshow(digits.images[9])\n",
        "plt.show();"
      ],
      "metadata": {
        "colab": {
          "base_uri": "https://localhost:8080/",
          "height": 292
        },
        "id": "hk6tjj8gPXw1",
        "outputId": "843574a2-df2b-444a-ea65-25ef0c4979cb"
      },
      "execution_count": 178,
      "outputs": [
        {
          "output_type": "display_data",
          "data": {
            "image/png": "[encoded data removed]",
            "text/plain": [
              "<Figure size 720x360 with 10 Axes>"
            ]
          },
          "metadata": {
            "needs_background": "light"
          }
        }
      ]
    },
    {
      "cell_type": "code",
      "source": [
        "lr = 0.01 \n",
        "epochs = 400 \n",
        "coi = 0 "
      ],
      "metadata": {
        "id": "M01PjhPiQXuK"
      },
      "execution_count": 179,
      "outputs": []
    },
    {
      "cell_type": "code",
      "source": [
        "class LogisticRegression():\n",
        "    \n",
        "    def set_values(self, initial_params, alpha=0.01, max_iter=5000, class_of_interest=0):\n",
        "        self.params = initial_params\n",
        "        self.alpha = alpha\n",
        "        self.max_iter = max_iter\n",
        "        self.class_of_interest = class_of_interest\n",
        "    \n",
        "    @staticmethod\n",
        "    def _sigmoid(x):\n",
        "        return 1.0 / (1.0 + np.exp(-x))\n",
        "    \n",
        "    def predict(self, x_bar, params):\n",
        "                \n",
        "        return self._sigmoid(np.dot(params, x_bar))\n",
        "    \n",
        "    def _compute_cost(self, input_var, output_var, params):\n",
        "        \n",
        "        cost = 0\n",
        "        for x, y in zip(input_var, output_var):\n",
        "            x_bar = np.array(np.insert(x, 0, 1))\n",
        "            y_hat = self.predict(x_bar, params)\n",
        "            \n",
        "            y_binary = 1.0 if y == self.class_of_interest else 0.0\n",
        "            cost += y_binary * np.log(y_hat) + (1.0 - y_binary) * np.log(1 - y_hat)\n",
        "            \n",
        "        return cost\n",
        "    \n",
        "    def train(self, input_var, label, print_iter = 5000):\n",
        "        \n",
        "        iteration = 1\n",
        "        while iteration < self.max_iter:\n",
        "            if iteration % print_iter == 0:\n",
        "                print(f'iteration: {iteration}')\n",
        "                print(f'cost: {self._compute_cost(input_var, label, self.params)}')\n",
        "            \n",
        "            for i, xy in enumerate(zip(input_var, label)):\n",
        "                x_bar = np.array(np.insert(xy[0], 0, 1))\n",
        "                y_hat = self.predict(x_bar, self.params)\n",
        "                \n",
        "                y_binary = 1.0 if xy[1] == self.class_of_interest else 0.0\n",
        "                gradient = (y_binary - y_hat) * x_bar\n",
        "                self.params += self.alpha * gradient\n",
        "            \n",
        "            iteration +=1\n",
        "        \n",
        "        return self.params\n",
        "\n",
        "    def test(self, input_test, label_test):\n",
        "        self.total_classifications = 0\n",
        "        self.correct_classifications = 0\n",
        "        \n",
        "        for x,y in zip(input_test, label_test):\n",
        "            self.total_classifications += 1\n",
        "            x_bar = np.array(np.insert(x, 0, 1))\n",
        "            y_hat = self.predict(x_bar, self.params)\n",
        "            y_binary = 1.0 if y == self.class_of_interest else 0.0\n",
        "            \n",
        "            if y_hat >= 0.5 and  y_binary == 1:\n",
        "                self.correct_classifications += 1\n",
        "              \n",
        "            if y_hat < 0.5 and  y_binary != 1:\n",
        "                self.correct_classifications += 1\n",
        "                \n",
        "        self.accuracy = self.correct_classifications / self.total_classifications\n",
        "            \n",
        "        return self.accuracy"
      ],
      "metadata": {
        "id": "sExUBiNbQY7g"
      },
      "execution_count": 180,
      "outputs": []
    },
    {
      "cell_type": "code",
      "source": [
        "digits_train, digits_test, digits_label_train, digits_label_test =train_test_split(digits.data, digits.target, test_size=0.20)"
      ],
      "metadata": {
        "id": "nNIjBTLWQepE"
      },
      "execution_count": 181,
      "outputs": []
    },
    {
      "cell_type": "code",
      "source": [
        "alpha = 1e-2\n",
        "params_0 = np.zeros(len(digits.data[0]) + 1)\n",
        "\n",
        "max_iter = 1000\n",
        "digits_regression_model_0 = LogisticRegression()\n",
        "digits_regression_model_0.set_values(params_0, alpha, max_iter, 0)\n",
        "\n",
        "params =\\\n",
        "digits_regression_model_0.train(digits_train / 16.0, digits_label_train, 10)"
      ],
      "metadata": {
        "colab": {
          "base_uri": "https://localhost:8080/"
        },
        "id": "x9AjEgcNQplm",
        "outputId": "a4204286-eced-4053-9f3e-d35406af37d6"
      },
      "execution_count": 182,
      "outputs": [
        {
          "output_type": "stream",
          "name": "stdout",
          "text": [
            "iteration: 10\n",
            "cost: -41.3979125216786\n",
            "iteration: 20\n",
            "cost: -25.865255194829558\n",
            "iteration: 30\n",
            "cost: -19.980016162822313\n",
            "iteration: 40\n",
            "cost: -16.697705636720713\n",
            "iteration: 50\n",
            "cost: -14.54217083912186\n",
            "iteration: 60\n",
            "cost: -12.99080692686724\n",
            "iteration: 70\n",
            "cost: -11.806579151500863\n",
            "iteration: 80\n",
            "cost: -10.864727707018412\n",
            "iteration: 90\n",
            "cost: -10.092649021108008\n",
            "iteration: 100\n",
            "cost: -9.444900112046154\n",
            "iteration: 110\n",
            "cost: -8.891416820110331\n",
            "iteration: 120\n",
            "cost: -8.411420634000738\n",
            "iteration: 130\n",
            "cost: -7.9900332557630485\n",
            "iteration: 140\n",
            "cost: -7.616284764724177\n",
            "iteration: 150\n",
            "cost: -7.281885435174325\n",
            "iteration: 160\n",
            "cost: -6.980438151025506\n",
            "iteration: 170\n",
            "cost: -6.706916253554588\n",
            "iteration: 180\n",
            "cost: -6.4573072938407545\n",
            "iteration: 190\n",
            "cost: -6.228363830886959\n",
            "iteration: 200\n",
            "cost: -6.017425242521364\n",
            "iteration: 210\n",
            "cost: -5.822287812484856\n",
            "iteration: 220\n",
            "cost: -5.641108358453788\n",
            "iteration: 230\n",
            "cost: -5.472331621283891\n",
            "iteration: 240\n",
            "cost: -5.314634784677082\n",
            "iteration: 250\n",
            "cost: -5.16688454204464\n",
            "iteration: 260\n",
            "cost: -5.028103486790497\n",
            "iteration: 270\n",
            "cost: -4.8974435220723835\n",
            "iteration: 280\n",
            "cost: -4.774164619331969\n",
            "iteration: 290\n",
            "cost: -4.65761769777866\n",
            "iteration: 300\n",
            "cost: -4.547230711329384\n",
            "iteration: 310\n",
            "cost: -4.4424972555976066\n",
            "iteration: 320\n",
            "cost: -4.342967172189337\n",
            "iteration: 330\n",
            "cost: -4.248238748884522\n",
            "iteration: 340\n",
            "cost: -4.157952204635193\n",
            "iteration: 350\n",
            "cost: -4.071784216274038\n",
            "iteration: 360\n",
            "cost: -3.98944329543381\n",
            "iteration: 370\n",
            "cost: -3.9106658637011407\n",
            "iteration: 380\n",
            "cost: -3.8352129045549193\n",
            "iteration: 390\n",
            "cost: -3.7628670943929543\n",
            "iteration: 400\n",
            "cost: -3.6934303335725804\n",
            "iteration: 410\n",
            "cost: -3.6267216130874425\n",
            "iteration: 420\n",
            "cost: -3.562575164177648\n",
            "iteration: 430\n",
            "cost: -3.5008388475026844\n",
            "iteration: 440\n",
            "cost: -3.441372746006512\n",
            "iteration: 450\n",
            "cost: -3.3840479316688423\n",
            "iteration: 460\n",
            "cost: -3.3287453812630017\n",
            "iteration: 470\n",
            "cost: -3.2753550202644175\n",
            "iteration: 480\n",
            "cost: -3.2237748773546415\n",
            "iteration: 490\n",
            "cost: -3.173910334687187\n",
            "iteration: 500\n",
            "cost: -3.125673461333093\n",
            "iteration: 510\n",
            "cost: -3.0789824191968687\n",
            "iteration: 520\n",
            "cost: -3.03376093225534\n",
            "iteration: 530\n",
            "cost: -2.9899378112807695\n",
            "iteration: 540\n",
            "cost: -2.9474465273103627\n",
            "iteration: 550\n",
            "cost: -2.906224828051493\n",
            "iteration: 560\n",
            "cost: -2.866214392199088\n",
            "iteration: 570\n",
            "cost: -2.8273605173083167\n",
            "iteration: 580\n",
            "cost: -2.789611837434017\n",
            "iteration: 590\n",
            "cost: -2.7529200672347716\n",
            "iteration: 600\n",
            "cost: -2.717239769655436\n",
            "iteration: 610\n",
            "cost: -2.682528144659654\n",
            "iteration: 620\n",
            "cost: -2.648744836792188\n",
            "iteration: 630\n",
            "cost: -2.615851759617347\n",
            "iteration: 640\n",
            "cost: -2.5838129353099597\n",
            "iteration: 650\n",
            "cost: -2.5525943478760698\n",
            "iteration: 660\n",
            "cost: -2.5221638086543776\n",
            "iteration: 670\n",
            "cost: -2.49249083290132\n",
            "iteration: 680\n",
            "cost: -2.463546526395889\n",
            "iteration: 690\n",
            "cost: -2.4353034811162906\n",
            "iteration: 700\n",
            "cost: -2.407735679142508\n",
            "iteration: 710\n",
            "cost: -2.380818404029025\n",
            "iteration: 720\n",
            "cost: -2.3545281589710667\n",
            "iteration: 730\n",
            "cost: -2.3288425911569637\n",
            "iteration: 740\n",
            "cost: -2.303740421761794\n",
            "iteration: 750\n",
            "cost: -2.2792013810918443\n",
            "iteration: 760\n",
            "cost: -2.255206148437958\n",
            "iteration: 770\n",
            "cost: -2.2317362962392067\n",
            "iteration: 780\n",
            "cost: -2.2087742381966367\n",
            "iteration: 790\n",
            "cost: -2.1863031810114006\n",
            "iteration: 800\n",
            "cost: -2.1643070794517523\n",
            "iteration: 810\n",
            "cost: -2.142770594481506\n",
            "iteration: 820\n",
            "cost: -2.1216790542063935\n",
            "iteration: 830\n",
            "cost: -2.1010184174172353\n",
            "iteration: 840\n",
            "cost: -2.0807752395286583\n",
            "iteration: 850\n",
            "cost: -2.0609366407294956\n",
            "iteration: 860\n",
            "cost: -2.0414902761776665\n",
            "iteration: 870\n",
            "cost: -2.0224243080862236\n",
            "iteration: 880\n",
            "cost: -2.0037273795607335\n",
            "iteration: 890\n",
            "cost: -1.985388590059731\n",
            "iteration: 900\n",
            "cost: -1.9673974723607748\n",
            "iteration: 910\n",
            "cost: -1.949743970924448\n",
            "iteration: 920\n",
            "cost: -1.9324184215572688\n",
            "iteration: 930\n",
            "cost: -1.9154115322825345\n",
            "iteration: 940\n",
            "cost: -1.8987143653352787\n",
            "iteration: 950\n",
            "cost: -1.8823183202046645\n",
            "iteration: 960\n",
            "cost: -1.8662151176521773\n",
            "iteration: 970\n",
            "cost: -1.8503967846405427\n",
            "iteration: 980\n",
            "cost: -1.8348556401126286\n",
            "iteration: 990\n",
            "cost: -1.819584281564482\n"
          ]
        }
      ]
    },
    {
      "cell_type": "code",
      "source": [
        "digits_accuracy = digits_regression_model_0.test(digits_test / 16.0, digits_label_test)\n",
        "print(f'Accuracy of prediciting a Zero digit in test set: {digits_accuracy}')"
      ],
      "metadata": {
        "colab": {
          "base_uri": "https://localhost:8080/"
        },
        "id": "2ZC-326cRAk9",
        "outputId": "ff47835c-54f6-4740-b1eb-49bf55739f32"
      },
      "execution_count": 184,
      "outputs": [
        {
          "output_type": "stream",
          "name": "stdout",
          "text": [
            "Accuracy of prediciting a Zero digit in test set: 0.9972222222222222\n"
          ]
        }
      ]
    },
    {
      "cell_type": "code",
      "source": [
        "alpha = 1e-2\n",
        "params_0 = np.zeros(len(digits.data[1]) + 1)\n",
        "\n",
        "max_iter = 1000\n",
        "digits_regression_model_1 = LogisticRegression()\n",
        "digits_regression_model_1.set_values(params_0, alpha, max_iter, 1)\n",
        "\n",
        "params =\\\n",
        "digits_regression_model_1.train(digits_train / 16.0, digits_label_train, 10)"
      ],
      "metadata": {
        "colab": {
          "base_uri": "https://localhost:8080/"
        },
        "id": "ovK3hg46REnZ",
        "outputId": "0bd50c51-2a50-4003-fc33-7ba25008a31f"
      },
      "execution_count": 185,
      "outputs": [
        {
          "output_type": "stream",
          "name": "stdout",
          "text": [
            "iteration: 10\n",
            "cost: -131.65869432257819\n",
            "iteration: 20\n",
            "cost: -104.50045402285023\n",
            "iteration: 30\n",
            "cost: -91.80925411627818\n",
            "iteration: 40\n",
            "cost: -83.74951124661392\n",
            "iteration: 50\n",
            "cost: -77.94419566640819\n",
            "iteration: 60\n",
            "cost: -73.45972864432946\n",
            "iteration: 70\n",
            "cost: -69.83626833504786\n",
            "iteration: 80\n",
            "cost: -66.81489655608289\n",
            "iteration: 90\n",
            "cost: -64.23617454824577\n",
            "iteration: 100\n",
            "cost: -61.995356732598225\n",
            "iteration: 110\n",
            "cost: -60.02015752719014\n",
            "iteration: 120\n",
            "cost: -58.25872222246071\n",
            "iteration: 130\n",
            "cost: -56.67267123090884\n",
            "iteration: 140\n",
            "cost: -55.232857733731734\n",
            "iteration: 150\n",
            "cost: -53.91666421006085\n",
            "iteration: 160\n",
            "cost: -52.70621511231122\n",
            "iteration: 170\n",
            "cost: -51.58715774849242\n",
            "iteration: 180\n",
            "cost: -50.54780815414278\n",
            "iteration: 190\n",
            "cost: -49.57853864475634\n",
            "iteration: 200\n",
            "cost: -48.67132969607012\n",
            "iteration: 210\n",
            "cost: -47.81943618828867\n",
            "iteration: 220\n",
            "cost: -47.01713489495709\n",
            "iteration: 230\n",
            "cost: -46.25953075128305\n",
            "iteration: 240\n",
            "cost: -45.542406346533774\n",
            "iteration: 250\n",
            "cost: -44.8621036688463\n",
            "iteration: 260\n",
            "cost: -44.215430234034926\n",
            "iteration: 270\n",
            "cost: -43.5995838700696\n",
            "iteration: 280\n",
            "cost: -43.01209192970108\n",
            "iteration: 290\n",
            "cost: -42.450761772396476\n",
            "iteration: 300\n",
            "cost: -41.913640128419864\n",
            "iteration: 310\n",
            "cost: -41.39897952225503\n",
            "iteration: 320\n",
            "cost: -40.905210350185264\n",
            "iteration: 330\n",
            "cost: -40.43091751922793\n",
            "iteration: 340\n",
            "cost: -39.97482079061787\n",
            "iteration: 350\n",
            "cost: -39.53575815098266\n",
            "iteration: 360\n",
            "cost: -39.11267167273283\n",
            "iteration: 370\n",
            "cost: -38.70459543245432\n",
            "iteration: 380\n",
            "cost: -38.31064513985183\n",
            "iteration: 390\n",
            "cost: -37.93000919565408\n",
            "iteration: 400\n",
            "cost: -37.56194094901261\n",
            "iteration: 410\n",
            "cost: -37.20575196642448\n",
            "iteration: 420\n",
            "cost: -36.86080615744225\n",
            "iteration: 430\n",
            "cost: -36.52651462918606\n",
            "iteration: 440\n",
            "cost: -36.20233116332306\n",
            "iteration: 450\n",
            "cost: -35.8877482267799\n",
            "iteration: 460\n",
            "cost: -35.58229344183867\n",
            "iteration: 470\n",
            "cost: -35.28552645306368\n",
            "iteration: 480\n",
            "cost: -34.9970361382258\n",
            "iteration: 490\n",
            "cost: -34.71643811844154\n",
            "iteration: 500\n",
            "cost: -34.44337252941657\n",
            "iteration: 510\n",
            "cost: -34.17750202126272\n",
            "iteration: 520\n",
            "cost: -33.918509959012\n",
            "iteration: 530\n",
            "cost: -33.666098799867704\n",
            "iteration: 540\n",
            "cost: -33.419988626533346\n",
            "iteration: 550\n",
            "cost: -33.17991581874739\n",
            "iteration: 560\n",
            "cost: -32.94563184751648\n",
            "iteration: 570\n",
            "cost: -32.71690217855665\n",
            "iteration: 580\n",
            "cost: -32.493505273167976\n",
            "iteration: 590\n",
            "cost: -32.275231676240544\n",
            "iteration: 600\n",
            "cost: -32.06188318235308\n",
            "iteration: 610\n",
            "cost: -31.853272072013972\n",
            "iteration: 620\n",
            "cost: -31.649220411033586\n",
            "iteration: 630\n",
            "cost: -31.449559406832297\n",
            "iteration: 640\n",
            "cost: -31.254128816191074\n",
            "iteration: 650\n",
            "cost: -31.06277639957255\n",
            "iteration: 660\n",
            "cost: -30.875357417670617\n",
            "iteration: 670\n",
            "cost: -30.691734166321258\n",
            "iteration: 680\n",
            "cost: -30.511775546315643\n",
            "iteration: 690\n",
            "cost: -30.335356665019866\n",
            "iteration: 700\n",
            "cost: -30.162358467024315\n",
            "iteration: 710\n",
            "cost: -29.99266739132506\n",
            "iteration: 720\n",
            "cost: -29.826175052791985\n",
            "iteration: 730\n",
            "cost: -29.662777945894867\n",
            "iteration: 740\n",
            "cost: -29.50237716885755\n",
            "iteration: 750\n",
            "cost: -29.344878166583246\n",
            "iteration: 760\n",
            "cost: -29.19019049085032\n",
            "iteration: 770\n",
            "cost: -29.03822757641394\n",
            "iteration: 780\n",
            "cost: -28.888906531778268\n",
            "iteration: 790\n",
            "cost: -28.742147943509806\n",
            "iteration: 800\n",
            "cost: -28.597875693065276\n",
            "iteration: 810\n",
            "cost: -28.45601678519843\n",
            "iteration: 820\n",
            "cost: -28.316501187085596\n",
            "iteration: 830\n",
            "cost: -28.179261677390432\n",
            "iteration: 840\n",
            "cost: -28.04423370454822\n",
            "iteration: 850\n",
            "cost: -27.91135525361157\n",
            "iteration: 860\n",
            "cost: -27.780566721053557\n",
            "iteration: 870\n",
            "cost: -27.65181079697509\n",
            "iteration: 880\n",
            "cost: -27.525032354202636\n",
            "iteration: 890\n",
            "cost: -27.400178343807863\n",
            "iteration: 900\n",
            "cost: -27.2771976966171\n",
            "iteration: 910\n",
            "cost: -27.156041230306855\n",
            "iteration: 920\n",
            "cost: -27.03666156172039\n",
            "iteration: 930\n",
            "cost: -26.919013024060593\n",
            "iteration: 940\n",
            "cost: -26.803051588645282\n",
            "iteration: 950\n",
            "cost: -26.688734790931555\n",
            "iteration: 960\n",
            "cost: -26.576021660538487\n",
            "iteration: 970\n",
            "cost: -26.464872655016844\n",
            "iteration: 980\n",
            "cost: -26.355249597132623\n",
            "iteration: 990\n",
            "cost: -26.24711561544635\n"
          ]
        }
      ]
    },
    {
      "cell_type": "code",
      "source": [
        "digits_accuracy = digits_regression_model_1.test(digits_test / 16.0, digits_label_test)\n",
        "print(f'Accuracy of prediciting a One digit in test set: {digits_accuracy}')"
      ],
      "metadata": {
        "colab": {
          "base_uri": "https://localhost:8080/"
        },
        "id": "SEUMRW1HRIIs",
        "outputId": "adc5038f-7770-4047-d651-3da58aa3879d"
      },
      "execution_count": 187,
      "outputs": [
        {
          "output_type": "stream",
          "name": "stdout",
          "text": [
            "Accuracy of prediciting a One digit in test set: 0.9722222222222222\n"
          ]
        }
      ]
    },
    {
      "cell_type": "markdown",
      "source": [
        "Q.5. Build a model to discriminate the red, green and blue points in 2-dimensional space shown below:\n",
        "##Here, 0=red, 1=green and 2= blue dots\n",
        "In other words, given a point in 2-dimensions, x=(x1, x2), predict output either red, green or blue by using multinomial logistic regression. (a) (i) Compare predicted results with ground truth using bar chat plot (ii) plot loss curve (iii) print confusion matrix (iv) calculate classification metrics such as precision, recall, f1-score and accuracy (v) Visualize classified data by Scatter plot. Use of gradient descent learning algorithm to learn model with parameters for α = 0.01, Softmax loss function and random parameters of the model. (b) repeat part (a) Use Stochastic gradient descent algorithm to learn model (c) repeat part (a) with use of Adam Optimization algorithm to learn model\n",
        "\n"
      ],
      "metadata": {
        "id": "mqLuRgqGRqqh"
      }
    },
    {
      "cell_type": "code",
      "source": [
        "\n",
        "from sklearn import metrics\n",
        "from sklearn.metrics import classification_report\n"
      ],
      "metadata": {
        "id": "nPN2c25jSDrF"
      },
      "execution_count": 188,
      "outputs": []
    },
    {
      "cell_type": "code",
      "source": [
        "X= np.array([[-0.1, 1.4],[-0.5, 0.2],[ 1.3, 0.9],[-0.6, 0.4],[-1.6, 0.2],[ 0.2, 0.2],[-0.3,-0.4],[ 0.7,-0.8],[ 1.1,-1.5],\n",
        "            [-1.0, 0.9],[-0.5, 1.5],[-1.3,-0.4],[-1.4,-1.2],[-0.9,-0.7],[ 0.4,-1.3],[-0.4, 0.6],[ 0.3,-0.5],[-1.6,-0.7],\n",
        "            [-0.5,-1.4],[-1.0,-1.4]])\n",
        "\n",
        "y= np.array ([0, 0, 1, 0, 2, 1, 1, 1, 1, 0, 0, 2, 2, 2, 1, 0, 1, 2, 2, 2])"
      ],
      "metadata": {
        "id": "dah1lI7YSJp5"
      },
      "execution_count": 189,
      "outputs": []
    },
    {
      "cell_type": "code",
      "source": [
        "class MultiClassLogisticRegression:\n",
        "    \n",
        "    def __init__(self, n_iter = 10000, thres=1e-3):\n",
        "        self.n_iter = n_iter\n",
        "        self.thres = thres\n",
        "    \n",
        "    def fit(self, X, y, batch_size=64, lr=0.01, rand_seed=4, verbose=False): \n",
        "        np.random.seed(rand_seed) \n",
        "        self.classes = np.unique(y)\n",
        "        self.class_labels = {c:i for i,c in enumerate(self.classes)}\n",
        "        X = self.add_bias(X)\n",
        "        y = self.one_hot(y)\n",
        "        self.loss = []\n",
        "        self.weights = np.zeros(shape=(len(self.classes),X.shape[1]))\n",
        "        self.fit_data(X, y, batch_size, lr, verbose)\n",
        "        return self\n",
        " \n",
        "    def fit_data(self, X, y, batch_size, lr, verbose):\n",
        "        i = 0\n",
        "        while (not self.n_iter or i < self.n_iter):\n",
        "            self.loss.append(self.cross_entropy(y, self.predict_(X)))\n",
        "            idx = np.random.choice(X.shape[0], batch_size)\n",
        "            X_batch, y_batch = X[idx], y[idx]\n",
        "            error = y_batch - self.predict_(X_batch)\n",
        "            update = (lr * np.dot(error.T, X_batch))\n",
        "            self.weights += update\n",
        "            if np.abs(update).max() < self.thres: break\n",
        "            if i % 1000 == 0 and verbose: \n",
        "                print(' Training Accuray at {} iterations is {}'.format(i, self.evaluate_(X, y)))\n",
        "            i +=1\n",
        "    \n",
        "    def predict(self, X):\n",
        "        return self.predict_(self.add_bias(X))\n",
        "    \n",
        "    def predict_(self, X):\n",
        "        pre_vals = np.dot(X, self.weights.T).reshape(-1,len(self.classes))\n",
        "        return self.softmax(pre_vals)\n",
        "    \n",
        "    def softmax(self, z):\n",
        "        return np.exp(z) / np.sum(np.exp(z), axis=1).reshape(-1,1)\n",
        "\n",
        "    def predict_classes(self, X):\n",
        "        self.probs_ = self.predict(X)\n",
        "        return np.vectorize(lambda c: self.classes[c])(np.argmax(self.probs_, axis=1))\n",
        "  \n",
        "    def add_bias(self,X):\n",
        "        return np.insert(X, 0, 1, axis=1)\n",
        "  \n",
        "    def get_randon_weights(self, row, col):\n",
        "        return np.zeros(shape=(row,col))\n",
        "\n",
        "    def one_hot(self, y):\n",
        "        return np.eye(len(self.classes))[np.vectorize(lambda c: self.class_labels[c])(y).reshape(-1)]\n",
        "    \n",
        "    def score(self, X, y):\n",
        "        return np.mean(self.predict_classes(X) == y)\n",
        "    \n",
        "    def evaluate_(self, X, y):\n",
        "        return np.mean(np.argmax(self.predict_(X), axis=1) == np.argmax(y, axis=1))\n",
        "    \n",
        "    def cross_entropy(self, y, probs):\n",
        "        return -1 * np.mean(y * np.log(probs))"
      ],
      "metadata": {
        "id": "6xj-bmD1SNzs"
      },
      "execution_count": 192,
      "outputs": []
    },
    {
      "cell_type": "code",
      "source": [
        "lreg = MultiClassLogisticRegression(thres=1e-3)\n",
        "classifier = lreg.fit(X,y,lr=0.0001)\n",
        "print(lreg.score(X, y))\n",
        "\n",
        "fig = plt.figure(figsize=(8,6))\n",
        "plt.plot(np.arange(len(lreg.loss)), lreg.loss)\n",
        "plt.title(\"Development of loss during training\")\n",
        "plt.xlabel(\"Number of iterations\")\n",
        "plt.ylabel(\"Loss\")\n",
        "plt.show()"
      ],
      "metadata": {
        "colab": {
          "base_uri": "https://localhost:8080/",
          "height": 426
        },
        "id": "YwEWw5KoSTDC",
        "outputId": "0f60dc3a-bace-4632-cecc-8847e0ddadd1"
      },
      "execution_count": 193,
      "outputs": [
        {
          "output_type": "stream",
          "name": "stdout",
          "text": [
            "0.95\n"
          ]
        },
        {
          "output_type": "display_data",
          "data": {
            "image/png": "[encoded data removed]",
            "text/plain": [
              "<Figure size 576x432 with 1 Axes>"
            ]
          },
          "metadata": {
            "needs_background": "light"
          }
        }
      ]
    },
    {
      "cell_type": "code",
      "source": [
        "print(y)\n",
        "y_pred = lreg.predict_classes(X)\n",
        "print(y_pred)"
      ],
      "metadata": {
        "colab": {
          "base_uri": "https://localhost:8080/"
        },
        "id": "f3t8clGLSUsa",
        "outputId": "588f4875-09d9-416c-a907-314966392472"
      },
      "execution_count": 194,
      "outputs": [
        {
          "output_type": "stream",
          "name": "stdout",
          "text": [
            "[0 0 1 0 2 1 1 1 1 0 0 2 2 2 1 0 1 2 2 2]\n",
            "[0 0 1 0 2 1 2 1 1 0 0 2 2 2 1 0 1 2 2 2]\n"
          ]
        }
      ]
    },
    {
      "cell_type": "code",
      "source": [
        "import seaborn as sns\n",
        "cm = metrics.confusion_matrix(y, y_pred)\n",
        "ax = sns.heatmap(cm, annot=True)\n",
        "ax.set_title(\"Confusion Matrix\")\n",
        "\n",
        "print(\"Accuracy Score:\", metrics.accuracy_score(y, y_pred))  \n",
        "#Create classification report\n",
        "class_report=classification_report(y, y_pred)\n",
        "print(class_report)\n"
      ],
      "metadata": {
        "colab": {
          "base_uri": "https://localhost:8080/",
          "height": 473
        },
        "id": "Mc4JI7b7SXMZ",
        "outputId": "7a503ac8-9362-4989-ffb5-1382e308ba1d"
      },
      "execution_count": 195,
      "outputs": [
        {
          "output_type": "stream",
          "name": "stdout",
          "text": [
            "Accuracy Score: 0.95\n",
            "              precision    recall  f1-score   support\n",
            "\n",
            "           0       1.00      1.00      1.00         6\n",
            "           1       1.00      0.86      0.92         7\n",
            "           2       0.88      1.00      0.93         7\n",
            "\n",
            "    accuracy                           0.95        20\n",
            "   macro avg       0.96      0.95      0.95        20\n",
            "weighted avg       0.96      0.95      0.95        20\n",
            "\n"
          ]
        },
        {
          "output_type": "display_data",
          "data": {
            "image/png": "[encoded data removed]",
            "text/plain": [
              "<Figure size 432x288 with 2 Axes>"
            ]
          },
          "metadata": {
            "needs_background": "light"
          }
        }
      ]
    }
  ]
}