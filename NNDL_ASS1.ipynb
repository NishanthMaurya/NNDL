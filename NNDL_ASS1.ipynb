{
  "nbformat": 4,
  "nbformat_minor": 0,
  "metadata": {
    "colab": {
      "name": "NNDL_ASS1.ipynb",
      "provenance": [],
      "collapsed_sections": []
    },
    "kernelspec": {
      "name": "python3",
      "display_name": "Python 3"
    }
  },
  "cells": [
    {
      "cell_type": "markdown",
      "source": [
        "#NNDL ASSIGNMENT-1\n",
        "#SUBMITTED BY- MOCHARLA NISHANTH MAURYA\n",
        "#ROLL NO.191EC226"
      ],
      "metadata": {
        "id": "UdCFjn8KHbps"
      }
    },
    {
      "cell_type": "code",
      "source": [
        "import numpy as np\n",
        "import matplotlib.pyplot as plt\n",
        "import math"
      ],
      "metadata": {
        "id": "U9xCchbT6iNL"
      },
      "execution_count": 10,
      "outputs": []
    },
    {
      "cell_type": "markdown",
      "source": [
        "Q.1(a)Write python code  for plotting the following activation functions for the input x in the range of -20  to 20. \n",
        "\n",
        "(a) Sigmoid      (b) TanH        (c) Softsign       (d) ReLU    (e) Softmax "
      ],
      "metadata": {
        "id": "Axe2rGRY5jAa"
      }
    },
    {
      "cell_type": "code",
      "source": [
        "x = np.arange(-20,21)\n",
        "print(x)"
      ],
      "metadata": {
        "colab": {
          "base_uri": "https://localhost:8080/"
        },
        "id": "_GJKi8CT5WE0",
        "outputId": "b7fbf6d8-0ed2-4348-d1ef-3573f7cae63e"
      },
      "execution_count": 11,
      "outputs": [
        {
          "output_type": "stream",
          "name": "stdout",
          "text": [
            "[-20 -19 -18 -17 -16 -15 -14 -13 -12 -11 -10  -9  -8  -7  -6  -5  -4  -3\n",
            "  -2  -1   0   1   2   3   4   5   6   7   8   9  10  11  12  13  14  15\n",
            "  16  17  18  19  20]\n"
          ]
        }
      ]
    },
    {
      "cell_type": "code",
      "source": [
        "def sigmoid(x):\n",
        "  sig = 1/(1+np.exp(-x))\n",
        "  return sig"
      ],
      "metadata": {
        "id": "zwcXez-E8WPN"
      },
      "execution_count": 12,
      "outputs": []
    },
    {
      "cell_type": "code",
      "source": [
        "plt.plot(x,sigmoid(x))"
      ],
      "metadata": {
        "colab": {
          "base_uri": "https://localhost:8080/",
          "height": 282
        },
        "id": "N846egh8_q5C",
        "outputId": "0908fac4-ddf5-407e-d016-e6768d64761d"
      },
      "execution_count": 7,
      "outputs": [
        {
          "output_type": "execute_result",
          "data": {
            "text/plain": [
              "[<matplotlib.lines.Line2D at 0x7f7fd463ca50>]"
            ]
          },
          "metadata": {},
          "execution_count": 7
        },
        {
          "output_type": "display_data",
          "data": {
            "image/png": "[encoded data removed]",
            "text/plain": [
              "<Figure size 432x288 with 1 Axes>"
            ]
          },
          "metadata": {
            "needs_background": "light"
          }
        }
      ]
    },
    {
      "cell_type": "code",
      "source": [
        "def tanh(x):\n",
        "    th = (np.exp(x)-np.exp(-x))/(np.exp(x)+np.exp(-x))\n",
        "    return th"
      ],
      "metadata": {
        "id": "HgVpM6HEBzEX"
      },
      "execution_count": 13,
      "outputs": []
    },
    {
      "cell_type": "code",
      "source": [
        "plt.plot(x,tanh(x))"
      ],
      "metadata": {
        "colab": {
          "base_uri": "https://localhost:8080/",
          "height": 282
        },
        "id": "xdt07DlCCd2-",
        "outputId": "d80df911-dd29-450d-eefd-b3082290b481"
      },
      "execution_count": 14,
      "outputs": [
        {
          "output_type": "execute_result",
          "data": {
            "text/plain": [
              "[<matplotlib.lines.Line2D at 0x7feaede30190>]"
            ]
          },
          "metadata": {},
          "execution_count": 14
        },
        {
          "output_type": "display_data",
          "data": {
            "image/png": "[encoded data removed]",
            "text/plain": [
              "<Figure size 432x288 with 1 Axes>"
            ]
          },
          "metadata": {
            "needs_background": "light"
          }
        }
      ]
    },
    {
      "cell_type": "code",
      "source": [
        "def softsign(x):\n",
        "    ss = x/(1+np.abs(x))\n",
        "    return ss"
      ],
      "metadata": {
        "id": "1tQgv_45DM9x"
      },
      "execution_count": 15,
      "outputs": []
    },
    {
      "cell_type": "code",
      "source": [
        "plt.plot(x,softsign(x))"
      ],
      "metadata": {
        "colab": {
          "base_uri": "https://localhost:8080/",
          "height": 282
        },
        "id": "9vyfnvKoEWfF",
        "outputId": "6a716de4-2532-49c8-8acc-853fa01b7439"
      },
      "execution_count": 16,
      "outputs": [
        {
          "output_type": "execute_result",
          "data": {
            "text/plain": [
              "[<matplotlib.lines.Line2D at 0x7feaedce7650>]"
            ]
          },
          "metadata": {},
          "execution_count": 16
        },
        {
          "output_type": "display_data",
          "data": {
            "image/png": "[encoded data removed]",
            "text/plain": [
              "<Figure size 432x288 with 1 Axes>"
            ]
          },
          "metadata": {
            "needs_background": "light"
          }
        }
      ]
    },
    {
      "cell_type": "code",
      "source": [
        "def reLU(x):\n",
        "   if x > 0 :\n",
        "     return x\n",
        "   else:\n",
        "     return 0"
      ],
      "metadata": {
        "id": "u0atWrABEyKw"
      },
      "execution_count": 17,
      "outputs": []
    },
    {
      "cell_type": "code",
      "source": [
        "reLU_out = [reLU(p) for p in x]"
      ],
      "metadata": {
        "id": "V7ADjC-7tJYI"
      },
      "execution_count": 18,
      "outputs": []
    },
    {
      "cell_type": "code",
      "source": [
        "plt.plot(x,reLU_out)"
      ],
      "metadata": {
        "colab": {
          "base_uri": "https://localhost:8080/",
          "height": 282
        },
        "id": "lc1VsVS4rpoY",
        "outputId": "da7b3d9b-1c7c-49c3-97b5-408320ae33cd"
      },
      "execution_count": 33,
      "outputs": [
        {
          "output_type": "execute_result",
          "data": {
            "text/plain": [
              "[<matplotlib.lines.Line2D at 0x7f7fd3a4e410>]"
            ]
          },
          "metadata": {},
          "execution_count": 33
        },
        {
          "output_type": "display_data",
          "data": {
            "image/png": "[encoded data removed]",
            "text/plain": [
              "<Figure size 432x288 with 1 Axes>"
            ]
          },
          "metadata": {
            "needs_background": "light"
          }
        }
      ]
    },
    {
      "cell_type": "code",
      "source": [
        "def softmax(x):\n",
        "  return np.exp(x)/np.exp(x).sum()"
      ],
      "metadata": {
        "id": "hK53tzyduCiL"
      },
      "execution_count": 19,
      "outputs": []
    },
    {
      "cell_type": "code",
      "source": [
        "plt.plot(x,softmax(x))"
      ],
      "metadata": {
        "colab": {
          "base_uri": "https://localhost:8080/",
          "height": 282
        },
        "id": "AnExNyMAwCg9",
        "outputId": "8c969c8c-9ed9-4fc8-8839-b647a70d015f"
      },
      "execution_count": 20,
      "outputs": [
        {
          "output_type": "execute_result",
          "data": {
            "text/plain": [
              "[<matplotlib.lines.Line2D at 0x7feaede29910>]"
            ]
          },
          "metadata": {},
          "execution_count": 20
        },
        {
          "output_type": "display_data",
          "data": {
            "image/png": "[encoded data removed]",
            "text/plain": [
              "<Figure size 432x288 with 1 Axes>"
            ]
          },
          "metadata": {
            "needs_background": "light"
          }
        }
      ]
    },
    {
      "cell_type": "markdown",
      "source": [
        "(b)Write python code for the derivative of the following activation functions and their plots for the input x  in the range of -20 to 20. \n",
        "\n",
        "(a) Sigmoid      (b) TanH        (c) Softsign       (d) ReLU "
      ],
      "metadata": {
        "id": "qTut-VxUxVes"
      }
    },
    {
      "cell_type": "code",
      "source": [
        "def dsigmoid(x):\n",
        "  sig = 1/(1+np.exp(-x))\n",
        "  return sig*(1-sig)"
      ],
      "metadata": {
        "id": "wojaXnFrxbUY"
      },
      "execution_count": 21,
      "outputs": []
    },
    {
      "cell_type": "code",
      "source": [
        "plt.plot(x,dsigmoid(x))"
      ],
      "metadata": {
        "colab": {
          "base_uri": "https://localhost:8080/",
          "height": 282
        },
        "id": "ZWyVgSphyu-2",
        "outputId": "8fffeb92-bed3-40ce-ceab-e9774ed38078"
      },
      "execution_count": 22,
      "outputs": [
        {
          "output_type": "execute_result",
          "data": {
            "text/plain": [
              "[<matplotlib.lines.Line2D at 0x7feaedd80d10>]"
            ]
          },
          "metadata": {},
          "execution_count": 22
        },
        {
          "output_type": "display_data",
          "data": {
            "image/png": "[encoded data removed]",
            "text/plain": [
              "<Figure size 432x288 with 1 Axes>"
            ]
          },
          "metadata": {
            "needs_background": "light"
          }
        }
      ]
    },
    {
      "cell_type": "code",
      "source": [
        "def dtanh(x):\n",
        "  dt = 4/pow(np.exp(x)+np.exp(-x),2)\n",
        "  return dt"
      ],
      "metadata": {
        "id": "xgplLoKwy8gc"
      },
      "execution_count": 23,
      "outputs": []
    },
    {
      "cell_type": "code",
      "source": [
        "plt.plot(x,dtanh(x))"
      ],
      "metadata": {
        "colab": {
          "base_uri": "https://localhost:8080/",
          "height": 282
        },
        "id": "nzVHaixQ2lpY",
        "outputId": "fa6637fc-2070-427a-c768-e45435b2ec11"
      },
      "execution_count": 24,
      "outputs": [
        {
          "output_type": "execute_result",
          "data": {
            "text/plain": [
              "[<matplotlib.lines.Line2D at 0x7feaede6e950>]"
            ]
          },
          "metadata": {},
          "execution_count": 24
        },
        {
          "output_type": "display_data",
          "data": {
            "image/png": "[encoded data removed]",
            "text/plain": [
              "<Figure size 432x288 with 1 Axes>"
            ]
          },
          "metadata": {
            "needs_background": "light"
          }
        }
      ]
    },
    {
      "cell_type": "code",
      "source": [
        "def dsoftsign(x):\n",
        "  ss = 1/pow((1+np.abs(x)),2)\n",
        "  return ss"
      ],
      "metadata": {
        "id": "mGQ4tzYD21rS"
      },
      "execution_count": 25,
      "outputs": []
    },
    {
      "cell_type": "code",
      "source": [
        "plt.plot(x,dsoftsign(x))"
      ],
      "metadata": {
        "colab": {
          "base_uri": "https://localhost:8080/",
          "height": 282
        },
        "id": "fLyf34Yf4cA5",
        "outputId": "99b40106-cdf1-4829-f6ff-7c35f7e77e1f"
      },
      "execution_count": 26,
      "outputs": [
        {
          "output_type": "execute_result",
          "data": {
            "text/plain": [
              "[<matplotlib.lines.Line2D at 0x7feaedec47d0>]"
            ]
          },
          "metadata": {},
          "execution_count": 26
        },
        {
          "output_type": "display_data",
          "data": {
            "image/png": "[encoded data removed]",
            "text/plain": [
              "<Figure size 432x288 with 1 Axes>"
            ]
          },
          "metadata": {
            "needs_background": "light"
          }
        }
      ]
    },
    {
      "cell_type": "code",
      "source": [
        "def dreLU(x):\n",
        "   if x > 0 :\n",
        "     return 1\n",
        "   else:\n",
        "     return 0"
      ],
      "metadata": {
        "id": "Thd1l6FC4xTw"
      },
      "execution_count": 27,
      "outputs": []
    },
    {
      "cell_type": "code",
      "source": [
        "dreLU_out = [dreLU(p) for p in x]"
      ],
      "metadata": {
        "id": "xfETQBI45CP_"
      },
      "execution_count": 28,
      "outputs": []
    },
    {
      "cell_type": "code",
      "source": [
        "plt.plot(x,dreLU_out)"
      ],
      "metadata": {
        "colab": {
          "base_uri": "https://localhost:8080/",
          "height": 282
        },
        "id": "mr7nhm6w5FlK",
        "outputId": "17424278-87d4-4f0f-b931-77d1f6791ad7"
      },
      "execution_count": 29,
      "outputs": [
        {
          "output_type": "execute_result",
          "data": {
            "text/plain": [
              "[<matplotlib.lines.Line2D at 0x7feaedc7a710>]"
            ]
          },
          "metadata": {},
          "execution_count": 29
        },
        {
          "output_type": "display_data",
          "data": {
            "image/png": "[encoded data removed]",
            "text/plain": [
              "<Figure size 432x288 with 1 Axes>"
            ]
          },
          "metadata": {
            "needs_background": "light"
          }
        }
      ]
    },
    {
      "cell_type": "markdown",
      "source": [
        "2)Assume we have a 2-input neuron and has the following parameters: w = [1, 1] ; b=2 .Write a python  code for calculating the feed-forward output of neural networks  by using  following activation functions  for input x=[4, 5].  \n",
        "\n",
        "(a) Sigmoid   (b) TanH  (c) Softsign   (d) ReLU  (e) Network output comparison with different activation  functions using Bar chart plot   (f) verify each result by analytical method "
      ],
      "metadata": {
        "id": "Kq_T7fmI5kmr"
      }
    },
    {
      "cell_type": "code",
      "source": [
        "w=np.array([1,1])\n",
        "b=2\n",
        "X=np.array([4,5])\n",
        "\n",
        "# (a) Sigmoid\n",
        "\n",
        "x=w.dot(X)+b\n",
        "y1=1/(1+np.exp(-x))\n",
        "y2=np.tanh(x)\n",
        "y3=x/(1+abs(x))\n",
        "y4=np.maximum(x,0)\n",
        "y5=np.exp(x)/np.sum(np.exp(x))\n",
        "\n",
        "print(\"Value for different Activation Functions : \")\n",
        "print(\"Sigmoid :\", y1)\n",
        "print(\"Tanh :\", y2)\n",
        "print(\"Softsign :\", y3)\n",
        "print(\"ReLU :\", y4)\n",
        "\n",
        "out=[y1,y2,y3,y4]\n",
        "x_names=[\"Sigmoid\",\"Tanh\",\"Softsign\",\"ReLU\"]\n",
        "fig, ax = plt.subplots()\n",
        "\n",
        "ax.bar(x_names, height = out)\n",
        "ax.set_title(\"FF Output\", fontsize=14)\n",
        "plt.show()"
      ],
      "metadata": {
        "colab": {
          "base_uri": "https://localhost:8080/",
          "height": 369
        },
        "id": "FD6I6LGT6bSv",
        "outputId": "5a277b88-f07d-42c5-981b-0a1cc49cd241"
      },
      "execution_count": 30,
      "outputs": [
        {
          "output_type": "stream",
          "name": "stdout",
          "text": [
            "Value for different Activation Functions : \n",
            "Sigmoid : 0.999983298578152\n",
            "Tanh : 0.9999999994421064\n",
            "Softsign : 0.9166666666666666\n",
            "ReLU : 11\n"
          ]
        },
        {
          "output_type": "display_data",
          "data": {
            "image/png": "[encoded data removed]",
            "text/plain": [
              "<Figure size 432x288 with 1 Axes>"
            ]
          },
          "metadata": {
            "needs_background": "light"
          }
        }
      ]
    },
    {
      "cell_type": "markdown",
      "source": [
        "$z = w*x + b = 1*4 + 1*5 + 2 = 11$\n",
        "\n",
        "#### Sigmoid function\n",
        "$f(z) = \\frac{1}{1+e^{-z}} = \\frac{1}{1+e^{-11}} = 0.999983299$\n",
        "#### Tanh function\n",
        "$f(z) = \\frac{1-e^{-2z}}{1+e^{-2z}} = \\frac{1-e^{-2*11}}{1+e^{-2*11}} = 0.999999999$ \n",
        "#### Softsign function\n",
        "$f(z) = \\frac{1}{1+|z|} = \\frac{1}{1+|11|} = 0.083333333$  \n",
        "#### ReLU\n",
        " $f(z) = \\left\\{\n",
        "  \\begin{array}{ll}\n",
        "  z & z \\geq 0 \\\\\n",
        "  0 & z < 0\n",
        "  \\end{array}\n",
        "  \\right.\n",
        "  $  \n",
        "  <br> <br>\n",
        "  $f(z) = z = 11$"
      ],
      "metadata": {
        "id": "CJOhA3jBFymH"
      }
    },
    {
      "cell_type": "markdown",
      "source": [
        "3)Write python code to compute the following Regression loss value for the given true output and  predicted output by network: \n",
        "\n",
        "# y_true = [11, 20,19,17,10,24,23]           ## Target or actual Value \n",
        "\n",
        "# y_pred =[12,18,19.5,18,9,23,24]         ## Predicted value by ANN model \n",
        "\n",
        "(a) MSE     (b) MAE  (c) MBE  (d) Huber Loss (e) Epsilon Hinge Loss  (d) Square Epsilon Hinge Loss \n",
        "\n",
        "(e)verify each loss value by analytical method "
      ],
      "metadata": {
        "id": "5ju4f1vv5vEx"
      }
    },
    {
      "cell_type": "code",
      "source": [
        "y_true = np.array([11, 20,19,17,10,24,23])\n",
        "y_pred = np.array([12,18,19.5,18,9,23,24])\n",
        "l=len(y_true)\n",
        "\n",
        "mse = np.sum((y_true-y_pred)**2)/l\n",
        "mae = np.sum(abs(y_true-y_pred))/l\n",
        "mbe = np.sum(y_pred-y_true)/l\n",
        "\n",
        "delta=1.0\n",
        "huber_mse = 0.5*(y_true-y_pred)**2\n",
        "huber_mae = delta * (np.abs(y_true - y_pred) - 0.5 * delta)\n",
        "huber_loss = np.where(np.abs(y_true - y_pred) <= delta, huber_mse, huber_mae)\n",
        "ehl = np.sum(np.maximum(0,y_pred-y_true-0.2))\n",
        "sehl = np.sum(np.maximum(0,(y_pred-y_true)**2-(0.2)**2))/2\n",
        "\n",
        "print(\"MSE :\",mse)\n",
        "print(\"MAE :\",mae)\n",
        "print(\"MBE :\",mbe)\n",
        "print(\"Huber :\",huber_loss)\n",
        "print(\"EHL :\",ehl)\n",
        "print(\"SEHL :\",sehl)"
      ],
      "metadata": {
        "colab": {
          "base_uri": "https://localhost:8080/"
        },
        "id": "0Z0iL2CM6cL0",
        "outputId": "2eb13b8e-c1f9-4590-a2dd-c287c67775ba"
      },
      "execution_count": 4,
      "outputs": [
        {
          "output_type": "stream",
          "name": "stdout",
          "text": [
            "MSE : 1.3214285714285714\n",
            "MAE : 1.0714285714285714\n",
            "MBE : -0.07142857142857142\n",
            "Huber : [0.5   1.5   0.125 0.5   0.5   0.5   0.5  ]\n",
            "EHL : 2.7\n",
            "SEHL : 4.484999999999999\n"
          ]
        }
      ]
    },
    {
      "cell_type": "code",
      "source": [
        "x_vals = np.arange(0,7,1)\n",
        "y_true = [11, 20, 19, 17, 10,24,23]           ## Target or actual Value\n",
        "y_pred = [12, 18, 19.5, 18, 9,23,24]     ## Predicted value by ANN model\n",
        "summation = 0       #variable to store the summation of differences\n",
        "n = len(y_true)         #finding total number of items in list\n",
        "diff=[] \n",
        "for i in range (n):  #looping through each element of the list\n",
        "    difference = y_pred[i]- y_true[i]  #finding the difference between observed and predicted value\n",
        "    # print(difference)\n",
        "#     diff.append(difference)\n",
        "    squared_difference = difference**2  #taking square of the differene \n",
        "    diff.append(squared_difference)\n",
        "    summation = summation + squared_difference  #taking a sum of all the differences\n",
        "MSE = summation/n  #dividing summation by total values to obtain average\n",
        "print(\"The Mean Square Error is: \" , MSE)\n",
        "print(\"predicted is: \", y_pred)\n",
        "print(\" True  is: \", y_true)\n",
        "print(\"The element-wise square-difference:\", diff)\n",
        "\n",
        "## Plotting\n",
        "plt.plot(x_vals,  y_true, \"red\")\n",
        "plt.grid(True, which=\"major\")\n",
        "plt.show()\n",
        "plt.plot(x_vals,  y_pred, \"green\")\n",
        "plt.grid(True, which=\"major\")\n",
        "plt.show()\n",
        "x_vals = np.arange(0,7,1)\n",
        "n1 = len(x_vals)\n",
        "print(n1)\n",
        "# y_vals =np.abs(diff) \n",
        "y_vals =diff \n",
        "print(diff)\n",
        "n2=len(y_vals)\n",
        "plt.plot(x_vals, y_vals, \"blue\")\n",
        "plt.grid(True, which=\"major\")\n",
        "plt.show()"
      ],
      "metadata": {
        "colab": {
          "base_uri": "https://localhost:8080/",
          "height": 865
        },
        "id": "XCdFLpGf-ncp",
        "outputId": "8de0fd35-fbeb-4bc5-820f-ad9cf0409a0d"
      },
      "execution_count": 6,
      "outputs": [
        {
          "output_type": "stream",
          "name": "stdout",
          "text": [
            "The Mean Square Error is:  1.3214285714285714\n",
            "predicted is:  [12, 18, 19.5, 18, 9, 23, 24]\n",
            " True  is:  [11, 20, 19, 17, 10, 24, 23]\n",
            "The element-wise square-difference: [1, 4, 0.25, 1, 1, 1, 1]\n"
          ]
        },
        {
          "output_type": "display_data",
          "data": {
            "image/png": "[encoded data removed]",
            "text/plain": [
              "<Figure size 432x288 with 1 Axes>"
            ]
          },
          "metadata": {
            "needs_background": "light"
          }
        },
        {
          "output_type": "display_data",
          "data": {
            "image/png": "[encoded data removed]",
            "text/plain": [
              "<Figure size 432x288 with 1 Axes>"
            ]
          },
          "metadata": {
            "needs_background": "light"
          }
        },
        {
          "output_type": "stream",
          "name": "stdout",
          "text": [
            "7\n",
            "[1, 4, 0.25, 1, 1, 1, 1]\n"
          ]
        },
        {
          "output_type": "display_data",
          "data": {
            "image/png": "[encoded data removed]",
            "text/plain": [
              "<Figure size 432x288 with 1 Axes>"
            ]
          },
          "metadata": {
            "needs_background": "light"
          }
        }
      ]
    },
    {
      "cell_type": "code",
      "source": [
        "x_vals = np.arange(0,7,1)\n",
        "y_true = [11, 20, 19, 17, 10,24,23]           ## Target or actual Value\n",
        "y_pred = [12, 18, 19.5, 18, 9,23,24]     ## Predicted value by ANN model\n",
        "summation = 0       #variable to store the summation of differences\n",
        "n = len(y_true)         #finding total number of items in list\n",
        "diff=[] \n",
        "for i in range (n):  #looping through each element of the list\n",
        "    difference = y_pred[i]-y_true[i]   #finding the difference between observed and predicted value\n",
        "    abs_error = np.abs(difference)  #taking square of the differene \n",
        "    diff.append(abs_error)\n",
        "    summation = summation + abs_error #taking a sum of all the differences\n",
        "MAE = summation/n  #dividing summation by total values to obtain average\n",
        "print(\"The Mean Absolute Error is: \" , MAE)\n",
        "print(\"predicted is: \", y_pred)\n",
        "print(\" True  is: \", y_true)\n",
        "print(\"The element-wise difference:\", diff)\n",
        "\n",
        "# Plotting the data\n",
        "plt.stem(x_vals,  y_true, \"red\")\n",
        "plt.grid(True, which=\"major\")\n",
        "plt.show()\n",
        "\n",
        "plt.stem(x_vals,  y_pred, \"green\")\n",
        "plt.grid(True, which=\"major\")\n",
        "plt.show()\n",
        "# Plotting loss function\n",
        "x_vals = np.arange(0,7,1)\n",
        "n1 = len(x_vals)\n",
        "print(n1)\n",
        "# y_vals =np.abs(diff) \n",
        "y_vals =diff \n",
        "print(diff)\n",
        "n2=len(y_vals)\n",
        "plt.stem(x_vals, y_vals, \"blue\")\n",
        "plt.grid(True, which=\"major\")\n",
        "plt.show()"
      ],
      "metadata": {
        "colab": {
          "base_uri": "https://localhost:8080/",
          "height": 943
        },
        "id": "WqWLZnWr_n62",
        "outputId": "40f69530-201a-44a4-b155-1a02259ed97d"
      },
      "execution_count": 32,
      "outputs": [
        {
          "output_type": "stream",
          "name": "stdout",
          "text": [
            "The Mean Absolute Error is:  1.0714285714285714\n",
            "predicted is:  [12, 18, 19.5, 18, 9, 23, 24]\n",
            " True  is:  [11, 20, 19, 17, 10, 24, 23]\n",
            "The element-wise difference: [1, 2, 0.5, 1, 1, 1, 1]\n"
          ]
        },
        {
          "output_type": "stream",
          "name": "stderr",
          "text": [
            "/usr/local/lib/python3.7/dist-packages/ipykernel_launcher.py:19: UserWarning: In Matplotlib 3.3 individual lines on a stem plot will be added as a LineCollection instead of individual lines. This significantly improves the performance of a stem plot. To remove this warning and switch to the new behaviour, set the \"use_line_collection\" keyword argument to True.\n"
          ]
        },
        {
          "output_type": "display_data",
          "data": {
            "image/png": "[encoded data removed]",
            "text/plain": [
              "<Figure size 432x288 with 1 Axes>"
            ]
          },
          "metadata": {
            "needs_background": "light"
          }
        },
        {
          "output_type": "stream",
          "name": "stderr",
          "text": [
            "/usr/local/lib/python3.7/dist-packages/ipykernel_launcher.py:23: UserWarning: In Matplotlib 3.3 individual lines on a stem plot will be added as a LineCollection instead of individual lines. This significantly improves the performance of a stem plot. To remove this warning and switch to the new behaviour, set the \"use_line_collection\" keyword argument to True.\n"
          ]
        },
        {
          "output_type": "display_data",
          "data": {
            "image/png": "[encoded data removed]",
            "text/plain": [
              "<Figure size 432x288 with 1 Axes>"
            ]
          },
          "metadata": {
            "needs_background": "light"
          }
        },
        {
          "output_type": "stream",
          "name": "stderr",
          "text": [
            "/usr/local/lib/python3.7/dist-packages/ipykernel_launcher.py:34: UserWarning: In Matplotlib 3.3 individual lines on a stem plot will be added as a LineCollection instead of individual lines. This significantly improves the performance of a stem plot. To remove this warning and switch to the new behaviour, set the \"use_line_collection\" keyword argument to True.\n"
          ]
        },
        {
          "output_type": "stream",
          "name": "stdout",
          "text": [
            "7\n",
            "[1, 2, 0.5, 1, 1, 1, 1]\n"
          ]
        },
        {
          "output_type": "display_data",
          "data": {
            "image/png": "[encoded data removed]",
            "text/plain": [
              "<Figure size 432x288 with 1 Axes>"
            ]
          },
          "metadata": {
            "needs_background": "light"
          }
        }
      ]
    },
    {
      "cell_type": "code",
      "source": [
        "x_vals = np.arange(0,7,1)\n",
        "y_true = [11, 20, 19, 17, 10,24,23]           ## Target or actual Value\n",
        "y_pred = [12, 18, 19.5, 18, 9,23,24]     ## Predicted value by ANN model\n",
        "\n",
        "summation = 0     #variable to store the summation of differences\n",
        "n = len(y_true)   #finding total number of items in list\n",
        "diff=[] \n",
        "delta=1.0\n",
        "for i in range (n):  #looping through each element of the list\n",
        "    huber_mse = 0.5*(y_true[i]-y_pred[i])**2\n",
        "    huber_mae = delta * (np.abs(y_true[i] - y_pred[i]) - 0.5 * delta)\n",
        "    loss=np.where(np.abs(y_true[i] - y_pred[i]) <= delta, huber_mse, huber_mae)\n",
        "#     abs_error = np.abs(difference)  #taking square of the differene \n",
        "    diff.append(loss)\n",
        "    summation = summation + loss  #taking a sum of all the differences\n",
        "HL = summation/n  #dividing summation by total values to obtain average\n",
        "print(\"The Huber loss is: \" , HL)\n",
        "print(\"predicted is: \", y_pred)\n",
        "print(\" True  is: \", y_true)\n",
        "print(\"The huber loss element-wise :\", diff)\n",
        "\n",
        "#ploting  data\n",
        "plt.stem(x_vals,  y_true, \"red\")\n",
        "plt.grid(True, which=\"major\")\n",
        "plt.show()\n",
        "plt.stem(x_vals,  y_pred, \"green\")\n",
        "plt.grid(True, which=\"major\")\n",
        "plt.show()\n",
        "\n",
        "# Plotting loss function\n",
        "x_vals = np.arange(0,7,1)\n",
        "n1 = len(x_vals)\n",
        "print(n1)\n",
        "# y_vals =np.abs(diff) \n",
        "y_vals =diff \n",
        "print(diff)\n",
        "n2=len(y_vals)\n",
        "plt.stem(x_vals, y_vals, \"blue\")\n",
        "plt.grid(True, which=\"major\")\n",
        "plt.show()  "
      ],
      "metadata": {
        "colab": {
          "base_uri": "https://localhost:8080/",
          "height": 943
        },
        "id": "9FmvvM4B_uRE",
        "outputId": "821ba44b-58e5-4993-bee2-c22b4314be57"
      },
      "execution_count": 33,
      "outputs": [
        {
          "output_type": "stream",
          "name": "stdout",
          "text": [
            "The Huber loss is:  0.5892857142857143\n",
            "predicted is:  [12, 18, 19.5, 18, 9, 23, 24]\n",
            " True  is:  [11, 20, 19, 17, 10, 24, 23]\n",
            "The huber loss element-wise : [array(0.5), array(1.5), array(0.125), array(0.5), array(0.5), array(0.5), array(0.5)]\n"
          ]
        },
        {
          "output_type": "stream",
          "name": "stderr",
          "text": [
            "/usr/local/lib/python3.7/dist-packages/ipykernel_launcher.py:23: UserWarning: In Matplotlib 3.3 individual lines on a stem plot will be added as a LineCollection instead of individual lines. This significantly improves the performance of a stem plot. To remove this warning and switch to the new behaviour, set the \"use_line_collection\" keyword argument to True.\n"
          ]
        },
        {
          "output_type": "display_data",
          "data": {
            "image/png": "[encoded data removed]",
            "text/plain": [
              "<Figure size 432x288 with 1 Axes>"
            ]
          },
          "metadata": {
            "needs_background": "light"
          }
        },
        {
          "output_type": "stream",
          "name": "stderr",
          "text": [
            "/usr/local/lib/python3.7/dist-packages/ipykernel_launcher.py:26: UserWarning: In Matplotlib 3.3 individual lines on a stem plot will be added as a LineCollection instead of individual lines. This significantly improves the performance of a stem plot. To remove this warning and switch to the new behaviour, set the \"use_line_collection\" keyword argument to True.\n"
          ]
        },
        {
          "output_type": "display_data",
          "data": {
            "image/png": "[encoded data removed]",
            "text/plain": [
              "<Figure size 432x288 with 1 Axes>"
            ]
          },
          "metadata": {
            "needs_background": "light"
          }
        },
        {
          "output_type": "stream",
          "name": "stderr",
          "text": [
            "/usr/local/lib/python3.7/dist-packages/ipykernel_launcher.py:38: UserWarning: In Matplotlib 3.3 individual lines on a stem plot will be added as a LineCollection instead of individual lines. This significantly improves the performance of a stem plot. To remove this warning and switch to the new behaviour, set the \"use_line_collection\" keyword argument to True.\n"
          ]
        },
        {
          "output_type": "stream",
          "name": "stdout",
          "text": [
            "7\n",
            "[array(0.5), array(1.5), array(0.125), array(0.5), array(0.5), array(0.5), array(0.5)]\n"
          ]
        },
        {
          "output_type": "display_data",
          "data": {
            "image/png": "[encoded data removed]",
            "text/plain": [
              "<Figure size 432x288 with 1 Axes>"
            ]
          },
          "metadata": {
            "needs_background": "light"
          }
        }
      ]
    },
    {
      "cell_type": "markdown",
      "source": [
        "$mse = \\frac{1}{m} \\sum_{i = 1}^{m} (y_{pred} - y_{true})^2 \\\\\n",
        "         ~~~~~~~~~~= \\frac{1}{7} * \\{(12 - 11)^2 + (18 - 20)^2 + (19.5 - 19)^2 + (18 - 17)^2 + (9 - 10)^2 + (23 - 24)^2 + (24 - 23)^2\\} \\\\\n",
        "         ~~~~~~~~~~= 1.321428574\n",
        "$\n",
        "\n",
        "$mae = \\frac{1}{m} \\sum_{i = 1}^{m} |y_{pred} - y_{true}| \\\\\n",
        "         ~~~~~~~~~~= \\frac{1}{7} * \\{|12 - 11| + |18 - 20| + |19.5 - 19| + |18 - 17| + |9 - 10| + |23 - 24| + |24 - 23|\\} \\\\\n",
        "         ~~~~~~~~~~= 1.0714285714\n",
        "$\n",
        "\n",
        "$mbe = \\frac{1}{m} \\sum_{i = 1}^{m} (y_{pred} - y_{true}) \\\\\n",
        "         ~~~~~~~~~~= \\frac{1}{7} * \\{(12 - 11) + (18 - 20) + (19.5 - 19) + (18 - 17) + (9 - 10) + (23 - 24) + (24 - 23)\\} \\\\\n",
        "         ~~~~~~~~~~= -0.071428571\n",
        "$\n",
        "\n",
        "$Huber Loss = \\frac{1}{m} \\sum_{i = 1}^{m} L(y_{true}, y_{pred}) ~ where, \\\\\n",
        "L(y_{true}, y_{pred}) = \\left\\{\n",
        "  \\begin{array}{ll}\n",
        "  \\frac{1}{2} (y_{true} - y_{pred})^{2} & |y_{true} - y_{pred}| \\leq \\delta \\\\\n",
        "  \\delta (|y_{true} - y_{pred}| - \\frac{\\delta}{2}) & otherwise\n",
        "  \\end{array}\n",
        "  \\right.\n",
        "$\n",
        "\n",
        "$Huber Loss = \\frac{1}{7}*(0.5 + 1.5 + 0.125 + 0.5 + 0.5 + 0.5 + 0.5) \\\\\n",
        "                ~~~~~~~~~~= 0.5892857142\n",
        "$\n",
        "\n",
        "$EHL = \\frac{1}{7} * [\\max \\{0, |12 - 11| - 0.2\\} + \\max \\{0, |18 - 20| - 0.2\\} + \\max \\{0, |19.5 - 19| - 0.2\\} + \\max \\{0, |18 - 17| - 0.2\\} + \\max \\{0, |9 - 10| - 0.2\\} + \\max \\{0, |24 - 23| - 0.2\\} + \\max \\{0, |23 - 24| - 0.2\\}]\n",
        "        ~~~~~~~~~~= 2.37\n",
        "$\n",
        "\n",
        "$SEHL = \\frac{1}{7} * [\\max \\{0, |12 - 11|^2 - 0.2^2\\} + \\max \\{0, |18 - 20|^2 - 0.2^2\\} + \\max \\{0, |19.5 - 19|^2 - 0.2^2\\} + \\max \\{0, |18 - 17|^2 - 0.2^2\\} + \\max \\{0, |9 - 10|^2 - 0.2^2\\} + \\max \\{0, |24 - 23|^2 - 0.2^2\\} + \\max \\{0, |23 - 24|^2 - 0.2^2\\}]\n",
        "        ~~~~~~~~~~= 1.7862\n",
        "$"
      ],
      "metadata": {
        "id": "QS-_n4iSGCK9"
      }
    },
    {
      "cell_type": "markdown",
      "source": [
        "4)Write python code to compute the values of following Binary classification functions for the given  true output and predicted output by network: \n",
        "\n",
        "y_pred = [0.99, 0.11, 0.11, 0.99, 0.11, 0.11, 0.99, 0.99, 0.99, 0.11, 0.99, 0.99, 0.11, 0.99, 0.99] ## Predicted value by ANN model \n",
        "\n",
        "y_true    = [1, 1, 0, 1, 0, 0, 1, 0, 0, 0, 1, 1, 0, 0, 1]                      ## Target or actual Value \n",
        "\n",
        " (a) Binary cross entropy loss (b) Jaccard Loss (c) Dice loss (d) verify each loss value by analytical \n",
        "\n",
        "method "
      ],
      "metadata": {
        "id": "BA4NZ1xk54bZ"
      }
    },
    {
      "cell_type": "code",
      "source": [
        "y_pred = np.array([0.99, 0.11, 0.11, 0.99, 0.11, 0.11, 0.99, 0.99, 0.99, 0.11, 0.99, 0.99, 0.11, 0.99, 0.99])\n",
        "y_true = np.array([1, 1, 0, 1, 0, 0, 1, 0, 0, 0, 1, 1, 0, 0, 1])\n",
        "l=len(y_true)\n",
        "y_an = [1 if i > 0.5 else 0 for i in y_pred]\n",
        "bce = -np.sum((y_true*(np.log(y_pred))+(1-y_true)*np.log(1-y_pred)))/l\n",
        "\n",
        "# For Jaccard & Dice Loss :- \n",
        "\n",
        "i = (y_pred*y_true).sum()\n",
        "tot = (y_pred+y_true).sum()\n",
        "u=tot-i\n",
        "iou = i/u\n",
        "jaccard = 1-iou\n",
        "dice = 1 - 2*i/tot\n",
        "\n",
        "# Jaccard & Dice over\n",
        "\n",
        "print(\"Binary Cross Entropy Loss :\", bce)\n",
        "print(\"Jaccard Loss :\", jaccard)\n",
        "print(\"Dice Loss: \",dice)"
      ],
      "metadata": {
        "colab": {
          "base_uri": "https://localhost:8080/"
        },
        "id": "YMJlbExb6dQD",
        "outputId": "9709c1d5-e8b3-42c3-bc50-3d759a993e66"
      },
      "execution_count": 34,
      "outputs": [
        {
          "output_type": "stream",
          "name": "stdout",
          "text": [
            "Binary Cross Entropy Loss : 1.111050437836984\n",
            "Jaccard Loss : 0.4249049429657794\n",
            "Dice Loss:  0.2697646348823174\n"
          ]
        }
      ]
    },
    {
      "cell_type": "markdown",
      "source": [
        "$bce = -\\frac{1}{m} \\sum_{i = 1}^{m} \\{y_{true}^{(i)} * log(y_{pred}^{(i)}) + (1 - y_{true}^{(i)}) * log(1 - y_{pred}^{(i)})\\} \\\\\n",
        "= \\frac{1}{15} * [\\{1 * log(0.99) + (1 - 1) * log( 1 - 0.99)\\} + \\{1 * log(0.11) + (1 - 1) * log( 1 - 0.11)\\} + \\{0 * log(0.11) + (1 - 0) * log( 1 - 0.11)\\} + \\{1 * log(0.99) + (1 - 1) * log( 1 - 0.99)\\} + \\{0 * log(0.11) + (1 - 0) * log( 1 - 0.11)\\} + \\{0 * log(0.11) + (1 - 0) * log( 1 - 0.11)\\} + \\{1 * log(0.99) + (1 - 1) * log( 1 - 0.99)\\} + \\{0 * log(0.99) + (1 - 0) * log( 1 - 0.99)\\} + \\{0 * log(0.99) + (1 - 0) * log( 1 - 0.99)\\} + \\{0 * log(0.11) + (1 - 0) * log( 1 - 0.11)\\} + \\{1 * log(0.99) + (1 - 1) * log( 1 - 0.99)\\} + \\{1 * log(0.99) + (1 - 1) * log( 1 - 0.99)\\} + \\{0 * log(0.11) + (1 - 0) * log( 1 - 0.11)\\} + \\{0 * log(0.99) + (1 - 0) * log( 1 - 0.99)\\} + \\{1 * log(0.99) + (1 - 1) * log( 1 - 0.99)\\}] \\\\\n",
        "= 1.111050437836984\n",
        "$\n",
        "\n",
        "$i = (1*0.99) + (1*0.99) + (0*0.01) + (1*0.99) + (0*0.01) + (0*0.01) + (1*0.99) + (0*0.01) + (0*0.01) + (0*0.01) + (1*0.99) + (1*0.99) + (0*0.01) + (0*0.01) + (1*0.99) \\\\\n",
        "    ~~~~~~~~= 6.050000000000001 \\\\\n",
        "$\n",
        "\n",
        "$tot = (1+0.99) + (1+0.99) + (0+0.01) + (1+0.99) + (0+0.01) + (0+0.01) + (1+0.99) + (0+0.01) + (0+0.01) + (0+0.01) + (1+0.99) + (1+0.99) + (0+0.01) + (0+0.01) + (1+0.99) \\\\\n",
        "    ~~~~~~~~=  16.57\\\\\n",
        "$\n",
        "\n",
        "$jaccard index(iou) = \\frac{i}{tot-i} \\\\\n",
        "    ~~~~~~~~= 0.5750950570342206\\\\\n",
        "$\n",
        "\n",
        "$jaccard = 1 - jaccard index(iou) \\\\\n",
        "    ~~~~~~~~= 0.4249049429657794\\\\\n",
        "$\n",
        "\n",
        "$dice = 1 - \\frac{2*i}{tot}\\\\\n",
        "    ~~~~~~~~= 0.2697646348823174 \\\\\n",
        "$"
      ],
      "metadata": {
        "id": "jV7wG8TnGOxr"
      }
    },
    {
      "cell_type": "markdown",
      "source": [
        "5)Let us consider the given data points (X, Y): (1, 1), (2,1), (3,2), (4,2), (5,4) and the equation of the line passing through origin  Y=0.7*X - 0.1.  \n",
        "\n",
        "(i) Plot the graph between X and Y using Python coding    (ii) Calculate the predicted output using above mentioned line equation using Python coding and verify the results with analytical method. \n",
        "\n",
        "(iii) Calculate the MSE value using Python coding and verify the value with the analytical method. \n",
        "\n",
        "(iv) Plot the regression line with Python coding"
      ],
      "metadata": {
        "id": "Z7pwnKvg6PXU"
      }
    },
    {
      "cell_type": "code",
      "source": [
        "arr=np.array([(1, 1), (2,1), (3,2), (4,2), (5,4)])\n",
        "x = arr[:,0]\n",
        "y = arr[:,1]\n",
        "print(x,y)\n",
        "li = [0.7*p-0.1  for p in range(7) ] "
      ],
      "metadata": {
        "colab": {
          "base_uri": "https://localhost:8080/"
        },
        "id": "knAQEmNZ6dsd",
        "outputId": "6202161a-83e7-4eea-c68d-decfbba11dfb"
      },
      "execution_count": 38,
      "outputs": [
        {
          "output_type": "stream",
          "name": "stdout",
          "text": [
            "[1 2 3 4 5] [1 1 2 2 4]\n"
          ]
        }
      ]
    },
    {
      "cell_type": "code",
      "source": [
        "plt.scatter(x,y)\n",
        "plt.plot(range(7),li,'r')"
      ],
      "metadata": {
        "colab": {
          "base_uri": "https://localhost:8080/",
          "height": 282
        },
        "id": "Tr2HQjY5AYWe",
        "outputId": "f2c6500d-e14e-4969-fe50-1afb9ac4a90a"
      },
      "execution_count": 39,
      "outputs": [
        {
          "output_type": "execute_result",
          "data": {
            "text/plain": [
              "[<matplotlib.lines.Line2D at 0x7feaedb8b490>]"
            ]
          },
          "metadata": {},
          "execution_count": 39
        },
        {
          "output_type": "display_data",
          "data": {
            "image/png": "[encoded data removed]",
            "text/plain": [
              "<Figure size 432x288 with 1 Axes>"
            ]
          },
          "metadata": {
            "needs_background": "light"
          }
        }
      ]
    },
    {
      "cell_type": "markdown",
      "source": [
        ""
      ],
      "metadata": {
        "id": "TxGLybVeHYlP"
      }
    },
    {
      "cell_type": "code",
      "source": [
        "y_predicted = [0.7*i-0.1  for i in x ] \n",
        "print(y_predicted)"
      ],
      "metadata": {
        "colab": {
          "base_uri": "https://localhost:8080/"
        },
        "id": "n9PuF1EWAc6g",
        "outputId": "e416f57d-170e-4e01-fb70-30174bfd4341"
      },
      "execution_count": 40,
      "outputs": [
        {
          "output_type": "stream",
          "name": "stdout",
          "text": [
            "[0.6, 1.2999999999999998, 1.9999999999999996, 2.6999999999999997, 3.4]\n"
          ]
        }
      ]
    },
    {
      "cell_type": "code",
      "source": [
        "from sklearn import linear_model\n",
        "regx=[0,1,2,3,4,5,6]\n",
        "Regx=np.array(regx)\n",
        "reg_line = linear_model.LinearRegression()\n",
        "reg_line.fit(Regx.reshape(-1,1),li)\n",
        "regression_line=reg_line.predict(Regx.reshape(-1,1))\n",
        "plt.title(\"regression line\")\n",
        "plt.plot(Regx,regression_line)"
      ],
      "metadata": {
        "colab": {
          "base_uri": "https://localhost:8080/",
          "height": 298
        },
        "id": "vGW_ni5CArpc",
        "outputId": "b95275e4-8daa-4b86-f28d-40bb7c792fb4"
      },
      "execution_count": 43,
      "outputs": [
        {
          "output_type": "execute_result",
          "data": {
            "text/plain": [
              "[<matplotlib.lines.Line2D at 0x7fead63b3c90>]"
            ]
          },
          "metadata": {},
          "execution_count": 43
        },
        {
          "output_type": "display_data",
          "data": {
            "image/png": "[encoded data removed]",
            "text/plain": [
              "<Figure size 432x288 with 1 Axes>"
            ]
          },
          "metadata": {
            "needs_background": "light"
          }
        }
      ]
    },
    {
      "cell_type": "code",
      "source": [
        "plt.scatter(x,y)\n",
        "plt.plot(range(7),li,'r')\n",
        "plt.scatter(x,y_predicted,color='black')"
      ],
      "metadata": {
        "colab": {
          "base_uri": "https://localhost:8080/",
          "height": 282
        },
        "id": "iy0YIsuPAv_H",
        "outputId": "b9c9aa7f-f4f3-43fd-8b2e-5cbb2fead3fe"
      },
      "execution_count": 44,
      "outputs": [
        {
          "output_type": "execute_result",
          "data": {
            "text/plain": [
              "<matplotlib.collections.PathCollection at 0x7fead6320990>"
            ]
          },
          "metadata": {},
          "execution_count": 44
        },
        {
          "output_type": "display_data",
          "data": {
            "image/png": "[encoded data removed]",
            "text/plain": [
              "<Figure size 432x288 with 1 Axes>"
            ]
          },
          "metadata": {
            "needs_background": "light"
          }
        }
      ]
    }
  ]
}